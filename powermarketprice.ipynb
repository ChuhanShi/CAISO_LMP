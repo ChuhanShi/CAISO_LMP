{
 "cells": [
  {
   "cell_type": "markdown",
   "id": "7929ca74",
   "metadata": {},
   "source": [
    "# Power Market Price Time Series\n",
    "\n",
    "## Import (Library and Data) "
   ]
  },
  {
   "cell_type": "code",
   "execution_count": null,
   "id": "2924fdba",
   "metadata": {},
   "outputs": [],
   "source": [
    "import pandas as pd\n",
    "import numpy as np\n",
    "import seaborn as sns\n",
    "import matplotlib.pyplot as plt\n",
    "\n",
    "from statsmodels.tsa.seasonal import seasonal_decompose\n",
    "\n",
    "\n",
    "from sklearn.pipeline import Pipeline\n",
    "from sklearn.model_selection import train_test_split, GridSearchCV\n",
    "from sklearn.impute import SimpleImputer\n",
    "from sklearn.compose import ColumnTransformer\n",
    "from sklearn.preprocessing import OneHotEncoder, StandardScaler\n",
    "from sklearn.decomposition import PCA\n",
    "from sklearn.cluster import KMeans\n",
    "from sklearn.metrics import mean_squared_error\n",
    "from sklearn.metrics.pairwise import cosine_similarity\n",
    "from sklearn.linear_model import LogisticRegression\n",
    "from sklearn.neural_network import MLPRegressor\n",
    "from sklearn.neighbors import KNeighborsRegressor\n",
    "from sklearn.tree import DecisionTreeRegressor\n",
    "from sklearn.ensemble import RandomForestRegressor, AdaBoostRegressor, VotingRegressor\n",
    "from sklearn.naive_bayes import GaussianNB\n",
    "from sklearn.svm import SVR"
   ]
  },
  {
   "cell_type": "code",
   "execution_count": null,
   "id": "d0cadb2e",
   "metadata": {},
   "outputs": [
    {
     "ename": "FileNotFoundError",
     "evalue": "[Errno 2] No such file or directory: 'data/power_prices.csv'",
     "output_type": "error",
     "traceback": [
      "\u001b[0;31m---------------------------------------------------------------------------\u001b[0m",
      "\u001b[0;31mFileNotFoundError\u001b[0m                         Traceback (most recent call last)",
      "Cell \u001b[0;32mIn[106], line 2\u001b[0m\n\u001b[1;32m      1\u001b[0m \u001b[38;5;66;03m# Load the dataset\u001b[39;00m\n\u001b[0;32m----> 2\u001b[0m df \u001b[38;5;241m=\u001b[39m pd\u001b[38;5;241m.\u001b[39mread_csv(\u001b[38;5;124m\"\u001b[39m\u001b[38;5;124mdata/power_prices.csv\u001b[39m\u001b[38;5;124m\"\u001b[39m)\n\u001b[1;32m      3\u001b[0m \u001b[38;5;66;03m# df = pd.DataFrame(df)\u001b[39;00m\n\u001b[1;32m      5\u001b[0m df\u001b[38;5;241m.\u001b[39minfo()\n",
      "File \u001b[0;32m/opt/anaconda3/envs/SI/lib/python3.12/site-packages/pandas/io/parsers/readers.py:1026\u001b[0m, in \u001b[0;36mread_csv\u001b[0;34m(filepath_or_buffer, sep, delimiter, header, names, index_col, usecols, dtype, engine, converters, true_values, false_values, skipinitialspace, skiprows, skipfooter, nrows, na_values, keep_default_na, na_filter, verbose, skip_blank_lines, parse_dates, infer_datetime_format, keep_date_col, date_parser, date_format, dayfirst, cache_dates, iterator, chunksize, compression, thousands, decimal, lineterminator, quotechar, quoting, doublequote, escapechar, comment, encoding, encoding_errors, dialect, on_bad_lines, delim_whitespace, low_memory, memory_map, float_precision, storage_options, dtype_backend)\u001b[0m\n\u001b[1;32m   1013\u001b[0m kwds_defaults \u001b[38;5;241m=\u001b[39m _refine_defaults_read(\n\u001b[1;32m   1014\u001b[0m     dialect,\n\u001b[1;32m   1015\u001b[0m     delimiter,\n\u001b[0;32m   (...)\u001b[0m\n\u001b[1;32m   1022\u001b[0m     dtype_backend\u001b[38;5;241m=\u001b[39mdtype_backend,\n\u001b[1;32m   1023\u001b[0m )\n\u001b[1;32m   1024\u001b[0m kwds\u001b[38;5;241m.\u001b[39mupdate(kwds_defaults)\n\u001b[0;32m-> 1026\u001b[0m \u001b[38;5;28;01mreturn\u001b[39;00m _read(filepath_or_buffer, kwds)\n",
      "File \u001b[0;32m/opt/anaconda3/envs/SI/lib/python3.12/site-packages/pandas/io/parsers/readers.py:620\u001b[0m, in \u001b[0;36m_read\u001b[0;34m(filepath_or_buffer, kwds)\u001b[0m\n\u001b[1;32m    617\u001b[0m _validate_names(kwds\u001b[38;5;241m.\u001b[39mget(\u001b[38;5;124m\"\u001b[39m\u001b[38;5;124mnames\u001b[39m\u001b[38;5;124m\"\u001b[39m, \u001b[38;5;28;01mNone\u001b[39;00m))\n\u001b[1;32m    619\u001b[0m \u001b[38;5;66;03m# Create the parser.\u001b[39;00m\n\u001b[0;32m--> 620\u001b[0m parser \u001b[38;5;241m=\u001b[39m TextFileReader(filepath_or_buffer, \u001b[38;5;241m*\u001b[39m\u001b[38;5;241m*\u001b[39mkwds)\n\u001b[1;32m    622\u001b[0m \u001b[38;5;28;01mif\u001b[39;00m chunksize \u001b[38;5;129;01mor\u001b[39;00m iterator:\n\u001b[1;32m    623\u001b[0m     \u001b[38;5;28;01mreturn\u001b[39;00m parser\n",
      "File \u001b[0;32m/opt/anaconda3/envs/SI/lib/python3.12/site-packages/pandas/io/parsers/readers.py:1620\u001b[0m, in \u001b[0;36mTextFileReader.__init__\u001b[0;34m(self, f, engine, **kwds)\u001b[0m\n\u001b[1;32m   1617\u001b[0m     \u001b[38;5;28mself\u001b[39m\u001b[38;5;241m.\u001b[39moptions[\u001b[38;5;124m\"\u001b[39m\u001b[38;5;124mhas_index_names\u001b[39m\u001b[38;5;124m\"\u001b[39m] \u001b[38;5;241m=\u001b[39m kwds[\u001b[38;5;124m\"\u001b[39m\u001b[38;5;124mhas_index_names\u001b[39m\u001b[38;5;124m\"\u001b[39m]\n\u001b[1;32m   1619\u001b[0m \u001b[38;5;28mself\u001b[39m\u001b[38;5;241m.\u001b[39mhandles: IOHandles \u001b[38;5;241m|\u001b[39m \u001b[38;5;28;01mNone\u001b[39;00m \u001b[38;5;241m=\u001b[39m \u001b[38;5;28;01mNone\u001b[39;00m\n\u001b[0;32m-> 1620\u001b[0m \u001b[38;5;28mself\u001b[39m\u001b[38;5;241m.\u001b[39m_engine \u001b[38;5;241m=\u001b[39m \u001b[38;5;28mself\u001b[39m\u001b[38;5;241m.\u001b[39m_make_engine(f, \u001b[38;5;28mself\u001b[39m\u001b[38;5;241m.\u001b[39mengine)\n",
      "File \u001b[0;32m/opt/anaconda3/envs/SI/lib/python3.12/site-packages/pandas/io/parsers/readers.py:1880\u001b[0m, in \u001b[0;36mTextFileReader._make_engine\u001b[0;34m(self, f, engine)\u001b[0m\n\u001b[1;32m   1878\u001b[0m     \u001b[38;5;28;01mif\u001b[39;00m \u001b[38;5;124m\"\u001b[39m\u001b[38;5;124mb\u001b[39m\u001b[38;5;124m\"\u001b[39m \u001b[38;5;129;01mnot\u001b[39;00m \u001b[38;5;129;01min\u001b[39;00m mode:\n\u001b[1;32m   1879\u001b[0m         mode \u001b[38;5;241m+\u001b[39m\u001b[38;5;241m=\u001b[39m \u001b[38;5;124m\"\u001b[39m\u001b[38;5;124mb\u001b[39m\u001b[38;5;124m\"\u001b[39m\n\u001b[0;32m-> 1880\u001b[0m \u001b[38;5;28mself\u001b[39m\u001b[38;5;241m.\u001b[39mhandles \u001b[38;5;241m=\u001b[39m get_handle(\n\u001b[1;32m   1881\u001b[0m     f,\n\u001b[1;32m   1882\u001b[0m     mode,\n\u001b[1;32m   1883\u001b[0m     encoding\u001b[38;5;241m=\u001b[39m\u001b[38;5;28mself\u001b[39m\u001b[38;5;241m.\u001b[39moptions\u001b[38;5;241m.\u001b[39mget(\u001b[38;5;124m\"\u001b[39m\u001b[38;5;124mencoding\u001b[39m\u001b[38;5;124m\"\u001b[39m, \u001b[38;5;28;01mNone\u001b[39;00m),\n\u001b[1;32m   1884\u001b[0m     compression\u001b[38;5;241m=\u001b[39m\u001b[38;5;28mself\u001b[39m\u001b[38;5;241m.\u001b[39moptions\u001b[38;5;241m.\u001b[39mget(\u001b[38;5;124m\"\u001b[39m\u001b[38;5;124mcompression\u001b[39m\u001b[38;5;124m\"\u001b[39m, \u001b[38;5;28;01mNone\u001b[39;00m),\n\u001b[1;32m   1885\u001b[0m     memory_map\u001b[38;5;241m=\u001b[39m\u001b[38;5;28mself\u001b[39m\u001b[38;5;241m.\u001b[39moptions\u001b[38;5;241m.\u001b[39mget(\u001b[38;5;124m\"\u001b[39m\u001b[38;5;124mmemory_map\u001b[39m\u001b[38;5;124m\"\u001b[39m, \u001b[38;5;28;01mFalse\u001b[39;00m),\n\u001b[1;32m   1886\u001b[0m     is_text\u001b[38;5;241m=\u001b[39mis_text,\n\u001b[1;32m   1887\u001b[0m     errors\u001b[38;5;241m=\u001b[39m\u001b[38;5;28mself\u001b[39m\u001b[38;5;241m.\u001b[39moptions\u001b[38;5;241m.\u001b[39mget(\u001b[38;5;124m\"\u001b[39m\u001b[38;5;124mencoding_errors\u001b[39m\u001b[38;5;124m\"\u001b[39m, \u001b[38;5;124m\"\u001b[39m\u001b[38;5;124mstrict\u001b[39m\u001b[38;5;124m\"\u001b[39m),\n\u001b[1;32m   1888\u001b[0m     storage_options\u001b[38;5;241m=\u001b[39m\u001b[38;5;28mself\u001b[39m\u001b[38;5;241m.\u001b[39moptions\u001b[38;5;241m.\u001b[39mget(\u001b[38;5;124m\"\u001b[39m\u001b[38;5;124mstorage_options\u001b[39m\u001b[38;5;124m\"\u001b[39m, \u001b[38;5;28;01mNone\u001b[39;00m),\n\u001b[1;32m   1889\u001b[0m )\n\u001b[1;32m   1890\u001b[0m \u001b[38;5;28;01massert\u001b[39;00m \u001b[38;5;28mself\u001b[39m\u001b[38;5;241m.\u001b[39mhandles \u001b[38;5;129;01mis\u001b[39;00m \u001b[38;5;129;01mnot\u001b[39;00m \u001b[38;5;28;01mNone\u001b[39;00m\n\u001b[1;32m   1891\u001b[0m f \u001b[38;5;241m=\u001b[39m \u001b[38;5;28mself\u001b[39m\u001b[38;5;241m.\u001b[39mhandles\u001b[38;5;241m.\u001b[39mhandle\n",
      "File \u001b[0;32m/opt/anaconda3/envs/SI/lib/python3.12/site-packages/pandas/io/common.py:873\u001b[0m, in \u001b[0;36mget_handle\u001b[0;34m(path_or_buf, mode, encoding, compression, memory_map, is_text, errors, storage_options)\u001b[0m\n\u001b[1;32m    868\u001b[0m \u001b[38;5;28;01melif\u001b[39;00m \u001b[38;5;28misinstance\u001b[39m(handle, \u001b[38;5;28mstr\u001b[39m):\n\u001b[1;32m    869\u001b[0m     \u001b[38;5;66;03m# Check whether the filename is to be opened in binary mode.\u001b[39;00m\n\u001b[1;32m    870\u001b[0m     \u001b[38;5;66;03m# Binary mode does not support 'encoding' and 'newline'.\u001b[39;00m\n\u001b[1;32m    871\u001b[0m     \u001b[38;5;28;01mif\u001b[39;00m ioargs\u001b[38;5;241m.\u001b[39mencoding \u001b[38;5;129;01mand\u001b[39;00m \u001b[38;5;124m\"\u001b[39m\u001b[38;5;124mb\u001b[39m\u001b[38;5;124m\"\u001b[39m \u001b[38;5;129;01mnot\u001b[39;00m \u001b[38;5;129;01min\u001b[39;00m ioargs\u001b[38;5;241m.\u001b[39mmode:\n\u001b[1;32m    872\u001b[0m         \u001b[38;5;66;03m# Encoding\u001b[39;00m\n\u001b[0;32m--> 873\u001b[0m         handle \u001b[38;5;241m=\u001b[39m \u001b[38;5;28mopen\u001b[39m(\n\u001b[1;32m    874\u001b[0m             handle,\n\u001b[1;32m    875\u001b[0m             ioargs\u001b[38;5;241m.\u001b[39mmode,\n\u001b[1;32m    876\u001b[0m             encoding\u001b[38;5;241m=\u001b[39mioargs\u001b[38;5;241m.\u001b[39mencoding,\n\u001b[1;32m    877\u001b[0m             errors\u001b[38;5;241m=\u001b[39merrors,\n\u001b[1;32m    878\u001b[0m             newline\u001b[38;5;241m=\u001b[39m\u001b[38;5;124m\"\u001b[39m\u001b[38;5;124m\"\u001b[39m,\n\u001b[1;32m    879\u001b[0m         )\n\u001b[1;32m    880\u001b[0m     \u001b[38;5;28;01melse\u001b[39;00m:\n\u001b[1;32m    881\u001b[0m         \u001b[38;5;66;03m# Binary mode\u001b[39;00m\n\u001b[1;32m    882\u001b[0m         handle \u001b[38;5;241m=\u001b[39m \u001b[38;5;28mopen\u001b[39m(handle, ioargs\u001b[38;5;241m.\u001b[39mmode)\n",
      "\u001b[0;31mFileNotFoundError\u001b[0m: [Errno 2] No such file or directory: 'data/power_prices.csv'"
     ]
    }
   ],
   "source": [
    "# Load the dataset\n",
    "df = pd.read_csv(\"\")\n",
    "# df = pd.DataFrame(df)\n",
    "\n",
    "df.info()\n",
    "df.describe()\n",
    "\n",
    "df.shape\n",
    "df.columns\n",
    "df.index\n",
    "df.dtypes\n",
    "\n",
    "df.head()\n",
    "df.tail()"
   ]
  },
  {
   "cell_type": "markdown",
   "id": "a69920b9",
   "metadata": {},
   "source": [
    "## Data Conversion and Cleaning"
   ]
  },
  {
   "cell_type": "code",
   "execution_count": null,
   "id": "aabd4ae3",
   "metadata": {},
   "outputs": [],
   "source": [
    "## time stamp\n",
    "df['timestamp'] = pd.to_datetime(df['timestamp'])\n",
    "df.set_index('timestamp', inplace=True) # index\n",
    "\n",
    "# Resample hourly to daily for smoother trends (if required)\n",
    "df_daily = df['price'].resample('D').mean()"
   ]
  },
  {
   "cell_type": "code",
   "execution_count": null,
   "id": "1f1d84a1",
   "metadata": {},
   "outputs": [],
   "source": [
    "## missing data\n",
    "df.isnull().sum()\n",
    "\n",
    "df['price'].fillna(df['price'].mean(), inplace=True)\n",
    "df['price'].fillna(method='ffill', inplace=True)"
   ]
  },
  {
   "cell_type": "code",
   "execution_count": null,
   "id": "b3917cdb",
   "metadata": {},
   "outputs": [],
   "source": [
    "## duplicate\n",
    "\n",
    "duplicates"
   ]
  },
  {
   "cell_type": "markdown",
   "id": "1d2d7c80",
   "metadata": {},
   "source": [
    "## EDA"
   ]
  },
  {
   "cell_type": "code",
   "execution_count": null,
   "id": "f977b137",
   "metadata": {},
   "outputs": [],
   "source": [
    "df['price'].plot(figsize=(14, 7), title = 'Power Market Price')\n",
    "plt.show()\n",
    "\n",
    "df['price'].rolling(window = 24 * 7).mean().plot(label = '7-day rolling mean', figsize=(14, 7), title = 'Power Market Price')\n",
    "df['price'].rolling(window = 24 * 7).std().plot(label = '7-day rolling std', figsize=(14, 7), title = 'Power Market Price')\n",
    "plt.legend()\n",
    "plt.show()\n"
   ]
  },
  {
   "cell_type": "markdown",
   "id": "aba4a7fe",
   "metadata": {},
   "source": [
    "## Time series "
   ]
  },
  {
   "cell_type": "code",
   "execution_count": null,
   "id": "5b2fcc45",
   "metadata": {},
   "outputs": [],
   "source": [
    "result = seasonal_decompose(df['price'], model='additive', period=24)\n",
    "result.plot()\n",
    "plt.show()"
   ]
  },
  {
   "cell_type": "markdown",
   "id": "e9da022b",
   "metadata": {},
   "source": [
    "## Feature Engineering"
   ]
  },
  {
   "cell_type": "code",
   "execution_count": null,
   "id": "195c41d6",
   "metadata": {},
   "outputs": [],
   "source": [
    "df['hour'] = df.index.hour\n",
    "df['dayofweek'] = df.index.dayofweek\n",
    "df['month'] = df.index.month\n",
    "df['is_weekend'] = df['dayofweek'] >= 5\n",
    "\n",
    "df['price_lag1'] = df['price'].shift(1)\n",
    "df['price_lag24'] = df['price'].shift(24)\n",
    "\n",
    "df[['price', 'price_lag1', 'price_lag24']].corr()\n"
   ]
  },
  {
   "cell_type": "markdown",
   "id": "4436061b",
   "metadata": {},
   "source": [
    "# CAISO Analysis\n",
    "\n",
    "## Data Preparation\n",
    "\n",
    "### CAISO LMP "
   ]
  },
  {
   "cell_type": "code",
   "execution_count": 112,
   "id": "9f9bdd8e",
   "metadata": {},
   "outputs": [],
   "source": [
    "import gridstatus\n",
    "import plotly.express as px\n",
    "\n",
    "# iso = gridstatus.CAISO()\n",
    "\n",
    "# df = iso.get_as_prices(date=\"Oct 15, 2022\")\n",
    "# df"
   ]
  },
  {
   "cell_type": "code",
   "execution_count": 113,
   "id": "f4490856",
   "metadata": {},
   "outputs": [
    {
     "name": "stderr",
     "output_type": "stream",
     "text": [
      "2025-05-03 21:49:05 - DEBUG - Dataset config: {'query': {'path': 'SingleZip', 'resultformat': 6, 'queryname': 'PRC_LMP', 'version': 12}, 'params': {'market_run_id': 'DAM', 'node': None, 'grp_type': [None, 'ALL', 'ALL_APNODES']}}\n",
      "2025-05-03 21:49:05 - INFO - Fetching URL: http://oasis.caiso.com/oasisapi/SingleZip?resultformat=6&queryname=PRC_LMP&version=12&market_run_id=DAM&node=TH_NP15_GEN-APND,TH_SP15_GEN-APND,TH_ZP26_GEN-APND&startdatetime=20250420T07:00-0000&enddatetime=20250503T07:00-0000\n",
      "2025-05-03 21:49:07 - DEBUG - Found 1 files: ['20250420_20250503_PRC_LMP_DAM_20250503_18_49_06_v12.csv']\n",
      "2025-05-03 21:49:07 - DEBUG - Parsing file: 20250420_20250503_PRC_LMP_DAM_20250503_18_49_06_v12.csv\n"
     ]
    },
    {
     "data": {
      "text/html": [
       "<div>\n",
       "<style scoped>\n",
       "    .dataframe tbody tr th:only-of-type {\n",
       "        vertical-align: middle;\n",
       "    }\n",
       "\n",
       "    .dataframe tbody tr th {\n",
       "        vertical-align: top;\n",
       "    }\n",
       "\n",
       "    .dataframe thead th {\n",
       "        text-align: right;\n",
       "    }\n",
       "</style>\n",
       "<table border=\"1\" class=\"dataframe\">\n",
       "  <thead>\n",
       "    <tr style=\"text-align: right;\">\n",
       "      <th></th>\n",
       "      <th>Time</th>\n",
       "      <th>Interval Start</th>\n",
       "      <th>Interval End</th>\n",
       "      <th>Market</th>\n",
       "      <th>Location</th>\n",
       "      <th>Location Type</th>\n",
       "      <th>LMP</th>\n",
       "      <th>Energy</th>\n",
       "      <th>Congestion</th>\n",
       "      <th>Loss</th>\n",
       "    </tr>\n",
       "  </thead>\n",
       "  <tbody>\n",
       "    <tr>\n",
       "      <th>0</th>\n",
       "      <td>2025-04-20 00:00:00-07:00</td>\n",
       "      <td>2025-04-20 00:00:00-07:00</td>\n",
       "      <td>2025-04-20 01:00:00-07:00</td>\n",
       "      <td>DAY_AHEAD_HOURLY</td>\n",
       "      <td>TH_NP15_GEN-APND</td>\n",
       "      <td>Trading Hub</td>\n",
       "      <td>28.77610</td>\n",
       "      <td>33.30717</td>\n",
       "      <td>-3.16547</td>\n",
       "      <td>-1.36559</td>\n",
       "    </tr>\n",
       "    <tr>\n",
       "      <th>1</th>\n",
       "      <td>2025-04-20 00:00:00-07:00</td>\n",
       "      <td>2025-04-20 00:00:00-07:00</td>\n",
       "      <td>2025-04-20 01:00:00-07:00</td>\n",
       "      <td>DAY_AHEAD_HOURLY</td>\n",
       "      <td>TH_SP15_GEN-APND</td>\n",
       "      <td>Trading Hub</td>\n",
       "      <td>31.58829</td>\n",
       "      <td>33.30717</td>\n",
       "      <td>-0.41657</td>\n",
       "      <td>-1.30231</td>\n",
       "    </tr>\n",
       "    <tr>\n",
       "      <th>2</th>\n",
       "      <td>2025-04-20 00:00:00-07:00</td>\n",
       "      <td>2025-04-20 00:00:00-07:00</td>\n",
       "      <td>2025-04-20 01:00:00-07:00</td>\n",
       "      <td>DAY_AHEAD_HOURLY</td>\n",
       "      <td>TH_ZP26_GEN-APND</td>\n",
       "      <td>Trading Hub</td>\n",
       "      <td>32.59772</td>\n",
       "      <td>33.30717</td>\n",
       "      <td>0.00000</td>\n",
       "      <td>-0.70944</td>\n",
       "    </tr>\n",
       "    <tr>\n",
       "      <th>3</th>\n",
       "      <td>2025-04-20 01:00:00-07:00</td>\n",
       "      <td>2025-04-20 01:00:00-07:00</td>\n",
       "      <td>2025-04-20 02:00:00-07:00</td>\n",
       "      <td>DAY_AHEAD_HOURLY</td>\n",
       "      <td>TH_NP15_GEN-APND</td>\n",
       "      <td>Trading Hub</td>\n",
       "      <td>27.51442</td>\n",
       "      <td>32.05128</td>\n",
       "      <td>-3.20993</td>\n",
       "      <td>-1.32692</td>\n",
       "    </tr>\n",
       "    <tr>\n",
       "      <th>4</th>\n",
       "      <td>2025-04-20 01:00:00-07:00</td>\n",
       "      <td>2025-04-20 01:00:00-07:00</td>\n",
       "      <td>2025-04-20 02:00:00-07:00</td>\n",
       "      <td>DAY_AHEAD_HOURLY</td>\n",
       "      <td>TH_SP15_GEN-APND</td>\n",
       "      <td>Trading Hub</td>\n",
       "      <td>30.40209</td>\n",
       "      <td>32.05128</td>\n",
       "      <td>-0.41842</td>\n",
       "      <td>-1.23077</td>\n",
       "    </tr>\n",
       "  </tbody>\n",
       "</table>\n",
       "</div>"
      ],
      "text/plain": [
       "                       Time            Interval Start  \\\n",
       "0 2025-04-20 00:00:00-07:00 2025-04-20 00:00:00-07:00   \n",
       "1 2025-04-20 00:00:00-07:00 2025-04-20 00:00:00-07:00   \n",
       "2 2025-04-20 00:00:00-07:00 2025-04-20 00:00:00-07:00   \n",
       "3 2025-04-20 01:00:00-07:00 2025-04-20 01:00:00-07:00   \n",
       "4 2025-04-20 01:00:00-07:00 2025-04-20 01:00:00-07:00   \n",
       "\n",
       "               Interval End            Market          Location Location Type  \\\n",
       "0 2025-04-20 01:00:00-07:00  DAY_AHEAD_HOURLY  TH_NP15_GEN-APND   Trading Hub   \n",
       "1 2025-04-20 01:00:00-07:00  DAY_AHEAD_HOURLY  TH_SP15_GEN-APND   Trading Hub   \n",
       "2 2025-04-20 01:00:00-07:00  DAY_AHEAD_HOURLY  TH_ZP26_GEN-APND   Trading Hub   \n",
       "3 2025-04-20 02:00:00-07:00  DAY_AHEAD_HOURLY  TH_NP15_GEN-APND   Trading Hub   \n",
       "4 2025-04-20 02:00:00-07:00  DAY_AHEAD_HOURLY  TH_SP15_GEN-APND   Trading Hub   \n",
       "\n",
       "        LMP    Energy  Congestion     Loss  \n",
       "0  28.77610  33.30717    -3.16547 -1.36559  \n",
       "1  31.58829  33.30717    -0.41657 -1.30231  \n",
       "2  32.59772  33.30717     0.00000 -0.70944  \n",
       "3  27.51442  32.05128    -3.20993 -1.32692  \n",
       "4  30.40209  32.05128    -0.41842 -1.23077  "
      ]
     },
     "execution_count": 113,
     "metadata": {},
     "output_type": "execute_result"
    }
   ],
   "source": [
    "caiso = gridstatus.CAISO()\n",
    "\n",
    "start = pd.Timestamp(\"April 20, 2025\").normalize()\n",
    "end = pd.Timestamp.now().normalize()\n",
    "\n",
    "locations = [\"TH_NP15_GEN-APND\", \"TH_SP15_GEN-APND\", \"TH_ZP26_GEN-APND\"]\n",
    "\n",
    "lmp_df = caiso.get_lmp(\n",
    "    start=start, end=end, market=\"DAY_AHEAD_HOURLY\", locations=locations, sleep=5\n",
    ")\n",
    "lmp_df.head()\n"
   ]
  },
  {
   "cell_type": "code",
   "execution_count": 114,
   "id": "75c5a2bd",
   "metadata": {},
   "outputs": [
    {
     "data": {
      "application/vnd.plotly.v1+json": {
       "config": {
        "plotlyServerURL": "https://plot.ly"
       },
       "data": [
        {
         "hovertemplate": "Location=TH_NP15_GEN-APND<br>Time=%{x}<br>LMP=%{y}<extra></extra>",
         "legendgroup": "TH_NP15_GEN-APND",
         "marker": {
          "color": "#636efa",
          "pattern": {
           "shape": ""
          }
         },
         "name": "TH_NP15_GEN-APND",
         "orientation": "v",
         "showlegend": true,
         "textposition": "auto",
         "type": "bar",
         "x": [
          "2025-04-20T00:00:00.000000000",
          "2025-04-21T00:00:00.000000000",
          "2025-04-22T00:00:00.000000000",
          "2025-04-23T00:00:00.000000000",
          "2025-04-24T00:00:00.000000000",
          "2025-04-25T00:00:00.000000000",
          "2025-04-26T00:00:00.000000000",
          "2025-04-27T00:00:00.000000000",
          "2025-04-28T00:00:00.000000000",
          "2025-04-29T00:00:00.000000000",
          "2025-04-30T00:00:00.000000000",
          "2025-05-01T00:00:00.000000000",
          "2025-05-02T00:00:00.000000000"
         ],
         "xaxis": "x",
         "y": {
          "bdata": "CAYBBgAAAAAEBAAABA==",
          "dtype": "i1"
         },
         "yaxis": "y"
        },
        {
         "hovertemplate": "Location=TH_SP15_GEN-APND<br>Time=%{x}<br>LMP=%{y}<extra></extra>",
         "legendgroup": "TH_SP15_GEN-APND",
         "marker": {
          "color": "#EF553B",
          "pattern": {
           "shape": ""
          }
         },
         "name": "TH_SP15_GEN-APND",
         "orientation": "v",
         "showlegend": true,
         "textposition": "auto",
         "type": "bar",
         "x": [
          "2025-04-20T00:00:00.000000000",
          "2025-04-21T00:00:00.000000000",
          "2025-04-22T00:00:00.000000000",
          "2025-04-23T00:00:00.000000000",
          "2025-04-24T00:00:00.000000000",
          "2025-04-25T00:00:00.000000000",
          "2025-04-26T00:00:00.000000000",
          "2025-04-27T00:00:00.000000000",
          "2025-04-28T00:00:00.000000000",
          "2025-04-29T00:00:00.000000000",
          "2025-04-30T00:00:00.000000000",
          "2025-05-01T00:00:00.000000000",
          "2025-05-02T00:00:00.000000000"
         ],
         "xaxis": "x",
         "y": {
          "bdata": "CgkJCgkJBgsKCgAAAg==",
          "dtype": "i1"
         },
         "yaxis": "y"
        },
        {
         "hovertemplate": "Location=TH_ZP26_GEN-APND<br>Time=%{x}<br>LMP=%{y}<extra></extra>",
         "legendgroup": "TH_ZP26_GEN-APND",
         "marker": {
          "color": "#00cc96",
          "pattern": {
           "shape": ""
          }
         },
         "name": "TH_ZP26_GEN-APND",
         "orientation": "v",
         "showlegend": true,
         "textposition": "auto",
         "type": "bar",
         "x": [
          "2025-04-20T00:00:00.000000000",
          "2025-04-21T00:00:00.000000000",
          "2025-04-22T00:00:00.000000000",
          "2025-04-23T00:00:00.000000000",
          "2025-04-24T00:00:00.000000000",
          "2025-04-25T00:00:00.000000000",
          "2025-04-26T00:00:00.000000000",
          "2025-04-27T00:00:00.000000000",
          "2025-04-28T00:00:00.000000000",
          "2025-04-29T00:00:00.000000000",
          "2025-04-30T00:00:00.000000000",
          "2025-05-01T00:00:00.000000000",
          "2025-05-02T00:00:00.000000000"
         ],
         "xaxis": "x",
         "y": {
          "bdata": "CgkICAYGAAAIBwAABg==",
          "dtype": "i1"
         },
         "yaxis": "y"
        }
       ],
       "layout": {
        "barmode": "relative",
        "legend": {
         "title": {
          "text": "Location"
         },
         "tracegroupgap": 0
        },
        "template": {
         "data": {
          "bar": [
           {
            "error_x": {
             "color": "#2a3f5f"
            },
            "error_y": {
             "color": "#2a3f5f"
            },
            "marker": {
             "line": {
              "color": "#E5ECF6",
              "width": 0.5
             },
             "pattern": {
              "fillmode": "overlay",
              "size": 10,
              "solidity": 0.2
             }
            },
            "type": "bar"
           }
          ],
          "barpolar": [
           {
            "marker": {
             "line": {
              "color": "#E5ECF6",
              "width": 0.5
             },
             "pattern": {
              "fillmode": "overlay",
              "size": 10,
              "solidity": 0.2
             }
            },
            "type": "barpolar"
           }
          ],
          "carpet": [
           {
            "aaxis": {
             "endlinecolor": "#2a3f5f",
             "gridcolor": "white",
             "linecolor": "white",
             "minorgridcolor": "white",
             "startlinecolor": "#2a3f5f"
            },
            "baxis": {
             "endlinecolor": "#2a3f5f",
             "gridcolor": "white",
             "linecolor": "white",
             "minorgridcolor": "white",
             "startlinecolor": "#2a3f5f"
            },
            "type": "carpet"
           }
          ],
          "choropleth": [
           {
            "colorbar": {
             "outlinewidth": 0,
             "ticks": ""
            },
            "type": "choropleth"
           }
          ],
          "contour": [
           {
            "colorbar": {
             "outlinewidth": 0,
             "ticks": ""
            },
            "colorscale": [
             [
              0,
              "#0d0887"
             ],
             [
              0.1111111111111111,
              "#46039f"
             ],
             [
              0.2222222222222222,
              "#7201a8"
             ],
             [
              0.3333333333333333,
              "#9c179e"
             ],
             [
              0.4444444444444444,
              "#bd3786"
             ],
             [
              0.5555555555555556,
              "#d8576b"
             ],
             [
              0.6666666666666666,
              "#ed7953"
             ],
             [
              0.7777777777777778,
              "#fb9f3a"
             ],
             [
              0.8888888888888888,
              "#fdca26"
             ],
             [
              1,
              "#f0f921"
             ]
            ],
            "type": "contour"
           }
          ],
          "contourcarpet": [
           {
            "colorbar": {
             "outlinewidth": 0,
             "ticks": ""
            },
            "type": "contourcarpet"
           }
          ],
          "heatmap": [
           {
            "colorbar": {
             "outlinewidth": 0,
             "ticks": ""
            },
            "colorscale": [
             [
              0,
              "#0d0887"
             ],
             [
              0.1111111111111111,
              "#46039f"
             ],
             [
              0.2222222222222222,
              "#7201a8"
             ],
             [
              0.3333333333333333,
              "#9c179e"
             ],
             [
              0.4444444444444444,
              "#bd3786"
             ],
             [
              0.5555555555555556,
              "#d8576b"
             ],
             [
              0.6666666666666666,
              "#ed7953"
             ],
             [
              0.7777777777777778,
              "#fb9f3a"
             ],
             [
              0.8888888888888888,
              "#fdca26"
             ],
             [
              1,
              "#f0f921"
             ]
            ],
            "type": "heatmap"
           }
          ],
          "histogram": [
           {
            "marker": {
             "pattern": {
              "fillmode": "overlay",
              "size": 10,
              "solidity": 0.2
             }
            },
            "type": "histogram"
           }
          ],
          "histogram2d": [
           {
            "colorbar": {
             "outlinewidth": 0,
             "ticks": ""
            },
            "colorscale": [
             [
              0,
              "#0d0887"
             ],
             [
              0.1111111111111111,
              "#46039f"
             ],
             [
              0.2222222222222222,
              "#7201a8"
             ],
             [
              0.3333333333333333,
              "#9c179e"
             ],
             [
              0.4444444444444444,
              "#bd3786"
             ],
             [
              0.5555555555555556,
              "#d8576b"
             ],
             [
              0.6666666666666666,
              "#ed7953"
             ],
             [
              0.7777777777777778,
              "#fb9f3a"
             ],
             [
              0.8888888888888888,
              "#fdca26"
             ],
             [
              1,
              "#f0f921"
             ]
            ],
            "type": "histogram2d"
           }
          ],
          "histogram2dcontour": [
           {
            "colorbar": {
             "outlinewidth": 0,
             "ticks": ""
            },
            "colorscale": [
             [
              0,
              "#0d0887"
             ],
             [
              0.1111111111111111,
              "#46039f"
             ],
             [
              0.2222222222222222,
              "#7201a8"
             ],
             [
              0.3333333333333333,
              "#9c179e"
             ],
             [
              0.4444444444444444,
              "#bd3786"
             ],
             [
              0.5555555555555556,
              "#d8576b"
             ],
             [
              0.6666666666666666,
              "#ed7953"
             ],
             [
              0.7777777777777778,
              "#fb9f3a"
             ],
             [
              0.8888888888888888,
              "#fdca26"
             ],
             [
              1,
              "#f0f921"
             ]
            ],
            "type": "histogram2dcontour"
           }
          ],
          "mesh3d": [
           {
            "colorbar": {
             "outlinewidth": 0,
             "ticks": ""
            },
            "type": "mesh3d"
           }
          ],
          "parcoords": [
           {
            "line": {
             "colorbar": {
              "outlinewidth": 0,
              "ticks": ""
             }
            },
            "type": "parcoords"
           }
          ],
          "pie": [
           {
            "automargin": true,
            "type": "pie"
           }
          ],
          "scatter": [
           {
            "fillpattern": {
             "fillmode": "overlay",
             "size": 10,
             "solidity": 0.2
            },
            "type": "scatter"
           }
          ],
          "scatter3d": [
           {
            "line": {
             "colorbar": {
              "outlinewidth": 0,
              "ticks": ""
             }
            },
            "marker": {
             "colorbar": {
              "outlinewidth": 0,
              "ticks": ""
             }
            },
            "type": "scatter3d"
           }
          ],
          "scattercarpet": [
           {
            "marker": {
             "colorbar": {
              "outlinewidth": 0,
              "ticks": ""
             }
            },
            "type": "scattercarpet"
           }
          ],
          "scattergeo": [
           {
            "marker": {
             "colorbar": {
              "outlinewidth": 0,
              "ticks": ""
             }
            },
            "type": "scattergeo"
           }
          ],
          "scattergl": [
           {
            "marker": {
             "colorbar": {
              "outlinewidth": 0,
              "ticks": ""
             }
            },
            "type": "scattergl"
           }
          ],
          "scattermap": [
           {
            "marker": {
             "colorbar": {
              "outlinewidth": 0,
              "ticks": ""
             }
            },
            "type": "scattermap"
           }
          ],
          "scattermapbox": [
           {
            "marker": {
             "colorbar": {
              "outlinewidth": 0,
              "ticks": ""
             }
            },
            "type": "scattermapbox"
           }
          ],
          "scatterpolar": [
           {
            "marker": {
             "colorbar": {
              "outlinewidth": 0,
              "ticks": ""
             }
            },
            "type": "scatterpolar"
           }
          ],
          "scatterpolargl": [
           {
            "marker": {
             "colorbar": {
              "outlinewidth": 0,
              "ticks": ""
             }
            },
            "type": "scatterpolargl"
           }
          ],
          "scatterternary": [
           {
            "marker": {
             "colorbar": {
              "outlinewidth": 0,
              "ticks": ""
             }
            },
            "type": "scatterternary"
           }
          ],
          "surface": [
           {
            "colorbar": {
             "outlinewidth": 0,
             "ticks": ""
            },
            "colorscale": [
             [
              0,
              "#0d0887"
             ],
             [
              0.1111111111111111,
              "#46039f"
             ],
             [
              0.2222222222222222,
              "#7201a8"
             ],
             [
              0.3333333333333333,
              "#9c179e"
             ],
             [
              0.4444444444444444,
              "#bd3786"
             ],
             [
              0.5555555555555556,
              "#d8576b"
             ],
             [
              0.6666666666666666,
              "#ed7953"
             ],
             [
              0.7777777777777778,
              "#fb9f3a"
             ],
             [
              0.8888888888888888,
              "#fdca26"
             ],
             [
              1,
              "#f0f921"
             ]
            ],
            "type": "surface"
           }
          ],
          "table": [
           {
            "cells": {
             "fill": {
              "color": "#EBF0F8"
             },
             "line": {
              "color": "white"
             }
            },
            "header": {
             "fill": {
              "color": "#C8D4E3"
             },
             "line": {
              "color": "white"
             }
            },
            "type": "table"
           }
          ]
         },
         "layout": {
          "annotationdefaults": {
           "arrowcolor": "#2a3f5f",
           "arrowhead": 0,
           "arrowwidth": 1
          },
          "autotypenumbers": "strict",
          "coloraxis": {
           "colorbar": {
            "outlinewidth": 0,
            "ticks": ""
           }
          },
          "colorscale": {
           "diverging": [
            [
             0,
             "#8e0152"
            ],
            [
             0.1,
             "#c51b7d"
            ],
            [
             0.2,
             "#de77ae"
            ],
            [
             0.3,
             "#f1b6da"
            ],
            [
             0.4,
             "#fde0ef"
            ],
            [
             0.5,
             "#f7f7f7"
            ],
            [
             0.6,
             "#e6f5d0"
            ],
            [
             0.7,
             "#b8e186"
            ],
            [
             0.8,
             "#7fbc41"
            ],
            [
             0.9,
             "#4d9221"
            ],
            [
             1,
             "#276419"
            ]
           ],
           "sequential": [
            [
             0,
             "#0d0887"
            ],
            [
             0.1111111111111111,
             "#46039f"
            ],
            [
             0.2222222222222222,
             "#7201a8"
            ],
            [
             0.3333333333333333,
             "#9c179e"
            ],
            [
             0.4444444444444444,
             "#bd3786"
            ],
            [
             0.5555555555555556,
             "#d8576b"
            ],
            [
             0.6666666666666666,
             "#ed7953"
            ],
            [
             0.7777777777777778,
             "#fb9f3a"
            ],
            [
             0.8888888888888888,
             "#fdca26"
            ],
            [
             1,
             "#f0f921"
            ]
           ],
           "sequentialminus": [
            [
             0,
             "#0d0887"
            ],
            [
             0.1111111111111111,
             "#46039f"
            ],
            [
             0.2222222222222222,
             "#7201a8"
            ],
            [
             0.3333333333333333,
             "#9c179e"
            ],
            [
             0.4444444444444444,
             "#bd3786"
            ],
            [
             0.5555555555555556,
             "#d8576b"
            ],
            [
             0.6666666666666666,
             "#ed7953"
            ],
            [
             0.7777777777777778,
             "#fb9f3a"
            ],
            [
             0.8888888888888888,
             "#fdca26"
            ],
            [
             1,
             "#f0f921"
            ]
           ]
          },
          "colorway": [
           "#636efa",
           "#EF553B",
           "#00cc96",
           "#ab63fa",
           "#FFA15A",
           "#19d3f3",
           "#FF6692",
           "#B6E880",
           "#FF97FF",
           "#FECB52"
          ],
          "font": {
           "color": "#2a3f5f"
          },
          "geo": {
           "bgcolor": "white",
           "lakecolor": "white",
           "landcolor": "#E5ECF6",
           "showlakes": true,
           "showland": true,
           "subunitcolor": "white"
          },
          "hoverlabel": {
           "align": "left"
          },
          "hovermode": "closest",
          "mapbox": {
           "style": "light"
          },
          "paper_bgcolor": "white",
          "plot_bgcolor": "#E5ECF6",
          "polar": {
           "angularaxis": {
            "gridcolor": "white",
            "linecolor": "white",
            "ticks": ""
           },
           "bgcolor": "#E5ECF6",
           "radialaxis": {
            "gridcolor": "white",
            "linecolor": "white",
            "ticks": ""
           }
          },
          "scene": {
           "xaxis": {
            "backgroundcolor": "#E5ECF6",
            "gridcolor": "white",
            "gridwidth": 2,
            "linecolor": "white",
            "showbackground": true,
            "ticks": "",
            "zerolinecolor": "white"
           },
           "yaxis": {
            "backgroundcolor": "#E5ECF6",
            "gridcolor": "white",
            "gridwidth": 2,
            "linecolor": "white",
            "showbackground": true,
            "ticks": "",
            "zerolinecolor": "white"
           },
           "zaxis": {
            "backgroundcolor": "#E5ECF6",
            "gridcolor": "white",
            "gridwidth": 2,
            "linecolor": "white",
            "showbackground": true,
            "ticks": "",
            "zerolinecolor": "white"
           }
          },
          "shapedefaults": {
           "line": {
            "color": "#2a3f5f"
           }
          },
          "ternary": {
           "aaxis": {
            "gridcolor": "white",
            "linecolor": "white",
            "ticks": ""
           },
           "baxis": {
            "gridcolor": "white",
            "linecolor": "white",
            "ticks": ""
           },
           "bgcolor": "#E5ECF6",
           "caxis": {
            "gridcolor": "white",
            "linecolor": "white",
            "ticks": ""
           }
          },
          "title": {
           "x": 0.05
          },
          "xaxis": {
           "automargin": true,
           "gridcolor": "white",
           "linecolor": "white",
           "ticks": "",
           "title": {
            "standoff": 15
           },
           "zerolinecolor": "white",
           "zerolinewidth": 2
          },
          "yaxis": {
           "automargin": true,
           "gridcolor": "white",
           "linecolor": "white",
           "ticks": "",
           "title": {
            "standoff": 15
           },
           "zerolinecolor": "white",
           "zerolinewidth": 2
          }
         }
        },
        "title": {
         "text": "Negative LMPs per Month - CAISO"
        },
        "xaxis": {
         "anchor": "y",
         "domain": [
          0,
          1
         ],
         "title": {
          "text": "Time"
         }
        },
        "yaxis": {
         "anchor": "x",
         "domain": [
          0,
          1
         ],
         "title": {
          "text": "Number of Negative LMPs"
         }
        }
       }
      }
     },
     "metadata": {},
     "output_type": "display_data"
    }
   ],
   "source": [
    "negative_lmps = lmp_df[lmp_df[\"LMP\"] < 0].set_index(\"Time\")\n",
    "negative_per_day = (\n",
    "    negative_lmps.groupby(\"Location\").resample(\"D\")[\"LMP\"].count().reset_index()\n",
    ")\n",
    "\n",
    "fig = px.bar(\n",
    "    negative_per_day,\n",
    "    x=\"Time\",\n",
    "    y=\"LMP\",\n",
    "    title=\"Negative LMPs per Month - CAISO\",\n",
    "    color=\"Location\",\n",
    ")\n",
    "\n",
    "fig.update_yaxes(title=\"Number of Negative LMPs\")\n",
    "fig.show()"
   ]
  },
  {
   "cell_type": "code",
   "execution_count": 115,
   "id": "6aeaa887",
   "metadata": {},
   "outputs": [
    {
     "data": {
      "text/html": [
       "<div>\n",
       "<style scoped>\n",
       "    .dataframe tbody tr th:only-of-type {\n",
       "        vertical-align: middle;\n",
       "    }\n",
       "\n",
       "    .dataframe tbody tr th {\n",
       "        vertical-align: top;\n",
       "    }\n",
       "\n",
       "    .dataframe thead th {\n",
       "        text-align: right;\n",
       "    }\n",
       "</style>\n",
       "<table border=\"1\" class=\"dataframe\">\n",
       "  <thead>\n",
       "    <tr style=\"text-align: right;\">\n",
       "      <th></th>\n",
       "      <th>Interval Start</th>\n",
       "      <th>Interval End</th>\n",
       "      <th>Market</th>\n",
       "      <th>Location</th>\n",
       "      <th>Location Type</th>\n",
       "      <th>LMP</th>\n",
       "      <th>Energy</th>\n",
       "      <th>Congestion</th>\n",
       "      <th>Loss</th>\n",
       "    </tr>\n",
       "    <tr>\n",
       "      <th>Time</th>\n",
       "      <th></th>\n",
       "      <th></th>\n",
       "      <th></th>\n",
       "      <th></th>\n",
       "      <th></th>\n",
       "      <th></th>\n",
       "      <th></th>\n",
       "      <th></th>\n",
       "      <th></th>\n",
       "    </tr>\n",
       "  </thead>\n",
       "  <tbody>\n",
       "    <tr>\n",
       "      <th>2025-04-20 00:00:00-07:00</th>\n",
       "      <td>2025-04-20 00:00:00-07:00</td>\n",
       "      <td>2025-04-20 01:00:00-07:00</td>\n",
       "      <td>DAY_AHEAD_HOURLY</td>\n",
       "      <td>TH_NP15_GEN-APND</td>\n",
       "      <td>Trading Hub</td>\n",
       "      <td>28.77610</td>\n",
       "      <td>33.30717</td>\n",
       "      <td>-3.16547</td>\n",
       "      <td>-1.36559</td>\n",
       "    </tr>\n",
       "    <tr>\n",
       "      <th>2025-04-20 00:00:00-07:00</th>\n",
       "      <td>2025-04-20 00:00:00-07:00</td>\n",
       "      <td>2025-04-20 01:00:00-07:00</td>\n",
       "      <td>DAY_AHEAD_HOURLY</td>\n",
       "      <td>TH_SP15_GEN-APND</td>\n",
       "      <td>Trading Hub</td>\n",
       "      <td>31.58829</td>\n",
       "      <td>33.30717</td>\n",
       "      <td>-0.41657</td>\n",
       "      <td>-1.30231</td>\n",
       "    </tr>\n",
       "    <tr>\n",
       "      <th>2025-04-20 00:00:00-07:00</th>\n",
       "      <td>2025-04-20 00:00:00-07:00</td>\n",
       "      <td>2025-04-20 01:00:00-07:00</td>\n",
       "      <td>DAY_AHEAD_HOURLY</td>\n",
       "      <td>TH_ZP26_GEN-APND</td>\n",
       "      <td>Trading Hub</td>\n",
       "      <td>32.59772</td>\n",
       "      <td>33.30717</td>\n",
       "      <td>0.00000</td>\n",
       "      <td>-0.70944</td>\n",
       "    </tr>\n",
       "    <tr>\n",
       "      <th>2025-04-20 01:00:00-07:00</th>\n",
       "      <td>2025-04-20 01:00:00-07:00</td>\n",
       "      <td>2025-04-20 02:00:00-07:00</td>\n",
       "      <td>DAY_AHEAD_HOURLY</td>\n",
       "      <td>TH_NP15_GEN-APND</td>\n",
       "      <td>Trading Hub</td>\n",
       "      <td>27.51442</td>\n",
       "      <td>32.05128</td>\n",
       "      <td>-3.20993</td>\n",
       "      <td>-1.32692</td>\n",
       "    </tr>\n",
       "    <tr>\n",
       "      <th>2025-04-20 01:00:00-07:00</th>\n",
       "      <td>2025-04-20 01:00:00-07:00</td>\n",
       "      <td>2025-04-20 02:00:00-07:00</td>\n",
       "      <td>DAY_AHEAD_HOURLY</td>\n",
       "      <td>TH_SP15_GEN-APND</td>\n",
       "      <td>Trading Hub</td>\n",
       "      <td>30.40209</td>\n",
       "      <td>32.05128</td>\n",
       "      <td>-0.41842</td>\n",
       "      <td>-1.23077</td>\n",
       "    </tr>\n",
       "  </tbody>\n",
       "</table>\n",
       "</div>"
      ],
      "text/plain": [
       "                                     Interval Start              Interval End  \\\n",
       "Time                                                                            \n",
       "2025-04-20 00:00:00-07:00 2025-04-20 00:00:00-07:00 2025-04-20 01:00:00-07:00   \n",
       "2025-04-20 00:00:00-07:00 2025-04-20 00:00:00-07:00 2025-04-20 01:00:00-07:00   \n",
       "2025-04-20 00:00:00-07:00 2025-04-20 00:00:00-07:00 2025-04-20 01:00:00-07:00   \n",
       "2025-04-20 01:00:00-07:00 2025-04-20 01:00:00-07:00 2025-04-20 02:00:00-07:00   \n",
       "2025-04-20 01:00:00-07:00 2025-04-20 01:00:00-07:00 2025-04-20 02:00:00-07:00   \n",
       "\n",
       "                                     Market          Location Location Type  \\\n",
       "Time                                                                          \n",
       "2025-04-20 00:00:00-07:00  DAY_AHEAD_HOURLY  TH_NP15_GEN-APND   Trading Hub   \n",
       "2025-04-20 00:00:00-07:00  DAY_AHEAD_HOURLY  TH_SP15_GEN-APND   Trading Hub   \n",
       "2025-04-20 00:00:00-07:00  DAY_AHEAD_HOURLY  TH_ZP26_GEN-APND   Trading Hub   \n",
       "2025-04-20 01:00:00-07:00  DAY_AHEAD_HOURLY  TH_NP15_GEN-APND   Trading Hub   \n",
       "2025-04-20 01:00:00-07:00  DAY_AHEAD_HOURLY  TH_SP15_GEN-APND   Trading Hub   \n",
       "\n",
       "                                LMP    Energy  Congestion     Loss  \n",
       "Time                                                                \n",
       "2025-04-20 00:00:00-07:00  28.77610  33.30717    -3.16547 -1.36559  \n",
       "2025-04-20 00:00:00-07:00  31.58829  33.30717    -0.41657 -1.30231  \n",
       "2025-04-20 00:00:00-07:00  32.59772  33.30717     0.00000 -0.70944  \n",
       "2025-04-20 01:00:00-07:00  27.51442  32.05128    -3.20993 -1.32692  \n",
       "2025-04-20 01:00:00-07:00  30.40209  32.05128    -0.41842 -1.23077  "
      ]
     },
     "execution_count": 115,
     "metadata": {},
     "output_type": "execute_result"
    }
   ],
   "source": [
    "lmp_df['Time'] = pd.to_datetime(lmp_df['Time'], format='%Y-%m-%d %H:%M:%S')\n",
    "lmp_df.set_index('Time', inplace=True)\n",
    "lmp_df.head()"
   ]
  },
  {
   "cell_type": "markdown",
   "id": "b7303a32",
   "metadata": {},
   "source": [
    "### CAISO Mix"
   ]
  },
  {
   "cell_type": "code",
   "execution_count": 116,
   "id": "b0a89582",
   "metadata": {},
   "outputs": [
    {
     "name": "stderr",
     "output_type": "stream",
     "text": [
      "  0%|          | 0/13 [00:00<?, ?it/s]2025-05-03 21:49:12 - INFO - Fetching URL: https://www.caiso.com/outlook/history/20250420/fuelsource.csv?_=1746323352\n",
      "  8%|▊         | 1/13 [00:00<00:05,  2.11it/s]2025-05-03 21:49:13 - INFO - Fetching URL: https://www.caiso.com/outlook/history/20250421/fuelsource.csv?_=1746323353\n",
      " 15%|█▌        | 2/13 [00:00<00:04,  2.63it/s]2025-05-03 21:49:13 - INFO - Fetching URL: https://www.caiso.com/outlook/history/20250422/fuelsource.csv?_=1746323353\n",
      " 23%|██▎       | 3/13 [00:01<00:03,  2.78it/s]2025-05-03 21:49:13 - INFO - Fetching URL: https://www.caiso.com/outlook/history/20250423/fuelsource.csv?_=1746323353\n",
      " 31%|███       | 4/13 [00:01<00:03,  2.55it/s]2025-05-03 21:49:14 - INFO - Fetching URL: https://www.caiso.com/outlook/history/20250424/fuelsource.csv?_=1746323354\n",
      " 38%|███▊      | 5/13 [00:01<00:02,  2.70it/s]2025-05-03 21:49:14 - INFO - Fetching URL: https://www.caiso.com/outlook/history/20250425/fuelsource.csv?_=1746323354\n",
      " 46%|████▌     | 6/13 [00:02<00:02,  3.19it/s]2025-05-03 21:49:14 - INFO - Fetching URL: https://www.caiso.com/outlook/history/20250426/fuelsource.csv?_=1746323354\n",
      " 54%|█████▍    | 7/13 [00:02<00:01,  3.17it/s]2025-05-03 21:49:15 - INFO - Fetching URL: https://www.caiso.com/outlook/history/20250427/fuelsource.csv?_=1746323355\n",
      " 62%|██████▏   | 8/13 [00:02<00:01,  2.99it/s]2025-05-03 21:49:15 - INFO - Fetching URL: https://www.caiso.com/outlook/history/20250428/fuelsource.csv?_=1746323355\n",
      " 69%|██████▉   | 9/13 [00:03<00:01,  3.04it/s]2025-05-03 21:49:15 - INFO - Fetching URL: https://www.caiso.com/outlook/history/20250429/fuelsource.csv?_=1746323355\n",
      " 77%|███████▋  | 10/13 [00:03<00:01,  2.88it/s]2025-05-03 21:49:16 - INFO - Fetching URL: https://www.caiso.com/outlook/history/20250430/fuelsource.csv?_=1746323356\n",
      " 85%|████████▍ | 11/13 [00:03<00:00,  2.91it/s]2025-05-03 21:49:16 - INFO - Fetching URL: https://www.caiso.com/outlook/history/20250501/fuelsource.csv?_=1746323356\n",
      " 92%|█████████▏| 12/13 [00:04<00:00,  2.91it/s]2025-05-03 21:49:17 - INFO - Fetching URL: https://www.caiso.com/outlook/history/20250502/fuelsource.csv?_=1746323357\n",
      "100%|██████████| 13/13 [00:04<00:00,  2.86it/s]\n"
     ]
    },
    {
     "data": {
      "text/html": [
       "<div>\n",
       "<style scoped>\n",
       "    .dataframe tbody tr th:only-of-type {\n",
       "        vertical-align: middle;\n",
       "    }\n",
       "\n",
       "    .dataframe tbody tr th {\n",
       "        vertical-align: top;\n",
       "    }\n",
       "\n",
       "    .dataframe thead th {\n",
       "        text-align: right;\n",
       "    }\n",
       "</style>\n",
       "<table border=\"1\" class=\"dataframe\">\n",
       "  <thead>\n",
       "    <tr style=\"text-align: right;\">\n",
       "      <th></th>\n",
       "      <th>Time</th>\n",
       "      <th>Interval Start</th>\n",
       "      <th>Interval End</th>\n",
       "      <th>Solar</th>\n",
       "      <th>Wind</th>\n",
       "      <th>Geothermal</th>\n",
       "      <th>Biomass</th>\n",
       "      <th>Biogas</th>\n",
       "      <th>Small Hydro</th>\n",
       "      <th>Coal</th>\n",
       "      <th>Nuclear</th>\n",
       "      <th>Natural Gas</th>\n",
       "      <th>Large Hydro</th>\n",
       "      <th>Batteries</th>\n",
       "      <th>Imports</th>\n",
       "      <th>Other</th>\n",
       "    </tr>\n",
       "  </thead>\n",
       "  <tbody>\n",
       "    <tr>\n",
       "      <th>0</th>\n",
       "      <td>2025-04-20 00:00:00-07:00</td>\n",
       "      <td>2025-04-20 00:00:00-07:00</td>\n",
       "      <td>2025-04-20 00:05:00-07:00</td>\n",
       "      <td>6</td>\n",
       "      <td>3289</td>\n",
       "      <td>818</td>\n",
       "      <td>187</td>\n",
       "      <td>111</td>\n",
       "      <td>262</td>\n",
       "      <td>0</td>\n",
       "      <td>1134</td>\n",
       "      <td>2898</td>\n",
       "      <td>3585</td>\n",
       "      <td>1412</td>\n",
       "      <td>6896</td>\n",
       "      <td>0</td>\n",
       "    </tr>\n",
       "    <tr>\n",
       "      <th>1</th>\n",
       "      <td>2025-04-20 00:05:00-07:00</td>\n",
       "      <td>2025-04-20 00:05:00-07:00</td>\n",
       "      <td>2025-04-20 00:10:00-07:00</td>\n",
       "      <td>7</td>\n",
       "      <td>3244</td>\n",
       "      <td>832</td>\n",
       "      <td>189</td>\n",
       "      <td>112</td>\n",
       "      <td>261</td>\n",
       "      <td>0</td>\n",
       "      <td>1134</td>\n",
       "      <td>2976</td>\n",
       "      <td>3508</td>\n",
       "      <td>2012</td>\n",
       "      <td>6520</td>\n",
       "      <td>0</td>\n",
       "    </tr>\n",
       "    <tr>\n",
       "      <th>2</th>\n",
       "      <td>2025-04-20 00:10:00-07:00</td>\n",
       "      <td>2025-04-20 00:10:00-07:00</td>\n",
       "      <td>2025-04-20 00:15:00-07:00</td>\n",
       "      <td>6</td>\n",
       "      <td>3224</td>\n",
       "      <td>811</td>\n",
       "      <td>185</td>\n",
       "      <td>111</td>\n",
       "      <td>260</td>\n",
       "      <td>0</td>\n",
       "      <td>1134</td>\n",
       "      <td>3083</td>\n",
       "      <td>3519</td>\n",
       "      <td>2203</td>\n",
       "      <td>6379</td>\n",
       "      <td>0</td>\n",
       "    </tr>\n",
       "    <tr>\n",
       "      <th>3</th>\n",
       "      <td>2025-04-20 00:15:00-07:00</td>\n",
       "      <td>2025-04-20 00:15:00-07:00</td>\n",
       "      <td>2025-04-20 00:20:00-07:00</td>\n",
       "      <td>7</td>\n",
       "      <td>3150</td>\n",
       "      <td>833</td>\n",
       "      <td>178</td>\n",
       "      <td>111</td>\n",
       "      <td>260</td>\n",
       "      <td>0</td>\n",
       "      <td>1134</td>\n",
       "      <td>3094</td>\n",
       "      <td>3479</td>\n",
       "      <td>2202</td>\n",
       "      <td>6406</td>\n",
       "      <td>0</td>\n",
       "    </tr>\n",
       "    <tr>\n",
       "      <th>4</th>\n",
       "      <td>2025-04-20 00:20:00-07:00</td>\n",
       "      <td>2025-04-20 00:20:00-07:00</td>\n",
       "      <td>2025-04-20 00:25:00-07:00</td>\n",
       "      <td>7</td>\n",
       "      <td>3069</td>\n",
       "      <td>837</td>\n",
       "      <td>178</td>\n",
       "      <td>112</td>\n",
       "      <td>259</td>\n",
       "      <td>0</td>\n",
       "      <td>1134</td>\n",
       "      <td>3085</td>\n",
       "      <td>3521</td>\n",
       "      <td>2169</td>\n",
       "      <td>6445</td>\n",
       "      <td>0</td>\n",
       "    </tr>\n",
       "  </tbody>\n",
       "</table>\n",
       "</div>"
      ],
      "text/plain": [
       "                       Time            Interval Start  \\\n",
       "0 2025-04-20 00:00:00-07:00 2025-04-20 00:00:00-07:00   \n",
       "1 2025-04-20 00:05:00-07:00 2025-04-20 00:05:00-07:00   \n",
       "2 2025-04-20 00:10:00-07:00 2025-04-20 00:10:00-07:00   \n",
       "3 2025-04-20 00:15:00-07:00 2025-04-20 00:15:00-07:00   \n",
       "4 2025-04-20 00:20:00-07:00 2025-04-20 00:20:00-07:00   \n",
       "\n",
       "               Interval End  Solar  Wind  Geothermal  Biomass  Biogas  \\\n",
       "0 2025-04-20 00:05:00-07:00      6  3289         818      187     111   \n",
       "1 2025-04-20 00:10:00-07:00      7  3244         832      189     112   \n",
       "2 2025-04-20 00:15:00-07:00      6  3224         811      185     111   \n",
       "3 2025-04-20 00:20:00-07:00      7  3150         833      178     111   \n",
       "4 2025-04-20 00:25:00-07:00      7  3069         837      178     112   \n",
       "\n",
       "   Small Hydro  Coal  Nuclear  Natural Gas  Large Hydro  Batteries  Imports  \\\n",
       "0          262     0     1134         2898         3585       1412     6896   \n",
       "1          261     0     1134         2976         3508       2012     6520   \n",
       "2          260     0     1134         3083         3519       2203     6379   \n",
       "3          260     0     1134         3094         3479       2202     6406   \n",
       "4          259     0     1134         3085         3521       2169     6445   \n",
       "\n",
       "   Other  \n",
       "0      0  \n",
       "1      0  \n",
       "2      0  \n",
       "3      0  \n",
       "4      0  "
      ]
     },
     "execution_count": 116,
     "metadata": {},
     "output_type": "execute_result"
    }
   ],
   "source": [
    "mix_df = caiso.get_fuel_mix(start, end=end, verbose=False)\n",
    "mix_df.head()"
   ]
  },
  {
   "cell_type": "code",
   "execution_count": 117,
   "id": "888c99f0",
   "metadata": {},
   "outputs": [
    {
     "name": "stderr",
     "output_type": "stream",
     "text": [
      "/var/folders/4y/y61rk3957l34yct000xkq_5r0000gn/T/ipykernel_70874/4107069227.py:1: FutureWarning:\n",
      "\n",
      "'H' is deprecated and will be removed in a future version, please use 'h' instead.\n",
      "\n"
     ]
    },
    {
     "data": {
      "application/vnd.plotly.v1+json": {
       "config": {
        "plotlyServerURL": "https://plot.ly"
       },
       "data": [
        {
         "hovertemplate": "variable=Solar<br>Time=%{x}<br>value=%{y}<extra></extra>",
         "legendgroup": "Solar",
         "marker": {
          "color": "#636efa",
          "pattern": {
           "shape": ""
          }
         },
         "name": "Solar",
         "orientation": "v",
         "showlegend": true,
         "textposition": "auto",
         "type": "bar",
         "x": [
          "2025-04-21T00:00:00.000000000",
          "2025-04-22T00:00:00.000000000",
          "2025-04-23T00:00:00.000000000",
          "2025-04-24T00:00:00.000000000",
          "2025-04-25T00:00:00.000000000",
          "2025-04-26T00:00:00.000000000",
          "2025-04-27T00:00:00.000000000",
          "2025-04-28T00:00:00.000000000",
          "2025-04-29T00:00:00.000000000",
          "2025-04-30T00:00:00.000000000",
          "2025-05-01T00:00:00.000000000"
         ],
         "xaxis": "x",
         "y": {
          "bdata": "AAAAAJRrCEEAAAAAHMYIQQAAAAB6FAhBVVVVVZvgCEEAAAAAygwHQauqqqqGtAJBq6qqqp6wAUEAAAAAlHsGQQAAAACqaAdBAAAAANzlB0EAAAAALHsHQQ==",
          "dtype": "f8"
         },
         "yaxis": "y"
        },
        {
         "hovertemplate": "variable=Natural Gas<br>Time=%{x}<br>value=%{y}<extra></extra>",
         "legendgroup": "Natural Gas",
         "marker": {
          "color": "#EF553B",
          "pattern": {
           "shape": ""
          }
         },
         "name": "Natural Gas",
         "orientation": "v",
         "showlegend": true,
         "textposition": "auto",
         "type": "bar",
         "x": [
          "2025-04-21T00:00:00.000000000",
          "2025-04-22T00:00:00.000000000",
          "2025-04-23T00:00:00.000000000",
          "2025-04-24T00:00:00.000000000",
          "2025-04-25T00:00:00.000000000",
          "2025-04-26T00:00:00.000000000",
          "2025-04-27T00:00:00.000000000",
          "2025-04-28T00:00:00.000000000",
          "2025-04-29T00:00:00.000000000",
          "2025-04-30T00:00:00.000000000",
          "2025-05-01T00:00:00.000000000"
         ],
         "xaxis": "x",
         "y": {
          "bdata": "q6qqqjJw8EBVVVVVXRD6QKuqqqpO+/hAAAAAACzR+UCrqqqqHjv7QKuqqqp+avZAAAAAADjA8UCrqqqqLlzyQAAAAAAAmvVAq6qqqjoH+EAAAAAAGKH/QA==",
          "dtype": "f8"
         },
         "yaxis": "y"
        },
        {
         "hovertemplate": "variable=Wind<br>Time=%{x}<br>value=%{y}<extra></extra>",
         "legendgroup": "Wind",
         "marker": {
          "color": "#00cc96",
          "pattern": {
           "shape": ""
          }
         },
         "name": "Wind",
         "orientation": "v",
         "showlegend": true,
         "textposition": "auto",
         "type": "bar",
         "x": [
          "2025-04-21T00:00:00.000000000",
          "2025-04-22T00:00:00.000000000",
          "2025-04-23T00:00:00.000000000",
          "2025-04-24T00:00:00.000000000",
          "2025-04-25T00:00:00.000000000",
          "2025-04-26T00:00:00.000000000",
          "2025-04-27T00:00:00.000000000",
          "2025-04-28T00:00:00.000000000",
          "2025-04-29T00:00:00.000000000",
          "2025-04-30T00:00:00.000000000",
          "2025-05-01T00:00:00.000000000"
         ],
         "xaxis": "x",
         "y": {
          "bdata": "AAAAAECF6kBVVVVVpWzuQKuqqqp6TPxAq6qqqpor90AAAAAAMDn0QFVVVVXRDvBAq6qqqiYg80CrqqqqJjzzQFVVVVWNBupAq6qqqtL67kCrqqqqIq3rQA==",
          "dtype": "f8"
         },
         "yaxis": "y"
        },
        {
         "hovertemplate": "variable=Large Hydro<br>Time=%{x}<br>value=%{y}<extra></extra>",
         "legendgroup": "Large Hydro",
         "marker": {
          "color": "#ab63fa",
          "pattern": {
           "shape": ""
          }
         },
         "name": "Large Hydro",
         "orientation": "v",
         "showlegend": true,
         "textposition": "auto",
         "type": "bar",
         "x": [
          "2025-04-21T00:00:00.000000000",
          "2025-04-22T00:00:00.000000000",
          "2025-04-23T00:00:00.000000000",
          "2025-04-24T00:00:00.000000000",
          "2025-04-25T00:00:00.000000000",
          "2025-04-26T00:00:00.000000000",
          "2025-04-27T00:00:00.000000000",
          "2025-04-28T00:00:00.000000000",
          "2025-04-29T00:00:00.000000000",
          "2025-04-30T00:00:00.000000000",
          "2025-05-01T00:00:00.000000000"
         ],
         "xaxis": "x",
         "y": {
          "bdata": "q6qqqtJZ8ECrqqqqfkbxQFVVVVUlX/BAAAAAALiS8EAAAAAAiH3tQKuqqqr64OtAVVVVVd1y6UAAAAAAGG3tQAAAAAA4LOxAAAAAAPjH8EBVVVVVSTHwQA==",
          "dtype": "f8"
         },
         "yaxis": "y"
        },
        {
         "hovertemplate": "variable=Imports<br>Time=%{x}<br>value=%{y}<extra></extra>",
         "legendgroup": "Imports",
         "marker": {
          "color": "#FFA15A",
          "pattern": {
           "shape": ""
          }
         },
         "name": "Imports",
         "orientation": "v",
         "showlegend": true,
         "textposition": "auto",
         "type": "bar",
         "x": [
          "2025-04-21T00:00:00.000000000",
          "2025-04-22T00:00:00.000000000",
          "2025-04-23T00:00:00.000000000",
          "2025-04-24T00:00:00.000000000",
          "2025-04-25T00:00:00.000000000",
          "2025-04-26T00:00:00.000000000",
          "2025-04-27T00:00:00.000000000",
          "2025-04-28T00:00:00.000000000",
          "2025-04-29T00:00:00.000000000",
          "2025-04-30T00:00:00.000000000",
          "2025-05-01T00:00:00.000000000"
         ],
         "xaxis": "x",
         "y": {
          "bdata": "qqqqqlqE60BVVVVVJULSQFRVVVVVAJJAqqqqqqpss0AAAAAAIGnmQAAAAAAM7fNAAAAAABx39UCqqqqqMs/rQKuqqqo2ZfFAAAAAAECb50AAAAAAsELcQA==",
          "dtype": "f8"
         },
         "yaxis": "y"
        },
        {
         "hovertemplate": "variable=Nuclear<br>Time=%{x}<br>value=%{y}<extra></extra>",
         "legendgroup": "Nuclear",
         "marker": {
          "color": "#19d3f3",
          "pattern": {
           "shape": ""
          }
         },
         "name": "Nuclear",
         "orientation": "v",
         "showlegend": true,
         "textposition": "auto",
         "type": "bar",
         "x": [
          "2025-04-21T00:00:00.000000000",
          "2025-04-22T00:00:00.000000000",
          "2025-04-23T00:00:00.000000000",
          "2025-04-24T00:00:00.000000000",
          "2025-04-25T00:00:00.000000000",
          "2025-04-26T00:00:00.000000000",
          "2025-04-27T00:00:00.000000000",
          "2025-04-28T00:00:00.000000000",
          "2025-04-29T00:00:00.000000000",
          "2025-04-30T00:00:00.000000000",
          "2025-05-01T00:00:00.000000000"
         ],
         "xaxis": "x",
         "y": {
          "bdata": "VVVVVQWa2kCrqqqqmpXaQKuqqqoaldpAAAAAAACW2kAAAAAAsJfaQFVVVVXFkdpAq6qqqqqP2kBVVVVVBZXaQKuqqqq6mNpAAAAAAOCP2kAAAAAAAI3aQA==",
          "dtype": "f8"
         },
         "yaxis": "y"
        },
        {
         "hovertemplate": "variable=Geothermal<br>Time=%{x}<br>value=%{y}<extra></extra>",
         "legendgroup": "Geothermal",
         "marker": {
          "color": "#FF6692",
          "pattern": {
           "shape": ""
          }
         },
         "name": "Geothermal",
         "orientation": "v",
         "showlegend": true,
         "textposition": "auto",
         "type": "bar",
         "x": [
          "2025-04-21T00:00:00.000000000",
          "2025-04-22T00:00:00.000000000",
          "2025-04-23T00:00:00.000000000",
          "2025-04-24T00:00:00.000000000",
          "2025-04-25T00:00:00.000000000",
          "2025-04-26T00:00:00.000000000",
          "2025-04-27T00:00:00.000000000",
          "2025-04-28T00:00:00.000000000",
          "2025-04-29T00:00:00.000000000",
          "2025-04-30T00:00:00.000000000",
          "2025-05-01T00:00:00.000000000"
         ],
         "xaxis": "x",
         "y": {
          "bdata": "VVVVVWUq00Crqqqq+j/TQAAAAACwf9NAq6qqqoqG00CrqqqqmqnTQAAAAACw1tNAVVVVVRW200AAAAAAMFDSQFVVVVWFG9JAVVVVVRUa0kBVVVVVldjPQA==",
          "dtype": "f8"
         },
         "yaxis": "y"
        },
        {
         "hovertemplate": "variable=Small Hydro<br>Time=%{x}<br>value=%{y}<extra></extra>",
         "legendgroup": "Small Hydro",
         "marker": {
          "color": "#B6E880",
          "pattern": {
           "shape": ""
          }
         },
         "name": "Small Hydro",
         "orientation": "v",
         "showlegend": true,
         "textposition": "auto",
         "type": "bar",
         "x": [
          "2025-04-21T00:00:00.000000000",
          "2025-04-22T00:00:00.000000000",
          "2025-04-23T00:00:00.000000000",
          "2025-04-24T00:00:00.000000000",
          "2025-04-25T00:00:00.000000000",
          "2025-04-26T00:00:00.000000000",
          "2025-04-27T00:00:00.000000000",
          "2025-04-28T00:00:00.000000000",
          "2025-04-29T00:00:00.000000000",
          "2025-04-30T00:00:00.000000000",
          "2025-05-01T00:00:00.000000000"
         ],
         "xaxis": "x",
         "y": {
          "bdata": "VVVVVRXvtkCrqqqqata1QAAAAAAAmrZAAAAAAMCUuEAAAAAAQLi4QKuqqqoqzLdAAAAAAIBwt0AAAAAAwEe4QKuqqqoqUrdAq6qqqqpUuECrqqqqavq4QA==",
          "dtype": "f8"
         },
         "yaxis": "y"
        },
        {
         "hovertemplate": "variable=Biomass<br>Time=%{x}<br>value=%{y}<extra></extra>",
         "legendgroup": "Biomass",
         "marker": {
          "color": "#FF97FF",
          "pattern": {
           "shape": ""
          }
         },
         "name": "Biomass",
         "orientation": "v",
         "showlegend": true,
         "textposition": "auto",
         "type": "bar",
         "x": [
          "2025-04-21T00:00:00.000000000",
          "2025-04-22T00:00:00.000000000",
          "2025-04-23T00:00:00.000000000",
          "2025-04-24T00:00:00.000000000",
          "2025-04-25T00:00:00.000000000",
          "2025-04-26T00:00:00.000000000",
          "2025-04-27T00:00:00.000000000",
          "2025-04-28T00:00:00.000000000",
          "2025-04-29T00:00:00.000000000",
          "2025-04-30T00:00:00.000000000",
          "2025-05-01T00:00:00.000000000"
         ],
         "xaxis": "x",
         "y": {
          "bdata": "q6qqqqr/rUBVVVVVVZysQKuqqqqqo6tAVVVVVVVqr0BVVVVV1T6vQFVVVVXVxbNAq6qqqur5sUAAAAAAwKOyQKuqqqoq9bVAq6qqqqoTtkCrqqqq6va1QA==",
          "dtype": "f8"
         },
         "yaxis": "y"
        },
        {
         "hovertemplate": "variable=Biogas<br>Time=%{x}<br>value=%{y}<extra></extra>",
         "legendgroup": "Biogas",
         "marker": {
          "color": "#FECB52",
          "pattern": {
           "shape": ""
          }
         },
         "name": "Biogas",
         "orientation": "v",
         "showlegend": true,
         "textposition": "auto",
         "type": "bar",
         "x": [
          "2025-04-21T00:00:00.000000000",
          "2025-04-22T00:00:00.000000000",
          "2025-04-23T00:00:00.000000000",
          "2025-04-24T00:00:00.000000000",
          "2025-04-25T00:00:00.000000000",
          "2025-04-26T00:00:00.000000000",
          "2025-04-27T00:00:00.000000000",
          "2025-04-28T00:00:00.000000000",
          "2025-04-29T00:00:00.000000000",
          "2025-04-30T00:00:00.000000000",
          "2025-05-01T00:00:00.000000000"
         ],
         "xaxis": "x",
         "y": {
          "bdata": "AAAAAABypEAAAAAAAO+kQAAAAACAO6ZAq6qqqqoOp0BVVVVV1aOmQFVVVVXVvKZAVVVVVVWVpkBVVVVV1WqlQAAAAAAAQaVAAAAAAADNpUBVVVVV1QepQA==",
          "dtype": "f8"
         },
         "yaxis": "y"
        },
        {
         "hovertemplate": "variable=Coal<br>Time=%{x}<br>value=%{y}<extra></extra>",
         "legendgroup": "Coal",
         "marker": {
          "color": "#636efa",
          "pattern": {
           "shape": ""
          }
         },
         "name": "Coal",
         "orientation": "v",
         "showlegend": true,
         "textposition": "auto",
         "type": "bar",
         "x": [
          "2025-04-21T00:00:00.000000000",
          "2025-04-22T00:00:00.000000000",
          "2025-04-23T00:00:00.000000000",
          "2025-04-24T00:00:00.000000000",
          "2025-04-25T00:00:00.000000000",
          "2025-04-26T00:00:00.000000000",
          "2025-04-27T00:00:00.000000000",
          "2025-04-28T00:00:00.000000000",
          "2025-04-29T00:00:00.000000000",
          "2025-04-30T00:00:00.000000000",
          "2025-05-01T00:00:00.000000000"
         ],
         "xaxis": "x",
         "y": {
          "bdata": "AAAAAAAAAAAAAAAAAAAAAAAAAAAAAAAAAAAAAAAAAAAAAAAAAAAAAAAAAAAAAAAAAAAAAAAAAAAAAAAAAAAAAAAAAAAAAAAAAAAAAAAAAAAAAAAAAAAAAA==",
          "dtype": "f8"
         },
         "yaxis": "y"
        },
        {
         "hovertemplate": "variable=Other<br>Time=%{x}<br>value=%{y}<extra></extra>",
         "legendgroup": "Other",
         "marker": {
          "color": "#EF553B",
          "pattern": {
           "shape": ""
          }
         },
         "name": "Other",
         "orientation": "v",
         "showlegend": true,
         "textposition": "auto",
         "type": "bar",
         "x": [
          "2025-04-21T00:00:00.000000000",
          "2025-04-22T00:00:00.000000000",
          "2025-04-23T00:00:00.000000000",
          "2025-04-24T00:00:00.000000000",
          "2025-04-25T00:00:00.000000000",
          "2025-04-26T00:00:00.000000000",
          "2025-04-27T00:00:00.000000000",
          "2025-04-28T00:00:00.000000000",
          "2025-04-29T00:00:00.000000000",
          "2025-04-30T00:00:00.000000000",
          "2025-05-01T00:00:00.000000000"
         ],
         "xaxis": "x",
         "y": {
          "bdata": "AAAAAAAAAAAAAAAAAAAAAAAAAAAAAAAAAAAAAAAAAAAAAAAAAAAAAAAAAAAAAAAAAAAAAAAAAAAAAAAAAAAAAAAAAAAAAAAAAAAAAAAAAAAAAAAAAAAAAA==",
          "dtype": "f8"
         },
         "yaxis": "y"
        },
        {
         "hovertemplate": "variable=Batteries<br>Time=%{x}<br>value=%{y}<extra></extra>",
         "legendgroup": "Batteries",
         "marker": {
          "color": "#00cc96",
          "pattern": {
           "shape": ""
          }
         },
         "name": "Batteries",
         "orientation": "v",
         "showlegend": true,
         "textposition": "auto",
         "type": "bar",
         "x": [
          "2025-04-21T00:00:00.000000000",
          "2025-04-22T00:00:00.000000000",
          "2025-04-23T00:00:00.000000000",
          "2025-04-24T00:00:00.000000000",
          "2025-04-25T00:00:00.000000000",
          "2025-04-26T00:00:00.000000000",
          "2025-04-27T00:00:00.000000000",
          "2025-04-28T00:00:00.000000000",
          "2025-04-29T00:00:00.000000000",
          "2025-04-30T00:00:00.000000000",
          "2025-05-01T00:00:00.000000000"
         ],
         "xaxis": "x",
         "y": {
          "bdata": "AAAAAADygEBWVVVVFXKxwFVVVVXVt8nAq6qqqqp4p8AAAAAAgCSjwAAAAABA4bDAq6qqqmontMCrqqqqyhDCwAEAAAAAPZbAVlVVVVVPlkBWVVVVlWy5wA==",
          "dtype": "f8"
         },
         "yaxis": "y"
        }
       ],
       "layout": {
        "barmode": "relative",
        "legend": {
         "title": {
          "text": "variable"
         },
         "tracegroupgap": 0
        },
        "template": {
         "data": {
          "bar": [
           {
            "error_x": {
             "color": "#2a3f5f"
            },
            "error_y": {
             "color": "#2a3f5f"
            },
            "marker": {
             "line": {
              "color": "#E5ECF6",
              "width": 0.5
             },
             "pattern": {
              "fillmode": "overlay",
              "size": 10,
              "solidity": 0.2
             }
            },
            "type": "bar"
           }
          ],
          "barpolar": [
           {
            "marker": {
             "line": {
              "color": "#E5ECF6",
              "width": 0.5
             },
             "pattern": {
              "fillmode": "overlay",
              "size": 10,
              "solidity": 0.2
             }
            },
            "type": "barpolar"
           }
          ],
          "carpet": [
           {
            "aaxis": {
             "endlinecolor": "#2a3f5f",
             "gridcolor": "white",
             "linecolor": "white",
             "minorgridcolor": "white",
             "startlinecolor": "#2a3f5f"
            },
            "baxis": {
             "endlinecolor": "#2a3f5f",
             "gridcolor": "white",
             "linecolor": "white",
             "minorgridcolor": "white",
             "startlinecolor": "#2a3f5f"
            },
            "type": "carpet"
           }
          ],
          "choropleth": [
           {
            "colorbar": {
             "outlinewidth": 0,
             "ticks": ""
            },
            "type": "choropleth"
           }
          ],
          "contour": [
           {
            "colorbar": {
             "outlinewidth": 0,
             "ticks": ""
            },
            "colorscale": [
             [
              0,
              "#0d0887"
             ],
             [
              0.1111111111111111,
              "#46039f"
             ],
             [
              0.2222222222222222,
              "#7201a8"
             ],
             [
              0.3333333333333333,
              "#9c179e"
             ],
             [
              0.4444444444444444,
              "#bd3786"
             ],
             [
              0.5555555555555556,
              "#d8576b"
             ],
             [
              0.6666666666666666,
              "#ed7953"
             ],
             [
              0.7777777777777778,
              "#fb9f3a"
             ],
             [
              0.8888888888888888,
              "#fdca26"
             ],
             [
              1,
              "#f0f921"
             ]
            ],
            "type": "contour"
           }
          ],
          "contourcarpet": [
           {
            "colorbar": {
             "outlinewidth": 0,
             "ticks": ""
            },
            "type": "contourcarpet"
           }
          ],
          "heatmap": [
           {
            "colorbar": {
             "outlinewidth": 0,
             "ticks": ""
            },
            "colorscale": [
             [
              0,
              "#0d0887"
             ],
             [
              0.1111111111111111,
              "#46039f"
             ],
             [
              0.2222222222222222,
              "#7201a8"
             ],
             [
              0.3333333333333333,
              "#9c179e"
             ],
             [
              0.4444444444444444,
              "#bd3786"
             ],
             [
              0.5555555555555556,
              "#d8576b"
             ],
             [
              0.6666666666666666,
              "#ed7953"
             ],
             [
              0.7777777777777778,
              "#fb9f3a"
             ],
             [
              0.8888888888888888,
              "#fdca26"
             ],
             [
              1,
              "#f0f921"
             ]
            ],
            "type": "heatmap"
           }
          ],
          "histogram": [
           {
            "marker": {
             "pattern": {
              "fillmode": "overlay",
              "size": 10,
              "solidity": 0.2
             }
            },
            "type": "histogram"
           }
          ],
          "histogram2d": [
           {
            "colorbar": {
             "outlinewidth": 0,
             "ticks": ""
            },
            "colorscale": [
             [
              0,
              "#0d0887"
             ],
             [
              0.1111111111111111,
              "#46039f"
             ],
             [
              0.2222222222222222,
              "#7201a8"
             ],
             [
              0.3333333333333333,
              "#9c179e"
             ],
             [
              0.4444444444444444,
              "#bd3786"
             ],
             [
              0.5555555555555556,
              "#d8576b"
             ],
             [
              0.6666666666666666,
              "#ed7953"
             ],
             [
              0.7777777777777778,
              "#fb9f3a"
             ],
             [
              0.8888888888888888,
              "#fdca26"
             ],
             [
              1,
              "#f0f921"
             ]
            ],
            "type": "histogram2d"
           }
          ],
          "histogram2dcontour": [
           {
            "colorbar": {
             "outlinewidth": 0,
             "ticks": ""
            },
            "colorscale": [
             [
              0,
              "#0d0887"
             ],
             [
              0.1111111111111111,
              "#46039f"
             ],
             [
              0.2222222222222222,
              "#7201a8"
             ],
             [
              0.3333333333333333,
              "#9c179e"
             ],
             [
              0.4444444444444444,
              "#bd3786"
             ],
             [
              0.5555555555555556,
              "#d8576b"
             ],
             [
              0.6666666666666666,
              "#ed7953"
             ],
             [
              0.7777777777777778,
              "#fb9f3a"
             ],
             [
              0.8888888888888888,
              "#fdca26"
             ],
             [
              1,
              "#f0f921"
             ]
            ],
            "type": "histogram2dcontour"
           }
          ],
          "mesh3d": [
           {
            "colorbar": {
             "outlinewidth": 0,
             "ticks": ""
            },
            "type": "mesh3d"
           }
          ],
          "parcoords": [
           {
            "line": {
             "colorbar": {
              "outlinewidth": 0,
              "ticks": ""
             }
            },
            "type": "parcoords"
           }
          ],
          "pie": [
           {
            "automargin": true,
            "type": "pie"
           }
          ],
          "scatter": [
           {
            "fillpattern": {
             "fillmode": "overlay",
             "size": 10,
             "solidity": 0.2
            },
            "type": "scatter"
           }
          ],
          "scatter3d": [
           {
            "line": {
             "colorbar": {
              "outlinewidth": 0,
              "ticks": ""
             }
            },
            "marker": {
             "colorbar": {
              "outlinewidth": 0,
              "ticks": ""
             }
            },
            "type": "scatter3d"
           }
          ],
          "scattercarpet": [
           {
            "marker": {
             "colorbar": {
              "outlinewidth": 0,
              "ticks": ""
             }
            },
            "type": "scattercarpet"
           }
          ],
          "scattergeo": [
           {
            "marker": {
             "colorbar": {
              "outlinewidth": 0,
              "ticks": ""
             }
            },
            "type": "scattergeo"
           }
          ],
          "scattergl": [
           {
            "marker": {
             "colorbar": {
              "outlinewidth": 0,
              "ticks": ""
             }
            },
            "type": "scattergl"
           }
          ],
          "scattermap": [
           {
            "marker": {
             "colorbar": {
              "outlinewidth": 0,
              "ticks": ""
             }
            },
            "type": "scattermap"
           }
          ],
          "scattermapbox": [
           {
            "marker": {
             "colorbar": {
              "outlinewidth": 0,
              "ticks": ""
             }
            },
            "type": "scattermapbox"
           }
          ],
          "scatterpolar": [
           {
            "marker": {
             "colorbar": {
              "outlinewidth": 0,
              "ticks": ""
             }
            },
            "type": "scatterpolar"
           }
          ],
          "scatterpolargl": [
           {
            "marker": {
             "colorbar": {
              "outlinewidth": 0,
              "ticks": ""
             }
            },
            "type": "scatterpolargl"
           }
          ],
          "scatterternary": [
           {
            "marker": {
             "colorbar": {
              "outlinewidth": 0,
              "ticks": ""
             }
            },
            "type": "scatterternary"
           }
          ],
          "surface": [
           {
            "colorbar": {
             "outlinewidth": 0,
             "ticks": ""
            },
            "colorscale": [
             [
              0,
              "#0d0887"
             ],
             [
              0.1111111111111111,
              "#46039f"
             ],
             [
              0.2222222222222222,
              "#7201a8"
             ],
             [
              0.3333333333333333,
              "#9c179e"
             ],
             [
              0.4444444444444444,
              "#bd3786"
             ],
             [
              0.5555555555555556,
              "#d8576b"
             ],
             [
              0.6666666666666666,
              "#ed7953"
             ],
             [
              0.7777777777777778,
              "#fb9f3a"
             ],
             [
              0.8888888888888888,
              "#fdca26"
             ],
             [
              1,
              "#f0f921"
             ]
            ],
            "type": "surface"
           }
          ],
          "table": [
           {
            "cells": {
             "fill": {
              "color": "#EBF0F8"
             },
             "line": {
              "color": "white"
             }
            },
            "header": {
             "fill": {
              "color": "#C8D4E3"
             },
             "line": {
              "color": "white"
             }
            },
            "type": "table"
           }
          ]
         },
         "layout": {
          "annotationdefaults": {
           "arrowcolor": "#2a3f5f",
           "arrowhead": 0,
           "arrowwidth": 1
          },
          "autotypenumbers": "strict",
          "coloraxis": {
           "colorbar": {
            "outlinewidth": 0,
            "ticks": ""
           }
          },
          "colorscale": {
           "diverging": [
            [
             0,
             "#8e0152"
            ],
            [
             0.1,
             "#c51b7d"
            ],
            [
             0.2,
             "#de77ae"
            ],
            [
             0.3,
             "#f1b6da"
            ],
            [
             0.4,
             "#fde0ef"
            ],
            [
             0.5,
             "#f7f7f7"
            ],
            [
             0.6,
             "#e6f5d0"
            ],
            [
             0.7,
             "#b8e186"
            ],
            [
             0.8,
             "#7fbc41"
            ],
            [
             0.9,
             "#4d9221"
            ],
            [
             1,
             "#276419"
            ]
           ],
           "sequential": [
            [
             0,
             "#0d0887"
            ],
            [
             0.1111111111111111,
             "#46039f"
            ],
            [
             0.2222222222222222,
             "#7201a8"
            ],
            [
             0.3333333333333333,
             "#9c179e"
            ],
            [
             0.4444444444444444,
             "#bd3786"
            ],
            [
             0.5555555555555556,
             "#d8576b"
            ],
            [
             0.6666666666666666,
             "#ed7953"
            ],
            [
             0.7777777777777778,
             "#fb9f3a"
            ],
            [
             0.8888888888888888,
             "#fdca26"
            ],
            [
             1,
             "#f0f921"
            ]
           ],
           "sequentialminus": [
            [
             0,
             "#0d0887"
            ],
            [
             0.1111111111111111,
             "#46039f"
            ],
            [
             0.2222222222222222,
             "#7201a8"
            ],
            [
             0.3333333333333333,
             "#9c179e"
            ],
            [
             0.4444444444444444,
             "#bd3786"
            ],
            [
             0.5555555555555556,
             "#d8576b"
            ],
            [
             0.6666666666666666,
             "#ed7953"
            ],
            [
             0.7777777777777778,
             "#fb9f3a"
            ],
            [
             0.8888888888888888,
             "#fdca26"
            ],
            [
             1,
             "#f0f921"
            ]
           ]
          },
          "colorway": [
           "#636efa",
           "#EF553B",
           "#00cc96",
           "#ab63fa",
           "#FFA15A",
           "#19d3f3",
           "#FF6692",
           "#B6E880",
           "#FF97FF",
           "#FECB52"
          ],
          "font": {
           "color": "#2a3f5f"
          },
          "geo": {
           "bgcolor": "white",
           "lakecolor": "white",
           "landcolor": "#E5ECF6",
           "showlakes": true,
           "showland": true,
           "subunitcolor": "white"
          },
          "hoverlabel": {
           "align": "left"
          },
          "hovermode": "closest",
          "mapbox": {
           "style": "light"
          },
          "paper_bgcolor": "white",
          "plot_bgcolor": "#E5ECF6",
          "polar": {
           "angularaxis": {
            "gridcolor": "white",
            "linecolor": "white",
            "ticks": ""
           },
           "bgcolor": "#E5ECF6",
           "radialaxis": {
            "gridcolor": "white",
            "linecolor": "white",
            "ticks": ""
           }
          },
          "scene": {
           "xaxis": {
            "backgroundcolor": "#E5ECF6",
            "gridcolor": "white",
            "gridwidth": 2,
            "linecolor": "white",
            "showbackground": true,
            "ticks": "",
            "zerolinecolor": "white"
           },
           "yaxis": {
            "backgroundcolor": "#E5ECF6",
            "gridcolor": "white",
            "gridwidth": 2,
            "linecolor": "white",
            "showbackground": true,
            "ticks": "",
            "zerolinecolor": "white"
           },
           "zaxis": {
            "backgroundcolor": "#E5ECF6",
            "gridcolor": "white",
            "gridwidth": 2,
            "linecolor": "white",
            "showbackground": true,
            "ticks": "",
            "zerolinecolor": "white"
           }
          },
          "shapedefaults": {
           "line": {
            "color": "#2a3f5f"
           }
          },
          "ternary": {
           "aaxis": {
            "gridcolor": "white",
            "linecolor": "white",
            "ticks": ""
           },
           "baxis": {
            "gridcolor": "white",
            "linecolor": "white",
            "ticks": ""
           },
           "bgcolor": "#E5ECF6",
           "caxis": {
            "gridcolor": "white",
            "linecolor": "white",
            "ticks": ""
           }
          },
          "title": {
           "x": 0.05
          },
          "xaxis": {
           "automargin": true,
           "gridcolor": "white",
           "linecolor": "white",
           "ticks": "",
           "title": {
            "standoff": 15
           },
           "zerolinecolor": "white",
           "zerolinewidth": 2
          },
          "yaxis": {
           "automargin": true,
           "gridcolor": "white",
           "linecolor": "white",
           "ticks": "",
           "title": {
            "standoff": 15
           },
           "zerolinecolor": "white",
           "zerolinewidth": 2
          }
         }
        },
        "title": {
         "text": "Fuel Mix by Day - CAISO"
        },
        "xaxis": {
         "anchor": "y",
         "domain": [
          0,
          1
         ],
         "title": {
          "text": "Time"
         }
        },
        "yaxis": {
         "anchor": "x",
         "domain": [
          0,
          1
         ],
         "title": {
          "text": "value"
         }
        }
       }
      }
     },
     "metadata": {},
     "output_type": "display_data"
    }
   ],
   "source": [
    "hourly_mix = mix_df.set_index(\"Time\").resample(\"H\").mean()\n",
    "\n",
    "daily_mix = (\n",
    "    hourly_mix\n",
    "    .select_dtypes(include='number')\n",
    "    .resample(\"D\").sum()\n",
    "    .reset_index()\n",
    "    .iloc[1:-1]\n",
    ")\n",
    "\n",
    "top_sources = daily_mix.drop(columns=[\"Time\"]).sum().sort_values(ascending=False).index.tolist()\n",
    "fig = px.bar(daily_mix, x=\"Time\", y=top_sources, title=\"Fuel Mix by Day - CAISO\")\n",
    "fig.show()"
   ]
  },
  {
   "cell_type": "code",
   "execution_count": 118,
   "id": "4abba835",
   "metadata": {},
   "outputs": [
    {
     "name": "stderr",
     "output_type": "stream",
     "text": [
      "/var/folders/4y/y61rk3957l34yct000xkq_5r0000gn/T/ipykernel_70874/3042311120.py:8: FutureWarning:\n",
      "\n",
      "'H' is deprecated and will be removed in a future version, please use 'h' instead.\n",
      "\n"
     ]
    },
    {
     "data": {
      "text/html": [
       "<div>\n",
       "<style scoped>\n",
       "    .dataframe tbody tr th:only-of-type {\n",
       "        vertical-align: middle;\n",
       "    }\n",
       "\n",
       "    .dataframe tbody tr th {\n",
       "        vertical-align: top;\n",
       "    }\n",
       "\n",
       "    .dataframe thead th {\n",
       "        text-align: right;\n",
       "    }\n",
       "</style>\n",
       "<table border=\"1\" class=\"dataframe\">\n",
       "  <thead>\n",
       "    <tr style=\"text-align: right;\">\n",
       "      <th></th>\n",
       "      <th>Time</th>\n",
       "      <th>Solar</th>\n",
       "      <th>Wind</th>\n",
       "      <th>Geothermal</th>\n",
       "      <th>Biomass</th>\n",
       "      <th>Biogas</th>\n",
       "      <th>Small Hydro</th>\n",
       "      <th>Coal</th>\n",
       "      <th>Nuclear</th>\n",
       "      <th>Natural Gas</th>\n",
       "      <th>Large Hydro</th>\n",
       "      <th>Batteries</th>\n",
       "      <th>Imports</th>\n",
       "      <th>Other</th>\n",
       "    </tr>\n",
       "  </thead>\n",
       "  <tbody>\n",
       "    <tr>\n",
       "      <th>0</th>\n",
       "      <td>2025-04-20 00:00:00-07:00</td>\n",
       "      <td>82</td>\n",
       "      <td>37124</td>\n",
       "      <td>9960</td>\n",
       "      <td>2171</td>\n",
       "      <td>1337</td>\n",
       "      <td>3108</td>\n",
       "      <td>0</td>\n",
       "      <td>13608</td>\n",
       "      <td>36934</td>\n",
       "      <td>42041</td>\n",
       "      <td>22489</td>\n",
       "      <td>79391</td>\n",
       "      <td>0</td>\n",
       "    </tr>\n",
       "    <tr>\n",
       "      <th>1</th>\n",
       "      <td>2025-04-20 01:00:00-07:00</td>\n",
       "      <td>90</td>\n",
       "      <td>39033</td>\n",
       "      <td>9888</td>\n",
       "      <td>2167</td>\n",
       "      <td>1338</td>\n",
       "      <td>3101</td>\n",
       "      <td>0</td>\n",
       "      <td>13607</td>\n",
       "      <td>37760</td>\n",
       "      <td>41828</td>\n",
       "      <td>9940</td>\n",
       "      <td>88761</td>\n",
       "      <td>0</td>\n",
       "    </tr>\n",
       "    <tr>\n",
       "      <th>2</th>\n",
       "      <td>2025-04-20 02:00:00-07:00</td>\n",
       "      <td>75</td>\n",
       "      <td>40901</td>\n",
       "      <td>9838</td>\n",
       "      <td>2173</td>\n",
       "      <td>1344</td>\n",
       "      <td>3090</td>\n",
       "      <td>0</td>\n",
       "      <td>13617</td>\n",
       "      <td>34683</td>\n",
       "      <td>41499</td>\n",
       "      <td>-1974</td>\n",
       "      <td>94422</td>\n",
       "      <td>0</td>\n",
       "    </tr>\n",
       "    <tr>\n",
       "      <th>3</th>\n",
       "      <td>2025-04-20 03:00:00-07:00</td>\n",
       "      <td>84</td>\n",
       "      <td>40338</td>\n",
       "      <td>9841</td>\n",
       "      <td>2171</td>\n",
       "      <td>1344</td>\n",
       "      <td>3112</td>\n",
       "      <td>0</td>\n",
       "      <td>13615</td>\n",
       "      <td>34842</td>\n",
       "      <td>40586</td>\n",
       "      <td>-3546</td>\n",
       "      <td>93502</td>\n",
       "      <td>0</td>\n",
       "    </tr>\n",
       "    <tr>\n",
       "      <th>4</th>\n",
       "      <td>2025-04-20 04:00:00-07:00</td>\n",
       "      <td>72</td>\n",
       "      <td>36695</td>\n",
       "      <td>9943</td>\n",
       "      <td>2187</td>\n",
       "      <td>1337</td>\n",
       "      <td>3111</td>\n",
       "      <td>0</td>\n",
       "      <td>13611</td>\n",
       "      <td>35635</td>\n",
       "      <td>37552</td>\n",
       "      <td>3950</td>\n",
       "      <td>89650</td>\n",
       "      <td>0</td>\n",
       "    </tr>\n",
       "  </tbody>\n",
       "</table>\n",
       "</div>"
      ],
      "text/plain": [
       "                       Time  Solar   Wind  Geothermal  Biomass  Biogas  \\\n",
       "0 2025-04-20 00:00:00-07:00     82  37124        9960     2171    1337   \n",
       "1 2025-04-20 01:00:00-07:00     90  39033        9888     2167    1338   \n",
       "2 2025-04-20 02:00:00-07:00     75  40901        9838     2173    1344   \n",
       "3 2025-04-20 03:00:00-07:00     84  40338        9841     2171    1344   \n",
       "4 2025-04-20 04:00:00-07:00     72  36695        9943     2187    1337   \n",
       "\n",
       "   Small Hydro  Coal  Nuclear  Natural Gas  Large Hydro  Batteries  Imports  \\\n",
       "0         3108     0    13608        36934        42041      22489    79391   \n",
       "1         3101     0    13607        37760        41828       9940    88761   \n",
       "2         3090     0    13617        34683        41499      -1974    94422   \n",
       "3         3112     0    13615        34842        40586      -3546    93502   \n",
       "4         3111     0    13611        35635        37552       3950    89650   \n",
       "\n",
       "   Other  \n",
       "0      0  \n",
       "1      0  \n",
       "2      0  \n",
       "3      0  \n",
       "4      0  "
      ]
     },
     "execution_count": 118,
     "metadata": {},
     "output_type": "execute_result"
    }
   ],
   "source": [
    "mix_df.set_index('Time', inplace=True)\n",
    "\n",
    "# Only resample numeric columns\n",
    "mix_df_numeric = mix_df.select_dtypes(include='number')\n",
    "\n",
    "mix_df_hourly = (\n",
    "    mix_df_numeric\n",
    "    .resample('H')\n",
    "    .sum()\n",
    "    .reset_index()\n",
    ")\n",
    "\n",
    "mix_df_hourly.head()"
   ]
  },
  {
   "cell_type": "markdown",
   "id": "f3fbdbf9",
   "metadata": {},
   "source": [
    "### CAISO Load"
   ]
  },
  {
   "cell_type": "code",
   "execution_count": 119,
   "id": "6380db6c",
   "metadata": {},
   "outputs": [
    {
     "name": "stderr",
     "output_type": "stream",
     "text": [
      "  0%|          | 0/13 [00:00<?, ?it/s]2025-05-03 21:49:17 - INFO - Fetching URL: https://www.caiso.com/outlook/history/20250420/demand.csv?_=1746323357\n",
      "  8%|▊         | 1/13 [00:00<00:03,  3.04it/s]2025-05-03 21:49:17 - INFO - Fetching URL: https://www.caiso.com/outlook/history/20250421/demand.csv?_=1746323357\n",
      " 15%|█▌        | 2/13 [00:00<00:03,  3.09it/s]2025-05-03 21:49:18 - INFO - Fetching URL: https://www.caiso.com/outlook/history/20250422/demand.csv?_=1746323358\n",
      " 23%|██▎       | 3/13 [00:01<00:03,  2.78it/s]2025-05-03 21:49:18 - INFO - Fetching URL: https://www.caiso.com/outlook/history/20250423/demand.csv?_=1746323358\n",
      " 31%|███       | 4/13 [00:01<00:03,  2.90it/s]2025-05-03 21:49:18 - INFO - Fetching URL: https://www.caiso.com/outlook/history/20250424/demand.csv?_=1746323358\n",
      " 38%|███▊      | 5/13 [00:01<00:02,  2.76it/s]2025-05-03 21:49:19 - INFO - Fetching URL: https://www.caiso.com/outlook/history/20250425/demand.csv?_=1746323359\n",
      " 46%|████▌     | 6/13 [00:02<00:02,  2.84it/s]2025-05-03 21:49:19 - INFO - Fetching URL: https://www.caiso.com/outlook/history/20250426/demand.csv?_=1746323359\n",
      " 54%|█████▍    | 7/13 [00:02<00:02,  2.90it/s]2025-05-03 21:49:19 - INFO - Fetching URL: https://www.caiso.com/outlook/history/20250427/demand.csv?_=1746323359\n",
      " 62%|██████▏   | 8/13 [00:02<00:01,  2.86it/s]2025-05-03 21:49:20 - INFO - Fetching URL: https://www.caiso.com/outlook/history/20250428/demand.csv?_=1746323360\n",
      " 69%|██████▉   | 9/13 [00:03<00:01,  2.69it/s]2025-05-03 21:49:20 - INFO - Fetching URL: https://www.caiso.com/outlook/history/20250429/demand.csv?_=1746323360\n",
      " 77%|███████▋  | 10/13 [00:03<00:01,  2.29it/s]2025-05-03 21:49:21 - INFO - Fetching URL: https://www.caiso.com/outlook/history/20250430/demand.csv?_=1746323361\n",
      " 85%|████████▍ | 11/13 [00:04<00:00,  2.14it/s]2025-05-03 21:49:21 - INFO - Fetching URL: https://www.caiso.com/outlook/history/20250501/demand.csv?_=1746323361\n",
      " 92%|█████████▏| 12/13 [00:04<00:00,  2.32it/s]2025-05-03 21:49:22 - INFO - Fetching URL: https://www.caiso.com/outlook/history/20250502/demand.csv?_=1746323362\n",
      "100%|██████████| 13/13 [00:05<00:00,  2.53it/s]\n"
     ]
    },
    {
     "data": {
      "text/html": [
       "<div>\n",
       "<style scoped>\n",
       "    .dataframe tbody tr th:only-of-type {\n",
       "        vertical-align: middle;\n",
       "    }\n",
       "\n",
       "    .dataframe tbody tr th {\n",
       "        vertical-align: top;\n",
       "    }\n",
       "\n",
       "    .dataframe thead th {\n",
       "        text-align: right;\n",
       "    }\n",
       "</style>\n",
       "<table border=\"1\" class=\"dataframe\">\n",
       "  <thead>\n",
       "    <tr style=\"text-align: right;\">\n",
       "      <th></th>\n",
       "      <th>Time</th>\n",
       "      <th>Interval Start</th>\n",
       "      <th>Interval End</th>\n",
       "      <th>Load</th>\n",
       "    </tr>\n",
       "  </thead>\n",
       "  <tbody>\n",
       "    <tr>\n",
       "      <th>0</th>\n",
       "      <td>2025-04-20 00:00:00-07:00</td>\n",
       "      <td>2025-04-20 00:00:00-07:00</td>\n",
       "      <td>2025-04-20 00:05:00-07:00</td>\n",
       "      <td>20622</td>\n",
       "    </tr>\n",
       "    <tr>\n",
       "      <th>1</th>\n",
       "      <td>2025-04-20 00:05:00-07:00</td>\n",
       "      <td>2025-04-20 00:05:00-07:00</td>\n",
       "      <td>2025-04-20 00:10:00-07:00</td>\n",
       "      <td>20948</td>\n",
       "    </tr>\n",
       "    <tr>\n",
       "      <th>2</th>\n",
       "      <td>2025-04-20 00:10:00-07:00</td>\n",
       "      <td>2025-04-20 00:10:00-07:00</td>\n",
       "      <td>2025-04-20 00:15:00-07:00</td>\n",
       "      <td>21102</td>\n",
       "    </tr>\n",
       "    <tr>\n",
       "      <th>3</th>\n",
       "      <td>2025-04-20 00:15:00-07:00</td>\n",
       "      <td>2025-04-20 00:15:00-07:00</td>\n",
       "      <td>2025-04-20 00:20:00-07:00</td>\n",
       "      <td>21060</td>\n",
       "    </tr>\n",
       "    <tr>\n",
       "      <th>4</th>\n",
       "      <td>2025-04-20 00:20:00-07:00</td>\n",
       "      <td>2025-04-20 00:20:00-07:00</td>\n",
       "      <td>2025-04-20 00:25:00-07:00</td>\n",
       "      <td>21119</td>\n",
       "    </tr>\n",
       "  </tbody>\n",
       "</table>\n",
       "</div>"
      ],
      "text/plain": [
       "                       Time            Interval Start  \\\n",
       "0 2025-04-20 00:00:00-07:00 2025-04-20 00:00:00-07:00   \n",
       "1 2025-04-20 00:05:00-07:00 2025-04-20 00:05:00-07:00   \n",
       "2 2025-04-20 00:10:00-07:00 2025-04-20 00:10:00-07:00   \n",
       "3 2025-04-20 00:15:00-07:00 2025-04-20 00:15:00-07:00   \n",
       "4 2025-04-20 00:20:00-07:00 2025-04-20 00:20:00-07:00   \n",
       "\n",
       "               Interval End   Load  \n",
       "0 2025-04-20 00:05:00-07:00  20622  \n",
       "1 2025-04-20 00:10:00-07:00  20948  \n",
       "2 2025-04-20 00:15:00-07:00  21102  \n",
       "3 2025-04-20 00:20:00-07:00  21060  \n",
       "4 2025-04-20 00:25:00-07:00  21119  "
      ]
     },
     "execution_count": 119,
     "metadata": {},
     "output_type": "execute_result"
    }
   ],
   "source": [
    "load_df = caiso.get_load(start, end=end)\n",
    "load_df.head()"
   ]
  },
  {
   "cell_type": "code",
   "execution_count": 120,
   "id": "d1bd237d",
   "metadata": {},
   "outputs": [
    {
     "name": "stderr",
     "output_type": "stream",
     "text": [
      "/var/folders/4y/y61rk3957l34yct000xkq_5r0000gn/T/ipykernel_70874/3672753960.py:1: FutureWarning:\n",
      "\n",
      "'H' is deprecated and will be removed in a future version, please use 'h' instead.\n",
      "\n"
     ]
    },
    {
     "data": {
      "application/vnd.plotly.v1+json": {
       "config": {
        "plotlyServerURL": "https://plot.ly"
       },
       "data": [
        {
         "hovertemplate": "Time=%{x}<br>Load=%{y}<extra></extra>",
         "legendgroup": "",
         "line": {
          "color": "#636efa",
          "dash": "solid"
         },
         "marker": {
          "symbol": "circle"
         },
         "mode": "lines",
         "name": "",
         "orientation": "v",
         "showlegend": false,
         "type": "scatter",
         "x": [
          "2025-04-21T00:00:00.000000000",
          "2025-04-22T00:00:00.000000000",
          "2025-04-23T00:00:00.000000000",
          "2025-04-24T00:00:00.000000000",
          "2025-04-25T00:00:00.000000000",
          "2025-04-26T00:00:00.000000000",
          "2025-04-27T00:00:00.000000000",
          "2025-04-28T00:00:00.000000000",
          "2025-04-29T00:00:00.000000000",
          "2025-04-30T00:00:00.000000000",
          "2025-05-01T00:00:00.000000000"
         ],
         "xaxis": "x",
         "y": {
          "bdata": "AAAAAKPkHkFVVVVV+oofQauqqqrE7R9BAAAAAEwWIEEAAAAAG2YgQQAAAADkKR5Bq6qqqrgnHUGrqqqqmJceQQAAAAA/UB9BAAAAgOpAIEGrqqoqaB8gQQ==",
          "dtype": "f8"
         },
         "yaxis": "y"
        }
       ],
       "layout": {
        "legend": {
         "tracegroupgap": 0
        },
        "template": {
         "data": {
          "bar": [
           {
            "error_x": {
             "color": "#2a3f5f"
            },
            "error_y": {
             "color": "#2a3f5f"
            },
            "marker": {
             "line": {
              "color": "#E5ECF6",
              "width": 0.5
             },
             "pattern": {
              "fillmode": "overlay",
              "size": 10,
              "solidity": 0.2
             }
            },
            "type": "bar"
           }
          ],
          "barpolar": [
           {
            "marker": {
             "line": {
              "color": "#E5ECF6",
              "width": 0.5
             },
             "pattern": {
              "fillmode": "overlay",
              "size": 10,
              "solidity": 0.2
             }
            },
            "type": "barpolar"
           }
          ],
          "carpet": [
           {
            "aaxis": {
             "endlinecolor": "#2a3f5f",
             "gridcolor": "white",
             "linecolor": "white",
             "minorgridcolor": "white",
             "startlinecolor": "#2a3f5f"
            },
            "baxis": {
             "endlinecolor": "#2a3f5f",
             "gridcolor": "white",
             "linecolor": "white",
             "minorgridcolor": "white",
             "startlinecolor": "#2a3f5f"
            },
            "type": "carpet"
           }
          ],
          "choropleth": [
           {
            "colorbar": {
             "outlinewidth": 0,
             "ticks": ""
            },
            "type": "choropleth"
           }
          ],
          "contour": [
           {
            "colorbar": {
             "outlinewidth": 0,
             "ticks": ""
            },
            "colorscale": [
             [
              0,
              "#0d0887"
             ],
             [
              0.1111111111111111,
              "#46039f"
             ],
             [
              0.2222222222222222,
              "#7201a8"
             ],
             [
              0.3333333333333333,
              "#9c179e"
             ],
             [
              0.4444444444444444,
              "#bd3786"
             ],
             [
              0.5555555555555556,
              "#d8576b"
             ],
             [
              0.6666666666666666,
              "#ed7953"
             ],
             [
              0.7777777777777778,
              "#fb9f3a"
             ],
             [
              0.8888888888888888,
              "#fdca26"
             ],
             [
              1,
              "#f0f921"
             ]
            ],
            "type": "contour"
           }
          ],
          "contourcarpet": [
           {
            "colorbar": {
             "outlinewidth": 0,
             "ticks": ""
            },
            "type": "contourcarpet"
           }
          ],
          "heatmap": [
           {
            "colorbar": {
             "outlinewidth": 0,
             "ticks": ""
            },
            "colorscale": [
             [
              0,
              "#0d0887"
             ],
             [
              0.1111111111111111,
              "#46039f"
             ],
             [
              0.2222222222222222,
              "#7201a8"
             ],
             [
              0.3333333333333333,
              "#9c179e"
             ],
             [
              0.4444444444444444,
              "#bd3786"
             ],
             [
              0.5555555555555556,
              "#d8576b"
             ],
             [
              0.6666666666666666,
              "#ed7953"
             ],
             [
              0.7777777777777778,
              "#fb9f3a"
             ],
             [
              0.8888888888888888,
              "#fdca26"
             ],
             [
              1,
              "#f0f921"
             ]
            ],
            "type": "heatmap"
           }
          ],
          "histogram": [
           {
            "marker": {
             "pattern": {
              "fillmode": "overlay",
              "size": 10,
              "solidity": 0.2
             }
            },
            "type": "histogram"
           }
          ],
          "histogram2d": [
           {
            "colorbar": {
             "outlinewidth": 0,
             "ticks": ""
            },
            "colorscale": [
             [
              0,
              "#0d0887"
             ],
             [
              0.1111111111111111,
              "#46039f"
             ],
             [
              0.2222222222222222,
              "#7201a8"
             ],
             [
              0.3333333333333333,
              "#9c179e"
             ],
             [
              0.4444444444444444,
              "#bd3786"
             ],
             [
              0.5555555555555556,
              "#d8576b"
             ],
             [
              0.6666666666666666,
              "#ed7953"
             ],
             [
              0.7777777777777778,
              "#fb9f3a"
             ],
             [
              0.8888888888888888,
              "#fdca26"
             ],
             [
              1,
              "#f0f921"
             ]
            ],
            "type": "histogram2d"
           }
          ],
          "histogram2dcontour": [
           {
            "colorbar": {
             "outlinewidth": 0,
             "ticks": ""
            },
            "colorscale": [
             [
              0,
              "#0d0887"
             ],
             [
              0.1111111111111111,
              "#46039f"
             ],
             [
              0.2222222222222222,
              "#7201a8"
             ],
             [
              0.3333333333333333,
              "#9c179e"
             ],
             [
              0.4444444444444444,
              "#bd3786"
             ],
             [
              0.5555555555555556,
              "#d8576b"
             ],
             [
              0.6666666666666666,
              "#ed7953"
             ],
             [
              0.7777777777777778,
              "#fb9f3a"
             ],
             [
              0.8888888888888888,
              "#fdca26"
             ],
             [
              1,
              "#f0f921"
             ]
            ],
            "type": "histogram2dcontour"
           }
          ],
          "mesh3d": [
           {
            "colorbar": {
             "outlinewidth": 0,
             "ticks": ""
            },
            "type": "mesh3d"
           }
          ],
          "parcoords": [
           {
            "line": {
             "colorbar": {
              "outlinewidth": 0,
              "ticks": ""
             }
            },
            "type": "parcoords"
           }
          ],
          "pie": [
           {
            "automargin": true,
            "type": "pie"
           }
          ],
          "scatter": [
           {
            "fillpattern": {
             "fillmode": "overlay",
             "size": 10,
             "solidity": 0.2
            },
            "type": "scatter"
           }
          ],
          "scatter3d": [
           {
            "line": {
             "colorbar": {
              "outlinewidth": 0,
              "ticks": ""
             }
            },
            "marker": {
             "colorbar": {
              "outlinewidth": 0,
              "ticks": ""
             }
            },
            "type": "scatter3d"
           }
          ],
          "scattercarpet": [
           {
            "marker": {
             "colorbar": {
              "outlinewidth": 0,
              "ticks": ""
             }
            },
            "type": "scattercarpet"
           }
          ],
          "scattergeo": [
           {
            "marker": {
             "colorbar": {
              "outlinewidth": 0,
              "ticks": ""
             }
            },
            "type": "scattergeo"
           }
          ],
          "scattergl": [
           {
            "marker": {
             "colorbar": {
              "outlinewidth": 0,
              "ticks": ""
             }
            },
            "type": "scattergl"
           }
          ],
          "scattermap": [
           {
            "marker": {
             "colorbar": {
              "outlinewidth": 0,
              "ticks": ""
             }
            },
            "type": "scattermap"
           }
          ],
          "scattermapbox": [
           {
            "marker": {
             "colorbar": {
              "outlinewidth": 0,
              "ticks": ""
             }
            },
            "type": "scattermapbox"
           }
          ],
          "scatterpolar": [
           {
            "marker": {
             "colorbar": {
              "outlinewidth": 0,
              "ticks": ""
             }
            },
            "type": "scatterpolar"
           }
          ],
          "scatterpolargl": [
           {
            "marker": {
             "colorbar": {
              "outlinewidth": 0,
              "ticks": ""
             }
            },
            "type": "scatterpolargl"
           }
          ],
          "scatterternary": [
           {
            "marker": {
             "colorbar": {
              "outlinewidth": 0,
              "ticks": ""
             }
            },
            "type": "scatterternary"
           }
          ],
          "surface": [
           {
            "colorbar": {
             "outlinewidth": 0,
             "ticks": ""
            },
            "colorscale": [
             [
              0,
              "#0d0887"
             ],
             [
              0.1111111111111111,
              "#46039f"
             ],
             [
              0.2222222222222222,
              "#7201a8"
             ],
             [
              0.3333333333333333,
              "#9c179e"
             ],
             [
              0.4444444444444444,
              "#bd3786"
             ],
             [
              0.5555555555555556,
              "#d8576b"
             ],
             [
              0.6666666666666666,
              "#ed7953"
             ],
             [
              0.7777777777777778,
              "#fb9f3a"
             ],
             [
              0.8888888888888888,
              "#fdca26"
             ],
             [
              1,
              "#f0f921"
             ]
            ],
            "type": "surface"
           }
          ],
          "table": [
           {
            "cells": {
             "fill": {
              "color": "#EBF0F8"
             },
             "line": {
              "color": "white"
             }
            },
            "header": {
             "fill": {
              "color": "#C8D4E3"
             },
             "line": {
              "color": "white"
             }
            },
            "type": "table"
           }
          ]
         },
         "layout": {
          "annotationdefaults": {
           "arrowcolor": "#2a3f5f",
           "arrowhead": 0,
           "arrowwidth": 1
          },
          "autotypenumbers": "strict",
          "coloraxis": {
           "colorbar": {
            "outlinewidth": 0,
            "ticks": ""
           }
          },
          "colorscale": {
           "diverging": [
            [
             0,
             "#8e0152"
            ],
            [
             0.1,
             "#c51b7d"
            ],
            [
             0.2,
             "#de77ae"
            ],
            [
             0.3,
             "#f1b6da"
            ],
            [
             0.4,
             "#fde0ef"
            ],
            [
             0.5,
             "#f7f7f7"
            ],
            [
             0.6,
             "#e6f5d0"
            ],
            [
             0.7,
             "#b8e186"
            ],
            [
             0.8,
             "#7fbc41"
            ],
            [
             0.9,
             "#4d9221"
            ],
            [
             1,
             "#276419"
            ]
           ],
           "sequential": [
            [
             0,
             "#0d0887"
            ],
            [
             0.1111111111111111,
             "#46039f"
            ],
            [
             0.2222222222222222,
             "#7201a8"
            ],
            [
             0.3333333333333333,
             "#9c179e"
            ],
            [
             0.4444444444444444,
             "#bd3786"
            ],
            [
             0.5555555555555556,
             "#d8576b"
            ],
            [
             0.6666666666666666,
             "#ed7953"
            ],
            [
             0.7777777777777778,
             "#fb9f3a"
            ],
            [
             0.8888888888888888,
             "#fdca26"
            ],
            [
             1,
             "#f0f921"
            ]
           ],
           "sequentialminus": [
            [
             0,
             "#0d0887"
            ],
            [
             0.1111111111111111,
             "#46039f"
            ],
            [
             0.2222222222222222,
             "#7201a8"
            ],
            [
             0.3333333333333333,
             "#9c179e"
            ],
            [
             0.4444444444444444,
             "#bd3786"
            ],
            [
             0.5555555555555556,
             "#d8576b"
            ],
            [
             0.6666666666666666,
             "#ed7953"
            ],
            [
             0.7777777777777778,
             "#fb9f3a"
            ],
            [
             0.8888888888888888,
             "#fdca26"
            ],
            [
             1,
             "#f0f921"
            ]
           ]
          },
          "colorway": [
           "#636efa",
           "#EF553B",
           "#00cc96",
           "#ab63fa",
           "#FFA15A",
           "#19d3f3",
           "#FF6692",
           "#B6E880",
           "#FF97FF",
           "#FECB52"
          ],
          "font": {
           "color": "#2a3f5f"
          },
          "geo": {
           "bgcolor": "white",
           "lakecolor": "white",
           "landcolor": "#E5ECF6",
           "showlakes": true,
           "showland": true,
           "subunitcolor": "white"
          },
          "hoverlabel": {
           "align": "left"
          },
          "hovermode": "closest",
          "mapbox": {
           "style": "light"
          },
          "paper_bgcolor": "white",
          "plot_bgcolor": "#E5ECF6",
          "polar": {
           "angularaxis": {
            "gridcolor": "white",
            "linecolor": "white",
            "ticks": ""
           },
           "bgcolor": "#E5ECF6",
           "radialaxis": {
            "gridcolor": "white",
            "linecolor": "white",
            "ticks": ""
           }
          },
          "scene": {
           "xaxis": {
            "backgroundcolor": "#E5ECF6",
            "gridcolor": "white",
            "gridwidth": 2,
            "linecolor": "white",
            "showbackground": true,
            "ticks": "",
            "zerolinecolor": "white"
           },
           "yaxis": {
            "backgroundcolor": "#E5ECF6",
            "gridcolor": "white",
            "gridwidth": 2,
            "linecolor": "white",
            "showbackground": true,
            "ticks": "",
            "zerolinecolor": "white"
           },
           "zaxis": {
            "backgroundcolor": "#E5ECF6",
            "gridcolor": "white",
            "gridwidth": 2,
            "linecolor": "white",
            "showbackground": true,
            "ticks": "",
            "zerolinecolor": "white"
           }
          },
          "shapedefaults": {
           "line": {
            "color": "#2a3f5f"
           }
          },
          "ternary": {
           "aaxis": {
            "gridcolor": "white",
            "linecolor": "white",
            "ticks": ""
           },
           "baxis": {
            "gridcolor": "white",
            "linecolor": "white",
            "ticks": ""
           },
           "bgcolor": "#E5ECF6",
           "caxis": {
            "gridcolor": "white",
            "linecolor": "white",
            "ticks": ""
           }
          },
          "title": {
           "x": 0.05
          },
          "xaxis": {
           "automargin": true,
           "gridcolor": "white",
           "linecolor": "white",
           "ticks": "",
           "title": {
            "standoff": 15
           },
           "zerolinecolor": "white",
           "zerolinewidth": 2
          },
          "yaxis": {
           "automargin": true,
           "gridcolor": "white",
           "linecolor": "white",
           "ticks": "",
           "title": {
            "standoff": 15
           },
           "zerolinecolor": "white",
           "zerolinewidth": 2
          }
         }
        },
        "title": {
         "text": "Daily Load - CAISO"
        },
        "xaxis": {
         "anchor": "y",
         "domain": [
          0,
          1
         ],
         "title": {
          "text": "Time"
         }
        },
        "yaxis": {
         "anchor": "x",
         "domain": [
          0,
          1
         ],
         "title": {
          "text": "Load"
         }
        }
       }
      }
     },
     "metadata": {},
     "output_type": "display_data"
    }
   ],
   "source": [
    "hourly_load = load_df.set_index(\"Time\").resample(\"H\").mean()\n",
    "daily_load = (\n",
    "    hourly_load\n",
    "    .select_dtypes(include='number')\n",
    "    .resample(\"D\").sum()\n",
    "    .reset_index()\n",
    "    .iloc[1:-1]\n",
    ")\n",
    "\n",
    "fig = px.line(daily_load, x=\"Time\", y=\"Load\", title=\"Daily Load - CAISO\")\n",
    "fig.show()"
   ]
  },
  {
   "cell_type": "code",
   "execution_count": 121,
   "id": "24b90489",
   "metadata": {},
   "outputs": [
    {
     "name": "stderr",
     "output_type": "stream",
     "text": [
      "/var/folders/4y/y61rk3957l34yct000xkq_5r0000gn/T/ipykernel_70874/1320051042.py:8: FutureWarning:\n",
      "\n",
      "'H' is deprecated and will be removed in a future version, please use 'h' instead.\n",
      "\n"
     ]
    },
    {
     "data": {
      "text/html": [
       "<div>\n",
       "<style scoped>\n",
       "    .dataframe tbody tr th:only-of-type {\n",
       "        vertical-align: middle;\n",
       "    }\n",
       "\n",
       "    .dataframe tbody tr th {\n",
       "        vertical-align: top;\n",
       "    }\n",
       "\n",
       "    .dataframe thead th {\n",
       "        text-align: right;\n",
       "    }\n",
       "</style>\n",
       "<table border=\"1\" class=\"dataframe\">\n",
       "  <thead>\n",
       "    <tr style=\"text-align: right;\">\n",
       "      <th></th>\n",
       "      <th>Time</th>\n",
       "      <th>Load</th>\n",
       "    </tr>\n",
       "  </thead>\n",
       "  <tbody>\n",
       "    <tr>\n",
       "      <th>0</th>\n",
       "      <td>2025-04-20 00:00:00-07:00</td>\n",
       "      <td>250765</td>\n",
       "    </tr>\n",
       "    <tr>\n",
       "      <th>1</th>\n",
       "      <td>2025-04-20 01:00:00-07:00</td>\n",
       "      <td>245563</td>\n",
       "    </tr>\n",
       "    <tr>\n",
       "      <th>2</th>\n",
       "      <td>2025-04-20 02:00:00-07:00</td>\n",
       "      <td>234821</td>\n",
       "    </tr>\n",
       "    <tr>\n",
       "      <th>3</th>\n",
       "      <td>2025-04-20 03:00:00-07:00</td>\n",
       "      <td>230905</td>\n",
       "    </tr>\n",
       "    <tr>\n",
       "      <th>4</th>\n",
       "      <td>2025-04-20 04:00:00-07:00</td>\n",
       "      <td>229339</td>\n",
       "    </tr>\n",
       "  </tbody>\n",
       "</table>\n",
       "</div>"
      ],
      "text/plain": [
       "                       Time    Load\n",
       "0 2025-04-20 00:00:00-07:00  250765\n",
       "1 2025-04-20 01:00:00-07:00  245563\n",
       "2 2025-04-20 02:00:00-07:00  234821\n",
       "3 2025-04-20 03:00:00-07:00  230905\n",
       "4 2025-04-20 04:00:00-07:00  229339"
      ]
     },
     "execution_count": 121,
     "metadata": {},
     "output_type": "execute_result"
    }
   ],
   "source": [
    "load_df.set_index('Time', inplace=True)\n",
    "\n",
    "# Only resample numeric columns\n",
    "load_df_numeric = load_df.select_dtypes(include='number')\n",
    "\n",
    "load_df_hourly = (\n",
    "    load_df_numeric\n",
    "    .resample('H')\n",
    "    .sum()\n",
    "    .reset_index()\n",
    ")\n",
    "\n",
    "load_df_hourly.head()"
   ]
  },
  {
   "cell_type": "code",
   "execution_count": 122,
   "id": "d26d4cbc",
   "metadata": {},
   "outputs": [
    {
     "data": {
      "text/html": [
       "<div>\n",
       "<style scoped>\n",
       "    .dataframe tbody tr th:only-of-type {\n",
       "        vertical-align: middle;\n",
       "    }\n",
       "\n",
       "    .dataframe tbody tr th {\n",
       "        vertical-align: top;\n",
       "    }\n",
       "\n",
       "    .dataframe thead th {\n",
       "        text-align: right;\n",
       "    }\n",
       "</style>\n",
       "<table border=\"1\" class=\"dataframe\">\n",
       "  <thead>\n",
       "    <tr style=\"text-align: right;\">\n",
       "      <th></th>\n",
       "      <th>Time</th>\n",
       "      <th>Interval Start</th>\n",
       "      <th>Interval End</th>\n",
       "      <th>Market</th>\n",
       "      <th>Location</th>\n",
       "      <th>Location Type</th>\n",
       "      <th>LMP</th>\n",
       "      <th>Energy</th>\n",
       "      <th>Congestion</th>\n",
       "      <th>Loss</th>\n",
       "      <th>...</th>\n",
       "      <th>Biogas</th>\n",
       "      <th>Small Hydro</th>\n",
       "      <th>Coal</th>\n",
       "      <th>Nuclear</th>\n",
       "      <th>Natural Gas</th>\n",
       "      <th>Large Hydro</th>\n",
       "      <th>Batteries</th>\n",
       "      <th>Imports</th>\n",
       "      <th>Other</th>\n",
       "      <th>Load</th>\n",
       "    </tr>\n",
       "  </thead>\n",
       "  <tbody>\n",
       "    <tr>\n",
       "      <th>0</th>\n",
       "      <td>2025-04-20 00:00:00-07:00</td>\n",
       "      <td>2025-04-20 00:00:00-07:00</td>\n",
       "      <td>2025-04-20 01:00:00-07:00</td>\n",
       "      <td>DAY_AHEAD_HOURLY</td>\n",
       "      <td>TH_NP15_GEN-APND</td>\n",
       "      <td>Trading Hub</td>\n",
       "      <td>28.77610</td>\n",
       "      <td>33.30717</td>\n",
       "      <td>-3.16547</td>\n",
       "      <td>-1.36559</td>\n",
       "      <td>...</td>\n",
       "      <td>1337</td>\n",
       "      <td>3108</td>\n",
       "      <td>0</td>\n",
       "      <td>13608</td>\n",
       "      <td>36934</td>\n",
       "      <td>42041</td>\n",
       "      <td>22489</td>\n",
       "      <td>79391</td>\n",
       "      <td>0</td>\n",
       "      <td>250765</td>\n",
       "    </tr>\n",
       "    <tr>\n",
       "      <th>1</th>\n",
       "      <td>2025-04-20 00:00:00-07:00</td>\n",
       "      <td>2025-04-20 00:00:00-07:00</td>\n",
       "      <td>2025-04-20 01:00:00-07:00</td>\n",
       "      <td>DAY_AHEAD_HOURLY</td>\n",
       "      <td>TH_SP15_GEN-APND</td>\n",
       "      <td>Trading Hub</td>\n",
       "      <td>31.58829</td>\n",
       "      <td>33.30717</td>\n",
       "      <td>-0.41657</td>\n",
       "      <td>-1.30231</td>\n",
       "      <td>...</td>\n",
       "      <td>1337</td>\n",
       "      <td>3108</td>\n",
       "      <td>0</td>\n",
       "      <td>13608</td>\n",
       "      <td>36934</td>\n",
       "      <td>42041</td>\n",
       "      <td>22489</td>\n",
       "      <td>79391</td>\n",
       "      <td>0</td>\n",
       "      <td>250765</td>\n",
       "    </tr>\n",
       "    <tr>\n",
       "      <th>2</th>\n",
       "      <td>2025-04-20 00:00:00-07:00</td>\n",
       "      <td>2025-04-20 00:00:00-07:00</td>\n",
       "      <td>2025-04-20 01:00:00-07:00</td>\n",
       "      <td>DAY_AHEAD_HOURLY</td>\n",
       "      <td>TH_ZP26_GEN-APND</td>\n",
       "      <td>Trading Hub</td>\n",
       "      <td>32.59772</td>\n",
       "      <td>33.30717</td>\n",
       "      <td>0.00000</td>\n",
       "      <td>-0.70944</td>\n",
       "      <td>...</td>\n",
       "      <td>1337</td>\n",
       "      <td>3108</td>\n",
       "      <td>0</td>\n",
       "      <td>13608</td>\n",
       "      <td>36934</td>\n",
       "      <td>42041</td>\n",
       "      <td>22489</td>\n",
       "      <td>79391</td>\n",
       "      <td>0</td>\n",
       "      <td>250765</td>\n",
       "    </tr>\n",
       "    <tr>\n",
       "      <th>3</th>\n",
       "      <td>2025-04-20 01:00:00-07:00</td>\n",
       "      <td>2025-04-20 01:00:00-07:00</td>\n",
       "      <td>2025-04-20 02:00:00-07:00</td>\n",
       "      <td>DAY_AHEAD_HOURLY</td>\n",
       "      <td>TH_NP15_GEN-APND</td>\n",
       "      <td>Trading Hub</td>\n",
       "      <td>27.51442</td>\n",
       "      <td>32.05128</td>\n",
       "      <td>-3.20993</td>\n",
       "      <td>-1.32692</td>\n",
       "      <td>...</td>\n",
       "      <td>1338</td>\n",
       "      <td>3101</td>\n",
       "      <td>0</td>\n",
       "      <td>13607</td>\n",
       "      <td>37760</td>\n",
       "      <td>41828</td>\n",
       "      <td>9940</td>\n",
       "      <td>88761</td>\n",
       "      <td>0</td>\n",
       "      <td>245563</td>\n",
       "    </tr>\n",
       "    <tr>\n",
       "      <th>4</th>\n",
       "      <td>2025-04-20 01:00:00-07:00</td>\n",
       "      <td>2025-04-20 01:00:00-07:00</td>\n",
       "      <td>2025-04-20 02:00:00-07:00</td>\n",
       "      <td>DAY_AHEAD_HOURLY</td>\n",
       "      <td>TH_SP15_GEN-APND</td>\n",
       "      <td>Trading Hub</td>\n",
       "      <td>30.40209</td>\n",
       "      <td>32.05128</td>\n",
       "      <td>-0.41842</td>\n",
       "      <td>-1.23077</td>\n",
       "      <td>...</td>\n",
       "      <td>1338</td>\n",
       "      <td>3101</td>\n",
       "      <td>0</td>\n",
       "      <td>13607</td>\n",
       "      <td>37760</td>\n",
       "      <td>41828</td>\n",
       "      <td>9940</td>\n",
       "      <td>88761</td>\n",
       "      <td>0</td>\n",
       "      <td>245563</td>\n",
       "    </tr>\n",
       "  </tbody>\n",
       "</table>\n",
       "<p>5 rows × 24 columns</p>\n",
       "</div>"
      ],
      "text/plain": [
       "                       Time            Interval Start  \\\n",
       "0 2025-04-20 00:00:00-07:00 2025-04-20 00:00:00-07:00   \n",
       "1 2025-04-20 00:00:00-07:00 2025-04-20 00:00:00-07:00   \n",
       "2 2025-04-20 00:00:00-07:00 2025-04-20 00:00:00-07:00   \n",
       "3 2025-04-20 01:00:00-07:00 2025-04-20 01:00:00-07:00   \n",
       "4 2025-04-20 01:00:00-07:00 2025-04-20 01:00:00-07:00   \n",
       "\n",
       "               Interval End            Market          Location Location Type  \\\n",
       "0 2025-04-20 01:00:00-07:00  DAY_AHEAD_HOURLY  TH_NP15_GEN-APND   Trading Hub   \n",
       "1 2025-04-20 01:00:00-07:00  DAY_AHEAD_HOURLY  TH_SP15_GEN-APND   Trading Hub   \n",
       "2 2025-04-20 01:00:00-07:00  DAY_AHEAD_HOURLY  TH_ZP26_GEN-APND   Trading Hub   \n",
       "3 2025-04-20 02:00:00-07:00  DAY_AHEAD_HOURLY  TH_NP15_GEN-APND   Trading Hub   \n",
       "4 2025-04-20 02:00:00-07:00  DAY_AHEAD_HOURLY  TH_SP15_GEN-APND   Trading Hub   \n",
       "\n",
       "        LMP    Energy  Congestion     Loss  ...  Biogas  Small Hydro  Coal  \\\n",
       "0  28.77610  33.30717    -3.16547 -1.36559  ...    1337         3108     0   \n",
       "1  31.58829  33.30717    -0.41657 -1.30231  ...    1337         3108     0   \n",
       "2  32.59772  33.30717     0.00000 -0.70944  ...    1337         3108     0   \n",
       "3  27.51442  32.05128    -3.20993 -1.32692  ...    1338         3101     0   \n",
       "4  30.40209  32.05128    -0.41842 -1.23077  ...    1338         3101     0   \n",
       "\n",
       "   Nuclear  Natural Gas  Large Hydro  Batteries  Imports  Other    Load  \n",
       "0    13608        36934        42041      22489    79391      0  250765  \n",
       "1    13608        36934        42041      22489    79391      0  250765  \n",
       "2    13608        36934        42041      22489    79391      0  250765  \n",
       "3    13607        37760        41828       9940    88761      0  245563  \n",
       "4    13607        37760        41828       9940    88761      0  245563  \n",
       "\n",
       "[5 rows x 24 columns]"
      ]
     },
     "execution_count": 122,
     "metadata": {},
     "output_type": "execute_result"
    }
   ],
   "source": [
    "merge_df = pd.merge(lmp_df, mix_df_hourly, on='Time', how='inner')\n",
    "merged_df = pd.merge(merge_df, load_df_hourly, on='Time', how='left')\n",
    "merged_df.head()\n"
   ]
  },
  {
   "cell_type": "code",
   "execution_count": 123,
   "id": "322b0eee",
   "metadata": {},
   "outputs": [
    {
     "data": {
      "text/html": [
       "<div>\n",
       "<style scoped>\n",
       "    .dataframe tbody tr th:only-of-type {\n",
       "        vertical-align: middle;\n",
       "    }\n",
       "\n",
       "    .dataframe tbody tr th {\n",
       "        vertical-align: top;\n",
       "    }\n",
       "\n",
       "    .dataframe thead th {\n",
       "        text-align: right;\n",
       "    }\n",
       "</style>\n",
       "<table border=\"1\" class=\"dataframe\">\n",
       "  <thead>\n",
       "    <tr style=\"text-align: right;\">\n",
       "      <th></th>\n",
       "      <th>Time</th>\n",
       "      <th>Market</th>\n",
       "      <th>Location</th>\n",
       "      <th>Location Type</th>\n",
       "      <th>LMP</th>\n",
       "      <th>Energy</th>\n",
       "      <th>Congestion</th>\n",
       "      <th>Loss</th>\n",
       "      <th>Solar</th>\n",
       "      <th>Wind</th>\n",
       "      <th>...</th>\n",
       "      <th>Biogas</th>\n",
       "      <th>Small Hydro</th>\n",
       "      <th>Coal</th>\n",
       "      <th>Nuclear</th>\n",
       "      <th>Natural Gas</th>\n",
       "      <th>Large Hydro</th>\n",
       "      <th>Batteries</th>\n",
       "      <th>Imports</th>\n",
       "      <th>Other</th>\n",
       "      <th>Load</th>\n",
       "    </tr>\n",
       "  </thead>\n",
       "  <tbody>\n",
       "    <tr>\n",
       "      <th>0</th>\n",
       "      <td>2025-04-20 00:00:00-07:00</td>\n",
       "      <td>DAY_AHEAD_HOURLY</td>\n",
       "      <td>TH_NP15_GEN-APND</td>\n",
       "      <td>Trading Hub</td>\n",
       "      <td>28.77610</td>\n",
       "      <td>33.30717</td>\n",
       "      <td>-3.16547</td>\n",
       "      <td>-1.36559</td>\n",
       "      <td>82</td>\n",
       "      <td>37124</td>\n",
       "      <td>...</td>\n",
       "      <td>1337</td>\n",
       "      <td>3108</td>\n",
       "      <td>0</td>\n",
       "      <td>13608</td>\n",
       "      <td>36934</td>\n",
       "      <td>42041</td>\n",
       "      <td>22489</td>\n",
       "      <td>79391</td>\n",
       "      <td>0</td>\n",
       "      <td>250765</td>\n",
       "    </tr>\n",
       "    <tr>\n",
       "      <th>1</th>\n",
       "      <td>2025-04-20 00:00:00-07:00</td>\n",
       "      <td>DAY_AHEAD_HOURLY</td>\n",
       "      <td>TH_SP15_GEN-APND</td>\n",
       "      <td>Trading Hub</td>\n",
       "      <td>31.58829</td>\n",
       "      <td>33.30717</td>\n",
       "      <td>-0.41657</td>\n",
       "      <td>-1.30231</td>\n",
       "      <td>82</td>\n",
       "      <td>37124</td>\n",
       "      <td>...</td>\n",
       "      <td>1337</td>\n",
       "      <td>3108</td>\n",
       "      <td>0</td>\n",
       "      <td>13608</td>\n",
       "      <td>36934</td>\n",
       "      <td>42041</td>\n",
       "      <td>22489</td>\n",
       "      <td>79391</td>\n",
       "      <td>0</td>\n",
       "      <td>250765</td>\n",
       "    </tr>\n",
       "    <tr>\n",
       "      <th>2</th>\n",
       "      <td>2025-04-20 00:00:00-07:00</td>\n",
       "      <td>DAY_AHEAD_HOURLY</td>\n",
       "      <td>TH_ZP26_GEN-APND</td>\n",
       "      <td>Trading Hub</td>\n",
       "      <td>32.59772</td>\n",
       "      <td>33.30717</td>\n",
       "      <td>0.00000</td>\n",
       "      <td>-0.70944</td>\n",
       "      <td>82</td>\n",
       "      <td>37124</td>\n",
       "      <td>...</td>\n",
       "      <td>1337</td>\n",
       "      <td>3108</td>\n",
       "      <td>0</td>\n",
       "      <td>13608</td>\n",
       "      <td>36934</td>\n",
       "      <td>42041</td>\n",
       "      <td>22489</td>\n",
       "      <td>79391</td>\n",
       "      <td>0</td>\n",
       "      <td>250765</td>\n",
       "    </tr>\n",
       "    <tr>\n",
       "      <th>3</th>\n",
       "      <td>2025-04-20 01:00:00-07:00</td>\n",
       "      <td>DAY_AHEAD_HOURLY</td>\n",
       "      <td>TH_NP15_GEN-APND</td>\n",
       "      <td>Trading Hub</td>\n",
       "      <td>27.51442</td>\n",
       "      <td>32.05128</td>\n",
       "      <td>-3.20993</td>\n",
       "      <td>-1.32692</td>\n",
       "      <td>90</td>\n",
       "      <td>39033</td>\n",
       "      <td>...</td>\n",
       "      <td>1338</td>\n",
       "      <td>3101</td>\n",
       "      <td>0</td>\n",
       "      <td>13607</td>\n",
       "      <td>37760</td>\n",
       "      <td>41828</td>\n",
       "      <td>9940</td>\n",
       "      <td>88761</td>\n",
       "      <td>0</td>\n",
       "      <td>245563</td>\n",
       "    </tr>\n",
       "    <tr>\n",
       "      <th>4</th>\n",
       "      <td>2025-04-20 01:00:00-07:00</td>\n",
       "      <td>DAY_AHEAD_HOURLY</td>\n",
       "      <td>TH_SP15_GEN-APND</td>\n",
       "      <td>Trading Hub</td>\n",
       "      <td>30.40209</td>\n",
       "      <td>32.05128</td>\n",
       "      <td>-0.41842</td>\n",
       "      <td>-1.23077</td>\n",
       "      <td>90</td>\n",
       "      <td>39033</td>\n",
       "      <td>...</td>\n",
       "      <td>1338</td>\n",
       "      <td>3101</td>\n",
       "      <td>0</td>\n",
       "      <td>13607</td>\n",
       "      <td>37760</td>\n",
       "      <td>41828</td>\n",
       "      <td>9940</td>\n",
       "      <td>88761</td>\n",
       "      <td>0</td>\n",
       "      <td>245563</td>\n",
       "    </tr>\n",
       "  </tbody>\n",
       "</table>\n",
       "<p>5 rows × 22 columns</p>\n",
       "</div>"
      ],
      "text/plain": [
       "                       Time            Market          Location Location Type  \\\n",
       "0 2025-04-20 00:00:00-07:00  DAY_AHEAD_HOURLY  TH_NP15_GEN-APND   Trading Hub   \n",
       "1 2025-04-20 00:00:00-07:00  DAY_AHEAD_HOURLY  TH_SP15_GEN-APND   Trading Hub   \n",
       "2 2025-04-20 00:00:00-07:00  DAY_AHEAD_HOURLY  TH_ZP26_GEN-APND   Trading Hub   \n",
       "3 2025-04-20 01:00:00-07:00  DAY_AHEAD_HOURLY  TH_NP15_GEN-APND   Trading Hub   \n",
       "4 2025-04-20 01:00:00-07:00  DAY_AHEAD_HOURLY  TH_SP15_GEN-APND   Trading Hub   \n",
       "\n",
       "        LMP    Energy  Congestion     Loss  Solar   Wind  ...  Biogas  \\\n",
       "0  28.77610  33.30717    -3.16547 -1.36559     82  37124  ...    1337   \n",
       "1  31.58829  33.30717    -0.41657 -1.30231     82  37124  ...    1337   \n",
       "2  32.59772  33.30717     0.00000 -0.70944     82  37124  ...    1337   \n",
       "3  27.51442  32.05128    -3.20993 -1.32692     90  39033  ...    1338   \n",
       "4  30.40209  32.05128    -0.41842 -1.23077     90  39033  ...    1338   \n",
       "\n",
       "   Small Hydro  Coal  Nuclear  Natural Gas  Large Hydro  Batteries  Imports  \\\n",
       "0         3108     0    13608        36934        42041      22489    79391   \n",
       "1         3108     0    13608        36934        42041      22489    79391   \n",
       "2         3108     0    13608        36934        42041      22489    79391   \n",
       "3         3101     0    13607        37760        41828       9940    88761   \n",
       "4         3101     0    13607        37760        41828       9940    88761   \n",
       "\n",
       "   Other    Load  \n",
       "0      0  250765  \n",
       "1      0  250765  \n",
       "2      0  250765  \n",
       "3      0  245563  \n",
       "4      0  245563  \n",
       "\n",
       "[5 rows x 22 columns]"
      ]
     },
     "execution_count": 123,
     "metadata": {},
     "output_type": "execute_result"
    }
   ],
   "source": [
    "merged_df.drop(columns = ['Interval Start', 'Interval End'], inplace=True)\n",
    "merged_df.head()"
   ]
  },
  {
   "cell_type": "markdown",
   "id": "e7516d10",
   "metadata": {},
   "source": [
    "## EDA"
   ]
  },
  {
   "cell_type": "code",
   "execution_count": 124,
   "id": "2ced6939",
   "metadata": {},
   "outputs": [
    {
     "data": {
      "application/vnd.plotly.v1+json": {
       "config": {
        "plotlyServerURL": "https://plot.ly"
       },
       "data": [
        {
         "hovertemplate": "Location=TH_NP15_GEN-APND<br>Timestamp=%{x}<br>LMP ($/MWh)=%{y}<extra></extra>",
         "legendgroup": "TH_NP15_GEN-APND",
         "line": {
          "color": "#636efa",
          "dash": "solid"
         },
         "marker": {
          "symbol": "circle"
         },
         "mode": "lines",
         "name": "TH_NP15_GEN-APND",
         "orientation": "v",
         "showlegend": true,
         "type": "scatter",
         "x": [
          "2025-04-20T00:00:00.000000000",
          "2025-04-20T01:00:00.000000000",
          "2025-04-20T02:00:00.000000000",
          "2025-04-20T03:00:00.000000000",
          "2025-04-20T04:00:00.000000000",
          "2025-04-20T05:00:00.000000000",
          "2025-04-20T06:00:00.000000000",
          "2025-04-20T07:00:00.000000000",
          "2025-04-20T08:00:00.000000000",
          "2025-04-20T09:00:00.000000000",
          "2025-04-20T10:00:00.000000000",
          "2025-04-20T11:00:00.000000000",
          "2025-04-20T12:00:00.000000000",
          "2025-04-20T13:00:00.000000000",
          "2025-04-20T14:00:00.000000000",
          "2025-04-20T15:00:00.000000000",
          "2025-04-20T16:00:00.000000000",
          "2025-04-20T17:00:00.000000000",
          "2025-04-20T18:00:00.000000000",
          "2025-04-20T19:00:00.000000000",
          "2025-04-20T20:00:00.000000000",
          "2025-04-20T21:00:00.000000000",
          "2025-04-20T22:00:00.000000000",
          "2025-04-20T23:00:00.000000000",
          "2025-04-21T00:00:00.000000000",
          "2025-04-21T01:00:00.000000000",
          "2025-04-21T02:00:00.000000000",
          "2025-04-21T03:00:00.000000000",
          "2025-04-21T04:00:00.000000000",
          "2025-04-21T05:00:00.000000000",
          "2025-04-21T06:00:00.000000000",
          "2025-04-21T07:00:00.000000000",
          "2025-04-21T08:00:00.000000000",
          "2025-04-21T09:00:00.000000000",
          "2025-04-21T10:00:00.000000000",
          "2025-04-21T11:00:00.000000000",
          "2025-04-21T12:00:00.000000000",
          "2025-04-21T13:00:00.000000000",
          "2025-04-21T14:00:00.000000000",
          "2025-04-21T15:00:00.000000000",
          "2025-04-21T16:00:00.000000000",
          "2025-04-21T17:00:00.000000000",
          "2025-04-21T18:00:00.000000000",
          "2025-04-21T19:00:00.000000000",
          "2025-04-21T20:00:00.000000000",
          "2025-04-21T21:00:00.000000000",
          "2025-04-21T22:00:00.000000000",
          "2025-04-21T23:00:00.000000000",
          "2025-04-22T00:00:00.000000000",
          "2025-04-22T01:00:00.000000000",
          "2025-04-22T02:00:00.000000000",
          "2025-04-22T03:00:00.000000000",
          "2025-04-22T04:00:00.000000000",
          "2025-04-22T05:00:00.000000000",
          "2025-04-22T06:00:00.000000000",
          "2025-04-22T07:00:00.000000000",
          "2025-04-22T08:00:00.000000000",
          "2025-04-22T09:00:00.000000000",
          "2025-04-22T10:00:00.000000000",
          "2025-04-22T11:00:00.000000000",
          "2025-04-22T12:00:00.000000000",
          "2025-04-22T13:00:00.000000000",
          "2025-04-22T14:00:00.000000000",
          "2025-04-22T15:00:00.000000000",
          "2025-04-22T16:00:00.000000000",
          "2025-04-22T17:00:00.000000000",
          "2025-04-22T18:00:00.000000000",
          "2025-04-22T19:00:00.000000000",
          "2025-04-22T20:00:00.000000000",
          "2025-04-22T21:00:00.000000000",
          "2025-04-22T22:00:00.000000000",
          "2025-04-22T23:00:00.000000000",
          "2025-04-23T00:00:00.000000000",
          "2025-04-23T01:00:00.000000000",
          "2025-04-23T02:00:00.000000000",
          "2025-04-23T03:00:00.000000000",
          "2025-04-23T04:00:00.000000000",
          "2025-04-23T05:00:00.000000000",
          "2025-04-23T06:00:00.000000000",
          "2025-04-23T07:00:00.000000000",
          "2025-04-23T08:00:00.000000000",
          "2025-04-23T09:00:00.000000000",
          "2025-04-23T10:00:00.000000000",
          "2025-04-23T11:00:00.000000000",
          "2025-04-23T12:00:00.000000000",
          "2025-04-23T13:00:00.000000000",
          "2025-04-23T14:00:00.000000000",
          "2025-04-23T15:00:00.000000000",
          "2025-04-23T16:00:00.000000000",
          "2025-04-23T17:00:00.000000000",
          "2025-04-23T18:00:00.000000000",
          "2025-04-23T19:00:00.000000000",
          "2025-04-23T20:00:00.000000000",
          "2025-04-23T21:00:00.000000000",
          "2025-04-23T22:00:00.000000000",
          "2025-04-23T23:00:00.000000000",
          "2025-04-24T00:00:00.000000000",
          "2025-04-24T01:00:00.000000000",
          "2025-04-24T02:00:00.000000000",
          "2025-04-24T03:00:00.000000000",
          "2025-04-24T04:00:00.000000000",
          "2025-04-24T05:00:00.000000000",
          "2025-04-24T06:00:00.000000000",
          "2025-04-24T07:00:00.000000000",
          "2025-04-24T08:00:00.000000000",
          "2025-04-24T09:00:00.000000000",
          "2025-04-24T10:00:00.000000000",
          "2025-04-24T11:00:00.000000000",
          "2025-04-24T12:00:00.000000000",
          "2025-04-24T13:00:00.000000000",
          "2025-04-24T14:00:00.000000000",
          "2025-04-24T15:00:00.000000000",
          "2025-04-24T16:00:00.000000000",
          "2025-04-24T17:00:00.000000000",
          "2025-04-24T18:00:00.000000000",
          "2025-04-24T19:00:00.000000000",
          "2025-04-24T20:00:00.000000000",
          "2025-04-24T21:00:00.000000000",
          "2025-04-24T22:00:00.000000000",
          "2025-04-24T23:00:00.000000000",
          "2025-04-25T00:00:00.000000000",
          "2025-04-25T01:00:00.000000000",
          "2025-04-25T02:00:00.000000000",
          "2025-04-25T03:00:00.000000000",
          "2025-04-25T04:00:00.000000000",
          "2025-04-25T05:00:00.000000000",
          "2025-04-25T06:00:00.000000000",
          "2025-04-25T07:00:00.000000000",
          "2025-04-25T08:00:00.000000000",
          "2025-04-25T09:00:00.000000000",
          "2025-04-25T10:00:00.000000000",
          "2025-04-25T11:00:00.000000000",
          "2025-04-25T12:00:00.000000000",
          "2025-04-25T13:00:00.000000000",
          "2025-04-25T14:00:00.000000000",
          "2025-04-25T15:00:00.000000000",
          "2025-04-25T16:00:00.000000000",
          "2025-04-25T17:00:00.000000000",
          "2025-04-25T18:00:00.000000000",
          "2025-04-25T19:00:00.000000000",
          "2025-04-25T20:00:00.000000000",
          "2025-04-25T21:00:00.000000000",
          "2025-04-25T22:00:00.000000000",
          "2025-04-25T23:00:00.000000000",
          "2025-04-26T00:00:00.000000000",
          "2025-04-26T01:00:00.000000000",
          "2025-04-26T02:00:00.000000000",
          "2025-04-26T03:00:00.000000000",
          "2025-04-26T04:00:00.000000000",
          "2025-04-26T05:00:00.000000000",
          "2025-04-26T06:00:00.000000000",
          "2025-04-26T07:00:00.000000000",
          "2025-04-26T08:00:00.000000000",
          "2025-04-26T09:00:00.000000000",
          "2025-04-26T10:00:00.000000000",
          "2025-04-26T11:00:00.000000000",
          "2025-04-26T12:00:00.000000000",
          "2025-04-26T13:00:00.000000000",
          "2025-04-26T14:00:00.000000000",
          "2025-04-26T15:00:00.000000000",
          "2025-04-26T16:00:00.000000000",
          "2025-04-26T17:00:00.000000000",
          "2025-04-26T18:00:00.000000000",
          "2025-04-26T19:00:00.000000000",
          "2025-04-26T20:00:00.000000000",
          "2025-04-26T21:00:00.000000000",
          "2025-04-26T22:00:00.000000000",
          "2025-04-26T23:00:00.000000000",
          "2025-04-27T00:00:00.000000000",
          "2025-04-27T01:00:00.000000000",
          "2025-04-27T02:00:00.000000000",
          "2025-04-27T03:00:00.000000000",
          "2025-04-27T04:00:00.000000000",
          "2025-04-27T05:00:00.000000000",
          "2025-04-27T06:00:00.000000000",
          "2025-04-27T07:00:00.000000000",
          "2025-04-27T08:00:00.000000000",
          "2025-04-27T09:00:00.000000000",
          "2025-04-27T10:00:00.000000000",
          "2025-04-27T11:00:00.000000000",
          "2025-04-27T12:00:00.000000000",
          "2025-04-27T13:00:00.000000000",
          "2025-04-27T14:00:00.000000000",
          "2025-04-27T15:00:00.000000000",
          "2025-04-27T16:00:00.000000000",
          "2025-04-27T17:00:00.000000000",
          "2025-04-27T18:00:00.000000000",
          "2025-04-27T19:00:00.000000000",
          "2025-04-27T20:00:00.000000000",
          "2025-04-27T21:00:00.000000000",
          "2025-04-27T22:00:00.000000000",
          "2025-04-27T23:00:00.000000000",
          "2025-04-28T00:00:00.000000000",
          "2025-04-28T01:00:00.000000000",
          "2025-04-28T02:00:00.000000000",
          "2025-04-28T03:00:00.000000000",
          "2025-04-28T04:00:00.000000000",
          "2025-04-28T05:00:00.000000000",
          "2025-04-28T06:00:00.000000000",
          "2025-04-28T07:00:00.000000000",
          "2025-04-28T08:00:00.000000000",
          "2025-04-28T09:00:00.000000000",
          "2025-04-28T10:00:00.000000000",
          "2025-04-28T11:00:00.000000000",
          "2025-04-28T12:00:00.000000000",
          "2025-04-28T13:00:00.000000000",
          "2025-04-28T14:00:00.000000000",
          "2025-04-28T15:00:00.000000000",
          "2025-04-28T16:00:00.000000000",
          "2025-04-28T17:00:00.000000000",
          "2025-04-28T18:00:00.000000000",
          "2025-04-28T19:00:00.000000000",
          "2025-04-28T20:00:00.000000000",
          "2025-04-28T21:00:00.000000000",
          "2025-04-28T22:00:00.000000000",
          "2025-04-28T23:00:00.000000000",
          "2025-04-29T00:00:00.000000000",
          "2025-04-29T01:00:00.000000000",
          "2025-04-29T02:00:00.000000000",
          "2025-04-29T03:00:00.000000000",
          "2025-04-29T04:00:00.000000000",
          "2025-04-29T05:00:00.000000000",
          "2025-04-29T06:00:00.000000000",
          "2025-04-29T07:00:00.000000000",
          "2025-04-29T08:00:00.000000000",
          "2025-04-29T09:00:00.000000000",
          "2025-04-29T10:00:00.000000000",
          "2025-04-29T11:00:00.000000000",
          "2025-04-29T12:00:00.000000000",
          "2025-04-29T13:00:00.000000000",
          "2025-04-29T14:00:00.000000000",
          "2025-04-29T15:00:00.000000000",
          "2025-04-29T16:00:00.000000000",
          "2025-04-29T17:00:00.000000000",
          "2025-04-29T18:00:00.000000000",
          "2025-04-29T19:00:00.000000000",
          "2025-04-29T20:00:00.000000000",
          "2025-04-29T21:00:00.000000000",
          "2025-04-29T22:00:00.000000000",
          "2025-04-29T23:00:00.000000000",
          "2025-04-30T00:00:00.000000000",
          "2025-04-30T01:00:00.000000000",
          "2025-04-30T02:00:00.000000000",
          "2025-04-30T03:00:00.000000000",
          "2025-04-30T04:00:00.000000000",
          "2025-04-30T05:00:00.000000000",
          "2025-04-30T06:00:00.000000000",
          "2025-04-30T07:00:00.000000000",
          "2025-04-30T08:00:00.000000000",
          "2025-04-30T09:00:00.000000000",
          "2025-04-30T10:00:00.000000000",
          "2025-04-30T11:00:00.000000000",
          "2025-04-30T12:00:00.000000000",
          "2025-04-30T13:00:00.000000000",
          "2025-04-30T14:00:00.000000000",
          "2025-04-30T15:00:00.000000000",
          "2025-04-30T16:00:00.000000000",
          "2025-04-30T17:00:00.000000000",
          "2025-04-30T18:00:00.000000000",
          "2025-04-30T19:00:00.000000000",
          "2025-04-30T20:00:00.000000000",
          "2025-04-30T21:00:00.000000000",
          "2025-04-30T22:00:00.000000000",
          "2025-04-30T23:00:00.000000000",
          "2025-05-01T00:00:00.000000000",
          "2025-05-01T01:00:00.000000000",
          "2025-05-01T02:00:00.000000000",
          "2025-05-01T03:00:00.000000000",
          "2025-05-01T04:00:00.000000000",
          "2025-05-01T05:00:00.000000000",
          "2025-05-01T06:00:00.000000000",
          "2025-05-01T07:00:00.000000000",
          "2025-05-01T08:00:00.000000000",
          "2025-05-01T09:00:00.000000000",
          "2025-05-01T10:00:00.000000000",
          "2025-05-01T11:00:00.000000000",
          "2025-05-01T12:00:00.000000000",
          "2025-05-01T13:00:00.000000000",
          "2025-05-01T14:00:00.000000000",
          "2025-05-01T15:00:00.000000000",
          "2025-05-01T16:00:00.000000000",
          "2025-05-01T17:00:00.000000000",
          "2025-05-01T18:00:00.000000000",
          "2025-05-01T19:00:00.000000000",
          "2025-05-01T20:00:00.000000000",
          "2025-05-01T21:00:00.000000000",
          "2025-05-01T22:00:00.000000000",
          "2025-05-01T23:00:00.000000000",
          "2025-05-02T00:00:00.000000000",
          "2025-05-02T01:00:00.000000000",
          "2025-05-02T02:00:00.000000000",
          "2025-05-02T03:00:00.000000000",
          "2025-05-02T04:00:00.000000000",
          "2025-05-02T05:00:00.000000000",
          "2025-05-02T06:00:00.000000000",
          "2025-05-02T07:00:00.000000000",
          "2025-05-02T08:00:00.000000000",
          "2025-05-02T09:00:00.000000000",
          "2025-05-02T10:00:00.000000000",
          "2025-05-02T11:00:00.000000000",
          "2025-05-02T12:00:00.000000000",
          "2025-05-02T13:00:00.000000000",
          "2025-05-02T14:00:00.000000000",
          "2025-05-02T15:00:00.000000000",
          "2025-05-02T16:00:00.000000000",
          "2025-05-02T17:00:00.000000000",
          "2025-05-02T18:00:00.000000000",
          "2025-05-02T19:00:00.000000000",
          "2025-05-02T20:00:00.000000000",
          "2025-05-02T21:00:00.000000000",
          "2025-05-02T22:00:00.000000000",
          "2025-05-02T23:00:00.000000000"
         ],
         "xaxis": "x",
         "y": {
          "bdata": "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",
          "dtype": "f8"
         },
         "yaxis": "y"
        },
        {
         "hovertemplate": "Location=TH_SP15_GEN-APND<br>Timestamp=%{x}<br>LMP ($/MWh)=%{y}<extra></extra>",
         "legendgroup": "TH_SP15_GEN-APND",
         "line": {
          "color": "#EF553B",
          "dash": "solid"
         },
         "marker": {
          "symbol": "circle"
         },
         "mode": "lines",
         "name": "TH_SP15_GEN-APND",
         "orientation": "v",
         "showlegend": true,
         "type": "scatter",
         "x": [
          "2025-04-20T00:00:00.000000000",
          "2025-04-20T01:00:00.000000000",
          "2025-04-20T02:00:00.000000000",
          "2025-04-20T03:00:00.000000000",
          "2025-04-20T04:00:00.000000000",
          "2025-04-20T05:00:00.000000000",
          "2025-04-20T06:00:00.000000000",
          "2025-04-20T07:00:00.000000000",
          "2025-04-20T08:00:00.000000000",
          "2025-04-20T09:00:00.000000000",
          "2025-04-20T10:00:00.000000000",
          "2025-04-20T11:00:00.000000000",
          "2025-04-20T12:00:00.000000000",
          "2025-04-20T13:00:00.000000000",
          "2025-04-20T14:00:00.000000000",
          "2025-04-20T15:00:00.000000000",
          "2025-04-20T16:00:00.000000000",
          "2025-04-20T17:00:00.000000000",
          "2025-04-20T18:00:00.000000000",
          "2025-04-20T19:00:00.000000000",
          "2025-04-20T20:00:00.000000000",
          "2025-04-20T21:00:00.000000000",
          "2025-04-20T22:00:00.000000000",
          "2025-04-20T23:00:00.000000000",
          "2025-04-21T00:00:00.000000000",
          "2025-04-21T01:00:00.000000000",
          "2025-04-21T02:00:00.000000000",
          "2025-04-21T03:00:00.000000000",
          "2025-04-21T04:00:00.000000000",
          "2025-04-21T05:00:00.000000000",
          "2025-04-21T06:00:00.000000000",
          "2025-04-21T07:00:00.000000000",
          "2025-04-21T08:00:00.000000000",
          "2025-04-21T09:00:00.000000000",
          "2025-04-21T10:00:00.000000000",
          "2025-04-21T11:00:00.000000000",
          "2025-04-21T12:00:00.000000000",
          "2025-04-21T13:00:00.000000000",
          "2025-04-21T14:00:00.000000000",
          "2025-04-21T15:00:00.000000000",
          "2025-04-21T16:00:00.000000000",
          "2025-04-21T17:00:00.000000000",
          "2025-04-21T18:00:00.000000000",
          "2025-04-21T19:00:00.000000000",
          "2025-04-21T20:00:00.000000000",
          "2025-04-21T21:00:00.000000000",
          "2025-04-21T22:00:00.000000000",
          "2025-04-21T23:00:00.000000000",
          "2025-04-22T00:00:00.000000000",
          "2025-04-22T01:00:00.000000000",
          "2025-04-22T02:00:00.000000000",
          "2025-04-22T03:00:00.000000000",
          "2025-04-22T04:00:00.000000000",
          "2025-04-22T05:00:00.000000000",
          "2025-04-22T06:00:00.000000000",
          "2025-04-22T07:00:00.000000000",
          "2025-04-22T08:00:00.000000000",
          "2025-04-22T09:00:00.000000000",
          "2025-04-22T10:00:00.000000000",
          "2025-04-22T11:00:00.000000000",
          "2025-04-22T12:00:00.000000000",
          "2025-04-22T13:00:00.000000000",
          "2025-04-22T14:00:00.000000000",
          "2025-04-22T15:00:00.000000000",
          "2025-04-22T16:00:00.000000000",
          "2025-04-22T17:00:00.000000000",
          "2025-04-22T18:00:00.000000000",
          "2025-04-22T19:00:00.000000000",
          "2025-04-22T20:00:00.000000000",
          "2025-04-22T21:00:00.000000000",
          "2025-04-22T22:00:00.000000000",
          "2025-04-22T23:00:00.000000000",
          "2025-04-23T00:00:00.000000000",
          "2025-04-23T01:00:00.000000000",
          "2025-04-23T02:00:00.000000000",
          "2025-04-23T03:00:00.000000000",
          "2025-04-23T04:00:00.000000000",
          "2025-04-23T05:00:00.000000000",
          "2025-04-23T06:00:00.000000000",
          "2025-04-23T07:00:00.000000000",
          "2025-04-23T08:00:00.000000000",
          "2025-04-23T09:00:00.000000000",
          "2025-04-23T10:00:00.000000000",
          "2025-04-23T11:00:00.000000000",
          "2025-04-23T12:00:00.000000000",
          "2025-04-23T13:00:00.000000000",
          "2025-04-23T14:00:00.000000000",
          "2025-04-23T15:00:00.000000000",
          "2025-04-23T16:00:00.000000000",
          "2025-04-23T17:00:00.000000000",
          "2025-04-23T18:00:00.000000000",
          "2025-04-23T19:00:00.000000000",
          "2025-04-23T20:00:00.000000000",
          "2025-04-23T21:00:00.000000000",
          "2025-04-23T22:00:00.000000000",
          "2025-04-23T23:00:00.000000000",
          "2025-04-24T00:00:00.000000000",
          "2025-04-24T01:00:00.000000000",
          "2025-04-24T02:00:00.000000000",
          "2025-04-24T03:00:00.000000000",
          "2025-04-24T04:00:00.000000000",
          "2025-04-24T05:00:00.000000000",
          "2025-04-24T06:00:00.000000000",
          "2025-04-24T07:00:00.000000000",
          "2025-04-24T08:00:00.000000000",
          "2025-04-24T09:00:00.000000000",
          "2025-04-24T10:00:00.000000000",
          "2025-04-24T11:00:00.000000000",
          "2025-04-24T12:00:00.000000000",
          "2025-04-24T13:00:00.000000000",
          "2025-04-24T14:00:00.000000000",
          "2025-04-24T15:00:00.000000000",
          "2025-04-24T16:00:00.000000000",
          "2025-04-24T17:00:00.000000000",
          "2025-04-24T18:00:00.000000000",
          "2025-04-24T19:00:00.000000000",
          "2025-04-24T20:00:00.000000000",
          "2025-04-24T21:00:00.000000000",
          "2025-04-24T22:00:00.000000000",
          "2025-04-24T23:00:00.000000000",
          "2025-04-25T00:00:00.000000000",
          "2025-04-25T01:00:00.000000000",
          "2025-04-25T02:00:00.000000000",
          "2025-04-25T03:00:00.000000000",
          "2025-04-25T04:00:00.000000000",
          "2025-04-25T05:00:00.000000000",
          "2025-04-25T06:00:00.000000000",
          "2025-04-25T07:00:00.000000000",
          "2025-04-25T08:00:00.000000000",
          "2025-04-25T09:00:00.000000000",
          "2025-04-25T10:00:00.000000000",
          "2025-04-25T11:00:00.000000000",
          "2025-04-25T12:00:00.000000000",
          "2025-04-25T13:00:00.000000000",
          "2025-04-25T14:00:00.000000000",
          "2025-04-25T15:00:00.000000000",
          "2025-04-25T16:00:00.000000000",
          "2025-04-25T17:00:00.000000000",
          "2025-04-25T18:00:00.000000000",
          "2025-04-25T19:00:00.000000000",
          "2025-04-25T20:00:00.000000000",
          "2025-04-25T21:00:00.000000000",
          "2025-04-25T22:00:00.000000000",
          "2025-04-25T23:00:00.000000000",
          "2025-04-26T00:00:00.000000000",
          "2025-04-26T01:00:00.000000000",
          "2025-04-26T02:00:00.000000000",
          "2025-04-26T03:00:00.000000000",
          "2025-04-26T04:00:00.000000000",
          "2025-04-26T05:00:00.000000000",
          "2025-04-26T06:00:00.000000000",
          "2025-04-26T07:00:00.000000000",
          "2025-04-26T08:00:00.000000000",
          "2025-04-26T09:00:00.000000000",
          "2025-04-26T10:00:00.000000000",
          "2025-04-26T11:00:00.000000000",
          "2025-04-26T12:00:00.000000000",
          "2025-04-26T13:00:00.000000000",
          "2025-04-26T14:00:00.000000000",
          "2025-04-26T15:00:00.000000000",
          "2025-04-26T16:00:00.000000000",
          "2025-04-26T17:00:00.000000000",
          "2025-04-26T18:00:00.000000000",
          "2025-04-26T19:00:00.000000000",
          "2025-04-26T20:00:00.000000000",
          "2025-04-26T21:00:00.000000000",
          "2025-04-26T22:00:00.000000000",
          "2025-04-26T23:00:00.000000000",
          "2025-04-27T00:00:00.000000000",
          "2025-04-27T01:00:00.000000000",
          "2025-04-27T02:00:00.000000000",
          "2025-04-27T03:00:00.000000000",
          "2025-04-27T04:00:00.000000000",
          "2025-04-27T05:00:00.000000000",
          "2025-04-27T06:00:00.000000000",
          "2025-04-27T07:00:00.000000000",
          "2025-04-27T08:00:00.000000000",
          "2025-04-27T09:00:00.000000000",
          "2025-04-27T10:00:00.000000000",
          "2025-04-27T11:00:00.000000000",
          "2025-04-27T12:00:00.000000000",
          "2025-04-27T13:00:00.000000000",
          "2025-04-27T14:00:00.000000000",
          "2025-04-27T15:00:00.000000000",
          "2025-04-27T16:00:00.000000000",
          "2025-04-27T17:00:00.000000000",
          "2025-04-27T18:00:00.000000000",
          "2025-04-27T19:00:00.000000000",
          "2025-04-27T20:00:00.000000000",
          "2025-04-27T21:00:00.000000000",
          "2025-04-27T22:00:00.000000000",
          "2025-04-27T23:00:00.000000000",
          "2025-04-28T00:00:00.000000000",
          "2025-04-28T01:00:00.000000000",
          "2025-04-28T02:00:00.000000000",
          "2025-04-28T03:00:00.000000000",
          "2025-04-28T04:00:00.000000000",
          "2025-04-28T05:00:00.000000000",
          "2025-04-28T06:00:00.000000000",
          "2025-04-28T07:00:00.000000000",
          "2025-04-28T08:00:00.000000000",
          "2025-04-28T09:00:00.000000000",
          "2025-04-28T10:00:00.000000000",
          "2025-04-28T11:00:00.000000000",
          "2025-04-28T12:00:00.000000000",
          "2025-04-28T13:00:00.000000000",
          "2025-04-28T14:00:00.000000000",
          "2025-04-28T15:00:00.000000000",
          "2025-04-28T16:00:00.000000000",
          "2025-04-28T17:00:00.000000000",
          "2025-04-28T18:00:00.000000000",
          "2025-04-28T19:00:00.000000000",
          "2025-04-28T20:00:00.000000000",
          "2025-04-28T21:00:00.000000000",
          "2025-04-28T22:00:00.000000000",
          "2025-04-28T23:00:00.000000000",
          "2025-04-29T00:00:00.000000000",
          "2025-04-29T01:00:00.000000000",
          "2025-04-29T02:00:00.000000000",
          "2025-04-29T03:00:00.000000000",
          "2025-04-29T04:00:00.000000000",
          "2025-04-29T05:00:00.000000000",
          "2025-04-29T06:00:00.000000000",
          "2025-04-29T07:00:00.000000000",
          "2025-04-29T08:00:00.000000000",
          "2025-04-29T09:00:00.000000000",
          "2025-04-29T10:00:00.000000000",
          "2025-04-29T11:00:00.000000000",
          "2025-04-29T12:00:00.000000000",
          "2025-04-29T13:00:00.000000000",
          "2025-04-29T14:00:00.000000000",
          "2025-04-29T15:00:00.000000000",
          "2025-04-29T16:00:00.000000000",
          "2025-04-29T17:00:00.000000000",
          "2025-04-29T18:00:00.000000000",
          "2025-04-29T19:00:00.000000000",
          "2025-04-29T20:00:00.000000000",
          "2025-04-29T21:00:00.000000000",
          "2025-04-29T22:00:00.000000000",
          "2025-04-29T23:00:00.000000000",
          "2025-04-30T00:00:00.000000000",
          "2025-04-30T01:00:00.000000000",
          "2025-04-30T02:00:00.000000000",
          "2025-04-30T03:00:00.000000000",
          "2025-04-30T04:00:00.000000000",
          "2025-04-30T05:00:00.000000000",
          "2025-04-30T06:00:00.000000000",
          "2025-04-30T07:00:00.000000000",
          "2025-04-30T08:00:00.000000000",
          "2025-04-30T09:00:00.000000000",
          "2025-04-30T10:00:00.000000000",
          "2025-04-30T11:00:00.000000000",
          "2025-04-30T12:00:00.000000000",
          "2025-04-30T13:00:00.000000000",
          "2025-04-30T14:00:00.000000000",
          "2025-04-30T15:00:00.000000000",
          "2025-04-30T16:00:00.000000000",
          "2025-04-30T17:00:00.000000000",
          "2025-04-30T18:00:00.000000000",
          "2025-04-30T19:00:00.000000000",
          "2025-04-30T20:00:00.000000000",
          "2025-04-30T21:00:00.000000000",
          "2025-04-30T22:00:00.000000000",
          "2025-04-30T23:00:00.000000000",
          "2025-05-01T00:00:00.000000000",
          "2025-05-01T01:00:00.000000000",
          "2025-05-01T02:00:00.000000000",
          "2025-05-01T03:00:00.000000000",
          "2025-05-01T04:00:00.000000000",
          "2025-05-01T05:00:00.000000000",
          "2025-05-01T06:00:00.000000000",
          "2025-05-01T07:00:00.000000000",
          "2025-05-01T08:00:00.000000000",
          "2025-05-01T09:00:00.000000000",
          "2025-05-01T10:00:00.000000000",
          "2025-05-01T11:00:00.000000000",
          "2025-05-01T12:00:00.000000000",
          "2025-05-01T13:00:00.000000000",
          "2025-05-01T14:00:00.000000000",
          "2025-05-01T15:00:00.000000000",
          "2025-05-01T16:00:00.000000000",
          "2025-05-01T17:00:00.000000000",
          "2025-05-01T18:00:00.000000000",
          "2025-05-01T19:00:00.000000000",
          "2025-05-01T20:00:00.000000000",
          "2025-05-01T21:00:00.000000000",
          "2025-05-01T22:00:00.000000000",
          "2025-05-01T23:00:00.000000000",
          "2025-05-02T00:00:00.000000000",
          "2025-05-02T01:00:00.000000000",
          "2025-05-02T02:00:00.000000000",
          "2025-05-02T03:00:00.000000000",
          "2025-05-02T04:00:00.000000000",
          "2025-05-02T05:00:00.000000000",
          "2025-05-02T06:00:00.000000000",
          "2025-05-02T07:00:00.000000000",
          "2025-05-02T08:00:00.000000000",
          "2025-05-02T09:00:00.000000000",
          "2025-05-02T10:00:00.000000000",
          "2025-05-02T11:00:00.000000000",
          "2025-05-02T12:00:00.000000000",
          "2025-05-02T13:00:00.000000000",
          "2025-05-02T14:00:00.000000000",
          "2025-05-02T15:00:00.000000000",
          "2025-05-02T16:00:00.000000000",
          "2025-05-02T17:00:00.000000000",
          "2025-05-02T18:00:00.000000000",
          "2025-05-02T19:00:00.000000000",
          "2025-05-02T20:00:00.000000000",
          "2025-05-02T21:00:00.000000000",
          "2025-05-02T22:00:00.000000000",
          "2025-05-02T23:00:00.000000000"
         ],
         "xaxis": "x",
         "y": {
          "bdata": "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",
          "dtype": "f8"
         },
         "yaxis": "y"
        },
        {
         "hovertemplate": "Location=TH_ZP26_GEN-APND<br>Timestamp=%{x}<br>LMP ($/MWh)=%{y}<extra></extra>",
         "legendgroup": "TH_ZP26_GEN-APND",
         "line": {
          "color": "#00cc96",
          "dash": "solid"
         },
         "marker": {
          "symbol": "circle"
         },
         "mode": "lines",
         "name": "TH_ZP26_GEN-APND",
         "orientation": "v",
         "showlegend": true,
         "type": "scatter",
         "x": [
          "2025-04-20T00:00:00.000000000",
          "2025-04-20T01:00:00.000000000",
          "2025-04-20T02:00:00.000000000",
          "2025-04-20T03:00:00.000000000",
          "2025-04-20T04:00:00.000000000",
          "2025-04-20T05:00:00.000000000",
          "2025-04-20T06:00:00.000000000",
          "2025-04-20T07:00:00.000000000",
          "2025-04-20T08:00:00.000000000",
          "2025-04-20T09:00:00.000000000",
          "2025-04-20T10:00:00.000000000",
          "2025-04-20T11:00:00.000000000",
          "2025-04-20T12:00:00.000000000",
          "2025-04-20T13:00:00.000000000",
          "2025-04-20T14:00:00.000000000",
          "2025-04-20T15:00:00.000000000",
          "2025-04-20T16:00:00.000000000",
          "2025-04-20T17:00:00.000000000",
          "2025-04-20T18:00:00.000000000",
          "2025-04-20T19:00:00.000000000",
          "2025-04-20T20:00:00.000000000",
          "2025-04-20T21:00:00.000000000",
          "2025-04-20T22:00:00.000000000",
          "2025-04-20T23:00:00.000000000",
          "2025-04-21T00:00:00.000000000",
          "2025-04-21T01:00:00.000000000",
          "2025-04-21T02:00:00.000000000",
          "2025-04-21T03:00:00.000000000",
          "2025-04-21T04:00:00.000000000",
          "2025-04-21T05:00:00.000000000",
          "2025-04-21T06:00:00.000000000",
          "2025-04-21T07:00:00.000000000",
          "2025-04-21T08:00:00.000000000",
          "2025-04-21T09:00:00.000000000",
          "2025-04-21T10:00:00.000000000",
          "2025-04-21T11:00:00.000000000",
          "2025-04-21T12:00:00.000000000",
          "2025-04-21T13:00:00.000000000",
          "2025-04-21T14:00:00.000000000",
          "2025-04-21T15:00:00.000000000",
          "2025-04-21T16:00:00.000000000",
          "2025-04-21T17:00:00.000000000",
          "2025-04-21T18:00:00.000000000",
          "2025-04-21T19:00:00.000000000",
          "2025-04-21T20:00:00.000000000",
          "2025-04-21T21:00:00.000000000",
          "2025-04-21T22:00:00.000000000",
          "2025-04-21T23:00:00.000000000",
          "2025-04-22T00:00:00.000000000",
          "2025-04-22T01:00:00.000000000",
          "2025-04-22T02:00:00.000000000",
          "2025-04-22T03:00:00.000000000",
          "2025-04-22T04:00:00.000000000",
          "2025-04-22T05:00:00.000000000",
          "2025-04-22T06:00:00.000000000",
          "2025-04-22T07:00:00.000000000",
          "2025-04-22T08:00:00.000000000",
          "2025-04-22T09:00:00.000000000",
          "2025-04-22T10:00:00.000000000",
          "2025-04-22T11:00:00.000000000",
          "2025-04-22T12:00:00.000000000",
          "2025-04-22T13:00:00.000000000",
          "2025-04-22T14:00:00.000000000",
          "2025-04-22T15:00:00.000000000",
          "2025-04-22T16:00:00.000000000",
          "2025-04-22T17:00:00.000000000",
          "2025-04-22T18:00:00.000000000",
          "2025-04-22T19:00:00.000000000",
          "2025-04-22T20:00:00.000000000",
          "2025-04-22T21:00:00.000000000",
          "2025-04-22T22:00:00.000000000",
          "2025-04-22T23:00:00.000000000",
          "2025-04-23T00:00:00.000000000",
          "2025-04-23T01:00:00.000000000",
          "2025-04-23T02:00:00.000000000",
          "2025-04-23T03:00:00.000000000",
          "2025-04-23T04:00:00.000000000",
          "2025-04-23T05:00:00.000000000",
          "2025-04-23T06:00:00.000000000",
          "2025-04-23T07:00:00.000000000",
          "2025-04-23T08:00:00.000000000",
          "2025-04-23T09:00:00.000000000",
          "2025-04-23T10:00:00.000000000",
          "2025-04-23T11:00:00.000000000",
          "2025-04-23T12:00:00.000000000",
          "2025-04-23T13:00:00.000000000",
          "2025-04-23T14:00:00.000000000",
          "2025-04-23T15:00:00.000000000",
          "2025-04-23T16:00:00.000000000",
          "2025-04-23T17:00:00.000000000",
          "2025-04-23T18:00:00.000000000",
          "2025-04-23T19:00:00.000000000",
          "2025-04-23T20:00:00.000000000",
          "2025-04-23T21:00:00.000000000",
          "2025-04-23T22:00:00.000000000",
          "2025-04-23T23:00:00.000000000",
          "2025-04-24T00:00:00.000000000",
          "2025-04-24T01:00:00.000000000",
          "2025-04-24T02:00:00.000000000",
          "2025-04-24T03:00:00.000000000",
          "2025-04-24T04:00:00.000000000",
          "2025-04-24T05:00:00.000000000",
          "2025-04-24T06:00:00.000000000",
          "2025-04-24T07:00:00.000000000",
          "2025-04-24T08:00:00.000000000",
          "2025-04-24T09:00:00.000000000",
          "2025-04-24T10:00:00.000000000",
          "2025-04-24T11:00:00.000000000",
          "2025-04-24T12:00:00.000000000",
          "2025-04-24T13:00:00.000000000",
          "2025-04-24T14:00:00.000000000",
          "2025-04-24T15:00:00.000000000",
          "2025-04-24T16:00:00.000000000",
          "2025-04-24T17:00:00.000000000",
          "2025-04-24T18:00:00.000000000",
          "2025-04-24T19:00:00.000000000",
          "2025-04-24T20:00:00.000000000",
          "2025-04-24T21:00:00.000000000",
          "2025-04-24T22:00:00.000000000",
          "2025-04-24T23:00:00.000000000",
          "2025-04-25T00:00:00.000000000",
          "2025-04-25T01:00:00.000000000",
          "2025-04-25T02:00:00.000000000",
          "2025-04-25T03:00:00.000000000",
          "2025-04-25T04:00:00.000000000",
          "2025-04-25T05:00:00.000000000",
          "2025-04-25T06:00:00.000000000",
          "2025-04-25T07:00:00.000000000",
          "2025-04-25T08:00:00.000000000",
          "2025-04-25T09:00:00.000000000",
          "2025-04-25T10:00:00.000000000",
          "2025-04-25T11:00:00.000000000",
          "2025-04-25T12:00:00.000000000",
          "2025-04-25T13:00:00.000000000",
          "2025-04-25T14:00:00.000000000",
          "2025-04-25T15:00:00.000000000",
          "2025-04-25T16:00:00.000000000",
          "2025-04-25T17:00:00.000000000",
          "2025-04-25T18:00:00.000000000",
          "2025-04-25T19:00:00.000000000",
          "2025-04-25T20:00:00.000000000",
          "2025-04-25T21:00:00.000000000",
          "2025-04-25T22:00:00.000000000",
          "2025-04-25T23:00:00.000000000",
          "2025-04-26T00:00:00.000000000",
          "2025-04-26T01:00:00.000000000",
          "2025-04-26T02:00:00.000000000",
          "2025-04-26T03:00:00.000000000",
          "2025-04-26T04:00:00.000000000",
          "2025-04-26T05:00:00.000000000",
          "2025-04-26T06:00:00.000000000",
          "2025-04-26T07:00:00.000000000",
          "2025-04-26T08:00:00.000000000",
          "2025-04-26T09:00:00.000000000",
          "2025-04-26T10:00:00.000000000",
          "2025-04-26T11:00:00.000000000",
          "2025-04-26T12:00:00.000000000",
          "2025-04-26T13:00:00.000000000",
          "2025-04-26T14:00:00.000000000",
          "2025-04-26T15:00:00.000000000",
          "2025-04-26T16:00:00.000000000",
          "2025-04-26T17:00:00.000000000",
          "2025-04-26T18:00:00.000000000",
          "2025-04-26T19:00:00.000000000",
          "2025-04-26T20:00:00.000000000",
          "2025-04-26T21:00:00.000000000",
          "2025-04-26T22:00:00.000000000",
          "2025-04-26T23:00:00.000000000",
          "2025-04-27T00:00:00.000000000",
          "2025-04-27T01:00:00.000000000",
          "2025-04-27T02:00:00.000000000",
          "2025-04-27T03:00:00.000000000",
          "2025-04-27T04:00:00.000000000",
          "2025-04-27T05:00:00.000000000",
          "2025-04-27T06:00:00.000000000",
          "2025-04-27T07:00:00.000000000",
          "2025-04-27T08:00:00.000000000",
          "2025-04-27T09:00:00.000000000",
          "2025-04-27T10:00:00.000000000",
          "2025-04-27T11:00:00.000000000",
          "2025-04-27T12:00:00.000000000",
          "2025-04-27T13:00:00.000000000",
          "2025-04-27T14:00:00.000000000",
          "2025-04-27T15:00:00.000000000",
          "2025-04-27T16:00:00.000000000",
          "2025-04-27T17:00:00.000000000",
          "2025-04-27T18:00:00.000000000",
          "2025-04-27T19:00:00.000000000",
          "2025-04-27T20:00:00.000000000",
          "2025-04-27T21:00:00.000000000",
          "2025-04-27T22:00:00.000000000",
          "2025-04-27T23:00:00.000000000",
          "2025-04-28T00:00:00.000000000",
          "2025-04-28T01:00:00.000000000",
          "2025-04-28T02:00:00.000000000",
          "2025-04-28T03:00:00.000000000",
          "2025-04-28T04:00:00.000000000",
          "2025-04-28T05:00:00.000000000",
          "2025-04-28T06:00:00.000000000",
          "2025-04-28T07:00:00.000000000",
          "2025-04-28T08:00:00.000000000",
          "2025-04-28T09:00:00.000000000",
          "2025-04-28T10:00:00.000000000",
          "2025-04-28T11:00:00.000000000",
          "2025-04-28T12:00:00.000000000",
          "2025-04-28T13:00:00.000000000",
          "2025-04-28T14:00:00.000000000",
          "2025-04-28T15:00:00.000000000",
          "2025-04-28T16:00:00.000000000",
          "2025-04-28T17:00:00.000000000",
          "2025-04-28T18:00:00.000000000",
          "2025-04-28T19:00:00.000000000",
          "2025-04-28T20:00:00.000000000",
          "2025-04-28T21:00:00.000000000",
          "2025-04-28T22:00:00.000000000",
          "2025-04-28T23:00:00.000000000",
          "2025-04-29T00:00:00.000000000",
          "2025-04-29T01:00:00.000000000",
          "2025-04-29T02:00:00.000000000",
          "2025-04-29T03:00:00.000000000",
          "2025-04-29T04:00:00.000000000",
          "2025-04-29T05:00:00.000000000",
          "2025-04-29T06:00:00.000000000",
          "2025-04-29T07:00:00.000000000",
          "2025-04-29T08:00:00.000000000",
          "2025-04-29T09:00:00.000000000",
          "2025-04-29T10:00:00.000000000",
          "2025-04-29T11:00:00.000000000",
          "2025-04-29T12:00:00.000000000",
          "2025-04-29T13:00:00.000000000",
          "2025-04-29T14:00:00.000000000",
          "2025-04-29T15:00:00.000000000",
          "2025-04-29T16:00:00.000000000",
          "2025-04-29T17:00:00.000000000",
          "2025-04-29T18:00:00.000000000",
          "2025-04-29T19:00:00.000000000",
          "2025-04-29T20:00:00.000000000",
          "2025-04-29T21:00:00.000000000",
          "2025-04-29T22:00:00.000000000",
          "2025-04-29T23:00:00.000000000",
          "2025-04-30T00:00:00.000000000",
          "2025-04-30T01:00:00.000000000",
          "2025-04-30T02:00:00.000000000",
          "2025-04-30T03:00:00.000000000",
          "2025-04-30T04:00:00.000000000",
          "2025-04-30T05:00:00.000000000",
          "2025-04-30T06:00:00.000000000",
          "2025-04-30T07:00:00.000000000",
          "2025-04-30T08:00:00.000000000",
          "2025-04-30T09:00:00.000000000",
          "2025-04-30T10:00:00.000000000",
          "2025-04-30T11:00:00.000000000",
          "2025-04-30T12:00:00.000000000",
          "2025-04-30T13:00:00.000000000",
          "2025-04-30T14:00:00.000000000",
          "2025-04-30T15:00:00.000000000",
          "2025-04-30T16:00:00.000000000",
          "2025-04-30T17:00:00.000000000",
          "2025-04-30T18:00:00.000000000",
          "2025-04-30T19:00:00.000000000",
          "2025-04-30T20:00:00.000000000",
          "2025-04-30T21:00:00.000000000",
          "2025-04-30T22:00:00.000000000",
          "2025-04-30T23:00:00.000000000",
          "2025-05-01T00:00:00.000000000",
          "2025-05-01T01:00:00.000000000",
          "2025-05-01T02:00:00.000000000",
          "2025-05-01T03:00:00.000000000",
          "2025-05-01T04:00:00.000000000",
          "2025-05-01T05:00:00.000000000",
          "2025-05-01T06:00:00.000000000",
          "2025-05-01T07:00:00.000000000",
          "2025-05-01T08:00:00.000000000",
          "2025-05-01T09:00:00.000000000",
          "2025-05-01T10:00:00.000000000",
          "2025-05-01T11:00:00.000000000",
          "2025-05-01T12:00:00.000000000",
          "2025-05-01T13:00:00.000000000",
          "2025-05-01T14:00:00.000000000",
          "2025-05-01T15:00:00.000000000",
          "2025-05-01T16:00:00.000000000",
          "2025-05-01T17:00:00.000000000",
          "2025-05-01T18:00:00.000000000",
          "2025-05-01T19:00:00.000000000",
          "2025-05-01T20:00:00.000000000",
          "2025-05-01T21:00:00.000000000",
          "2025-05-01T22:00:00.000000000",
          "2025-05-01T23:00:00.000000000",
          "2025-05-02T00:00:00.000000000",
          "2025-05-02T01:00:00.000000000",
          "2025-05-02T02:00:00.000000000",
          "2025-05-02T03:00:00.000000000",
          "2025-05-02T04:00:00.000000000",
          "2025-05-02T05:00:00.000000000",
          "2025-05-02T06:00:00.000000000",
          "2025-05-02T07:00:00.000000000",
          "2025-05-02T08:00:00.000000000",
          "2025-05-02T09:00:00.000000000",
          "2025-05-02T10:00:00.000000000",
          "2025-05-02T11:00:00.000000000",
          "2025-05-02T12:00:00.000000000",
          "2025-05-02T13:00:00.000000000",
          "2025-05-02T14:00:00.000000000",
          "2025-05-02T15:00:00.000000000",
          "2025-05-02T16:00:00.000000000",
          "2025-05-02T17:00:00.000000000",
          "2025-05-02T18:00:00.000000000",
          "2025-05-02T19:00:00.000000000",
          "2025-05-02T20:00:00.000000000",
          "2025-05-02T21:00:00.000000000",
          "2025-05-02T22:00:00.000000000",
          "2025-05-02T23:00:00.000000000"
         ],
         "xaxis": "x",
         "y": {
          "bdata": "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",
          "dtype": "f8"
         },
         "yaxis": "y"
        }
       ],
       "layout": {
        "legend": {
         "title": {
          "text": "Location"
         },
         "tracegroupgap": 0
        },
        "template": {
         "data": {
          "bar": [
           {
            "error_x": {
             "color": "#2a3f5f"
            },
            "error_y": {
             "color": "#2a3f5f"
            },
            "marker": {
             "line": {
              "color": "#E5ECF6",
              "width": 0.5
             },
             "pattern": {
              "fillmode": "overlay",
              "size": 10,
              "solidity": 0.2
             }
            },
            "type": "bar"
           }
          ],
          "barpolar": [
           {
            "marker": {
             "line": {
              "color": "#E5ECF6",
              "width": 0.5
             },
             "pattern": {
              "fillmode": "overlay",
              "size": 10,
              "solidity": 0.2
             }
            },
            "type": "barpolar"
           }
          ],
          "carpet": [
           {
            "aaxis": {
             "endlinecolor": "#2a3f5f",
             "gridcolor": "white",
             "linecolor": "white",
             "minorgridcolor": "white",
             "startlinecolor": "#2a3f5f"
            },
            "baxis": {
             "endlinecolor": "#2a3f5f",
             "gridcolor": "white",
             "linecolor": "white",
             "minorgridcolor": "white",
             "startlinecolor": "#2a3f5f"
            },
            "type": "carpet"
           }
          ],
          "choropleth": [
           {
            "colorbar": {
             "outlinewidth": 0,
             "ticks": ""
            },
            "type": "choropleth"
           }
          ],
          "contour": [
           {
            "colorbar": {
             "outlinewidth": 0,
             "ticks": ""
            },
            "colorscale": [
             [
              0,
              "#0d0887"
             ],
             [
              0.1111111111111111,
              "#46039f"
             ],
             [
              0.2222222222222222,
              "#7201a8"
             ],
             [
              0.3333333333333333,
              "#9c179e"
             ],
             [
              0.4444444444444444,
              "#bd3786"
             ],
             [
              0.5555555555555556,
              "#d8576b"
             ],
             [
              0.6666666666666666,
              "#ed7953"
             ],
             [
              0.7777777777777778,
              "#fb9f3a"
             ],
             [
              0.8888888888888888,
              "#fdca26"
             ],
             [
              1,
              "#f0f921"
             ]
            ],
            "type": "contour"
           }
          ],
          "contourcarpet": [
           {
            "colorbar": {
             "outlinewidth": 0,
             "ticks": ""
            },
            "type": "contourcarpet"
           }
          ],
          "heatmap": [
           {
            "colorbar": {
             "outlinewidth": 0,
             "ticks": ""
            },
            "colorscale": [
             [
              0,
              "#0d0887"
             ],
             [
              0.1111111111111111,
              "#46039f"
             ],
             [
              0.2222222222222222,
              "#7201a8"
             ],
             [
              0.3333333333333333,
              "#9c179e"
             ],
             [
              0.4444444444444444,
              "#bd3786"
             ],
             [
              0.5555555555555556,
              "#d8576b"
             ],
             [
              0.6666666666666666,
              "#ed7953"
             ],
             [
              0.7777777777777778,
              "#fb9f3a"
             ],
             [
              0.8888888888888888,
              "#fdca26"
             ],
             [
              1,
              "#f0f921"
             ]
            ],
            "type": "heatmap"
           }
          ],
          "histogram": [
           {
            "marker": {
             "pattern": {
              "fillmode": "overlay",
              "size": 10,
              "solidity": 0.2
             }
            },
            "type": "histogram"
           }
          ],
          "histogram2d": [
           {
            "colorbar": {
             "outlinewidth": 0,
             "ticks": ""
            },
            "colorscale": [
             [
              0,
              "#0d0887"
             ],
             [
              0.1111111111111111,
              "#46039f"
             ],
             [
              0.2222222222222222,
              "#7201a8"
             ],
             [
              0.3333333333333333,
              "#9c179e"
             ],
             [
              0.4444444444444444,
              "#bd3786"
             ],
             [
              0.5555555555555556,
              "#d8576b"
             ],
             [
              0.6666666666666666,
              "#ed7953"
             ],
             [
              0.7777777777777778,
              "#fb9f3a"
             ],
             [
              0.8888888888888888,
              "#fdca26"
             ],
             [
              1,
              "#f0f921"
             ]
            ],
            "type": "histogram2d"
           }
          ],
          "histogram2dcontour": [
           {
            "colorbar": {
             "outlinewidth": 0,
             "ticks": ""
            },
            "colorscale": [
             [
              0,
              "#0d0887"
             ],
             [
              0.1111111111111111,
              "#46039f"
             ],
             [
              0.2222222222222222,
              "#7201a8"
             ],
             [
              0.3333333333333333,
              "#9c179e"
             ],
             [
              0.4444444444444444,
              "#bd3786"
             ],
             [
              0.5555555555555556,
              "#d8576b"
             ],
             [
              0.6666666666666666,
              "#ed7953"
             ],
             [
              0.7777777777777778,
              "#fb9f3a"
             ],
             [
              0.8888888888888888,
              "#fdca26"
             ],
             [
              1,
              "#f0f921"
             ]
            ],
            "type": "histogram2dcontour"
           }
          ],
          "mesh3d": [
           {
            "colorbar": {
             "outlinewidth": 0,
             "ticks": ""
            },
            "type": "mesh3d"
           }
          ],
          "parcoords": [
           {
            "line": {
             "colorbar": {
              "outlinewidth": 0,
              "ticks": ""
             }
            },
            "type": "parcoords"
           }
          ],
          "pie": [
           {
            "automargin": true,
            "type": "pie"
           }
          ],
          "scatter": [
           {
            "fillpattern": {
             "fillmode": "overlay",
             "size": 10,
             "solidity": 0.2
            },
            "type": "scatter"
           }
          ],
          "scatter3d": [
           {
            "line": {
             "colorbar": {
              "outlinewidth": 0,
              "ticks": ""
             }
            },
            "marker": {
             "colorbar": {
              "outlinewidth": 0,
              "ticks": ""
             }
            },
            "type": "scatter3d"
           }
          ],
          "scattercarpet": [
           {
            "marker": {
             "colorbar": {
              "outlinewidth": 0,
              "ticks": ""
             }
            },
            "type": "scattercarpet"
           }
          ],
          "scattergeo": [
           {
            "marker": {
             "colorbar": {
              "outlinewidth": 0,
              "ticks": ""
             }
            },
            "type": "scattergeo"
           }
          ],
          "scattergl": [
           {
            "marker": {
             "colorbar": {
              "outlinewidth": 0,
              "ticks": ""
             }
            },
            "type": "scattergl"
           }
          ],
          "scattermap": [
           {
            "marker": {
             "colorbar": {
              "outlinewidth": 0,
              "ticks": ""
             }
            },
            "type": "scattermap"
           }
          ],
          "scattermapbox": [
           {
            "marker": {
             "colorbar": {
              "outlinewidth": 0,
              "ticks": ""
             }
            },
            "type": "scattermapbox"
           }
          ],
          "scatterpolar": [
           {
            "marker": {
             "colorbar": {
              "outlinewidth": 0,
              "ticks": ""
             }
            },
            "type": "scatterpolar"
           }
          ],
          "scatterpolargl": [
           {
            "marker": {
             "colorbar": {
              "outlinewidth": 0,
              "ticks": ""
             }
            },
            "type": "scatterpolargl"
           }
          ],
          "scatterternary": [
           {
            "marker": {
             "colorbar": {
              "outlinewidth": 0,
              "ticks": ""
             }
            },
            "type": "scatterternary"
           }
          ],
          "surface": [
           {
            "colorbar": {
             "outlinewidth": 0,
             "ticks": ""
            },
            "colorscale": [
             [
              0,
              "#0d0887"
             ],
             [
              0.1111111111111111,
              "#46039f"
             ],
             [
              0.2222222222222222,
              "#7201a8"
             ],
             [
              0.3333333333333333,
              "#9c179e"
             ],
             [
              0.4444444444444444,
              "#bd3786"
             ],
             [
              0.5555555555555556,
              "#d8576b"
             ],
             [
              0.6666666666666666,
              "#ed7953"
             ],
             [
              0.7777777777777778,
              "#fb9f3a"
             ],
             [
              0.8888888888888888,
              "#fdca26"
             ],
             [
              1,
              "#f0f921"
             ]
            ],
            "type": "surface"
           }
          ],
          "table": [
           {
            "cells": {
             "fill": {
              "color": "#EBF0F8"
             },
             "line": {
              "color": "white"
             }
            },
            "header": {
             "fill": {
              "color": "#C8D4E3"
             },
             "line": {
              "color": "white"
             }
            },
            "type": "table"
           }
          ]
         },
         "layout": {
          "annotationdefaults": {
           "arrowcolor": "#2a3f5f",
           "arrowhead": 0,
           "arrowwidth": 1
          },
          "autotypenumbers": "strict",
          "coloraxis": {
           "colorbar": {
            "outlinewidth": 0,
            "ticks": ""
           }
          },
          "colorscale": {
           "diverging": [
            [
             0,
             "#8e0152"
            ],
            [
             0.1,
             "#c51b7d"
            ],
            [
             0.2,
             "#de77ae"
            ],
            [
             0.3,
             "#f1b6da"
            ],
            [
             0.4,
             "#fde0ef"
            ],
            [
             0.5,
             "#f7f7f7"
            ],
            [
             0.6,
             "#e6f5d0"
            ],
            [
             0.7,
             "#b8e186"
            ],
            [
             0.8,
             "#7fbc41"
            ],
            [
             0.9,
             "#4d9221"
            ],
            [
             1,
             "#276419"
            ]
           ],
           "sequential": [
            [
             0,
             "#0d0887"
            ],
            [
             0.1111111111111111,
             "#46039f"
            ],
            [
             0.2222222222222222,
             "#7201a8"
            ],
            [
             0.3333333333333333,
             "#9c179e"
            ],
            [
             0.4444444444444444,
             "#bd3786"
            ],
            [
             0.5555555555555556,
             "#d8576b"
            ],
            [
             0.6666666666666666,
             "#ed7953"
            ],
            [
             0.7777777777777778,
             "#fb9f3a"
            ],
            [
             0.8888888888888888,
             "#fdca26"
            ],
            [
             1,
             "#f0f921"
            ]
           ],
           "sequentialminus": [
            [
             0,
             "#0d0887"
            ],
            [
             0.1111111111111111,
             "#46039f"
            ],
            [
             0.2222222222222222,
             "#7201a8"
            ],
            [
             0.3333333333333333,
             "#9c179e"
            ],
            [
             0.4444444444444444,
             "#bd3786"
            ],
            [
             0.5555555555555556,
             "#d8576b"
            ],
            [
             0.6666666666666666,
             "#ed7953"
            ],
            [
             0.7777777777777778,
             "#fb9f3a"
            ],
            [
             0.8888888888888888,
             "#fdca26"
            ],
            [
             1,
             "#f0f921"
            ]
           ]
          },
          "colorway": [
           "#636efa",
           "#EF553B",
           "#00cc96",
           "#ab63fa",
           "#FFA15A",
           "#19d3f3",
           "#FF6692",
           "#B6E880",
           "#FF97FF",
           "#FECB52"
          ],
          "font": {
           "color": "#2a3f5f"
          },
          "geo": {
           "bgcolor": "white",
           "lakecolor": "white",
           "landcolor": "#E5ECF6",
           "showlakes": true,
           "showland": true,
           "subunitcolor": "white"
          },
          "hoverlabel": {
           "align": "left"
          },
          "hovermode": "closest",
          "mapbox": {
           "style": "light"
          },
          "paper_bgcolor": "white",
          "plot_bgcolor": "#E5ECF6",
          "polar": {
           "angularaxis": {
            "gridcolor": "white",
            "linecolor": "white",
            "ticks": ""
           },
           "bgcolor": "#E5ECF6",
           "radialaxis": {
            "gridcolor": "white",
            "linecolor": "white",
            "ticks": ""
           }
          },
          "scene": {
           "xaxis": {
            "backgroundcolor": "#E5ECF6",
            "gridcolor": "white",
            "gridwidth": 2,
            "linecolor": "white",
            "showbackground": true,
            "ticks": "",
            "zerolinecolor": "white"
           },
           "yaxis": {
            "backgroundcolor": "#E5ECF6",
            "gridcolor": "white",
            "gridwidth": 2,
            "linecolor": "white",
            "showbackground": true,
            "ticks": "",
            "zerolinecolor": "white"
           },
           "zaxis": {
            "backgroundcolor": "#E5ECF6",
            "gridcolor": "white",
            "gridwidth": 2,
            "linecolor": "white",
            "showbackground": true,
            "ticks": "",
            "zerolinecolor": "white"
           }
          },
          "shapedefaults": {
           "line": {
            "color": "#2a3f5f"
           }
          },
          "ternary": {
           "aaxis": {
            "gridcolor": "white",
            "linecolor": "white",
            "ticks": ""
           },
           "baxis": {
            "gridcolor": "white",
            "linecolor": "white",
            "ticks": ""
           },
           "bgcolor": "#E5ECF6",
           "caxis": {
            "gridcolor": "white",
            "linecolor": "white",
            "ticks": ""
           }
          },
          "title": {
           "x": 0.05
          },
          "xaxis": {
           "automargin": true,
           "gridcolor": "white",
           "linecolor": "white",
           "ticks": "",
           "title": {
            "standoff": 15
           },
           "zerolinecolor": "white",
           "zerolinewidth": 2
          },
          "yaxis": {
           "automargin": true,
           "gridcolor": "white",
           "linecolor": "white",
           "ticks": "",
           "title": {
            "standoff": 15
           },
           "zerolinecolor": "white",
           "zerolinewidth": 2
          }
         }
        },
        "title": {
         "text": "LMP Over Time by Location"
        },
        "xaxis": {
         "anchor": "y",
         "domain": [
          0,
          1
         ],
         "title": {
          "text": "Timestamp"
         }
        },
        "yaxis": {
         "anchor": "x",
         "domain": [
          0,
          1
         ],
         "title": {
          "text": "LMP ($/MWh)"
         }
        }
       }
      }
     },
     "metadata": {},
     "output_type": "display_data"
    },
    {
     "data": {
      "text/plain": [
       "<Figure size 1200x600 with 0 Axes>"
      ]
     },
     "metadata": {},
     "output_type": "display_data"
    }
   ],
   "source": [
    "plt.figure(figsize=(12, 6))\n",
    "\n",
    "fig = px.line(\n",
    "    merged_df,\n",
    "    x='Time',\n",
    "    y='LMP',\n",
    "    color='Location',\n",
    "    title='LMP Over Time by Location',\n",
    "    labels={'LMP': 'LMP ($/MWh)', 'Time': 'Timestamp'},\n",
    ")\n",
    "\n",
    "fig.show()\n",
    "\n",
    "# # Group by Location and plot each group's LMP over time\n",
    "# for location, group in merged_df.groupby('Location'):\n",
    "#     plt.plot(group.index, group['LMP'], label=location)\n",
    "\n",
    "# plt.title('LMP Over Time by Location')\n",
    "# plt.xlabel('Time')\n",
    "# plt.ylabel('LMP ($/MWh)')\n",
    "# plt.legend(title='Location', bbox_to_anchor=(1.05, 1), loc='upper left')\n",
    "# plt.tight_layout()\n",
    "# plt.grid(True)\n",
    "# plt.show()"
   ]
  },
  {
   "cell_type": "code",
   "execution_count": 125,
   "id": "d826f879",
   "metadata": {},
   "outputs": [
    {
     "data": {
      "text/html": [
       "<div>\n",
       "<style scoped>\n",
       "    .dataframe tbody tr th:only-of-type {\n",
       "        vertical-align: middle;\n",
       "    }\n",
       "\n",
       "    .dataframe tbody tr th {\n",
       "        vertical-align: top;\n",
       "    }\n",
       "\n",
       "    .dataframe thead th {\n",
       "        text-align: right;\n",
       "    }\n",
       "</style>\n",
       "<table border=\"1\" class=\"dataframe\">\n",
       "  <thead>\n",
       "    <tr style=\"text-align: right;\">\n",
       "      <th></th>\n",
       "      <th>Time</th>\n",
       "      <th>Market</th>\n",
       "      <th>Location</th>\n",
       "      <th>Location Type</th>\n",
       "      <th>LMP</th>\n",
       "      <th>Energy</th>\n",
       "      <th>Congestion</th>\n",
       "      <th>Loss</th>\n",
       "      <th>Solar</th>\n",
       "      <th>Wind</th>\n",
       "      <th>...</th>\n",
       "      <th>Biogas</th>\n",
       "      <th>Small Hydro</th>\n",
       "      <th>Coal</th>\n",
       "      <th>Nuclear</th>\n",
       "      <th>Natural Gas</th>\n",
       "      <th>Large Hydro</th>\n",
       "      <th>Batteries</th>\n",
       "      <th>Imports</th>\n",
       "      <th>Other</th>\n",
       "      <th>Load</th>\n",
       "    </tr>\n",
       "  </thead>\n",
       "  <tbody>\n",
       "    <tr>\n",
       "      <th>0</th>\n",
       "      <td>2025-04-20 00:00:00-07:00</td>\n",
       "      <td>DAY_AHEAD_HOURLY</td>\n",
       "      <td>TH_NP15_GEN-APND</td>\n",
       "      <td>Trading Hub</td>\n",
       "      <td>28.77610</td>\n",
       "      <td>33.30717</td>\n",
       "      <td>-3.16547</td>\n",
       "      <td>-1.36559</td>\n",
       "      <td>82</td>\n",
       "      <td>37124</td>\n",
       "      <td>...</td>\n",
       "      <td>1337</td>\n",
       "      <td>3108</td>\n",
       "      <td>0</td>\n",
       "      <td>13608</td>\n",
       "      <td>36934</td>\n",
       "      <td>42041</td>\n",
       "      <td>22489</td>\n",
       "      <td>79391</td>\n",
       "      <td>0</td>\n",
       "      <td>250765</td>\n",
       "    </tr>\n",
       "    <tr>\n",
       "      <th>3</th>\n",
       "      <td>2025-04-20 01:00:00-07:00</td>\n",
       "      <td>DAY_AHEAD_HOURLY</td>\n",
       "      <td>TH_NP15_GEN-APND</td>\n",
       "      <td>Trading Hub</td>\n",
       "      <td>27.51442</td>\n",
       "      <td>32.05128</td>\n",
       "      <td>-3.20993</td>\n",
       "      <td>-1.32692</td>\n",
       "      <td>90</td>\n",
       "      <td>39033</td>\n",
       "      <td>...</td>\n",
       "      <td>1338</td>\n",
       "      <td>3101</td>\n",
       "      <td>0</td>\n",
       "      <td>13607</td>\n",
       "      <td>37760</td>\n",
       "      <td>41828</td>\n",
       "      <td>9940</td>\n",
       "      <td>88761</td>\n",
       "      <td>0</td>\n",
       "      <td>245563</td>\n",
       "    </tr>\n",
       "    <tr>\n",
       "      <th>6</th>\n",
       "      <td>2025-04-20 02:00:00-07:00</td>\n",
       "      <td>DAY_AHEAD_HOURLY</td>\n",
       "      <td>TH_NP15_GEN-APND</td>\n",
       "      <td>Trading Hub</td>\n",
       "      <td>27.88758</td>\n",
       "      <td>30.77237</td>\n",
       "      <td>-1.76774</td>\n",
       "      <td>-1.11704</td>\n",
       "      <td>75</td>\n",
       "      <td>40901</td>\n",
       "      <td>...</td>\n",
       "      <td>1344</td>\n",
       "      <td>3090</td>\n",
       "      <td>0</td>\n",
       "      <td>13617</td>\n",
       "      <td>34683</td>\n",
       "      <td>41499</td>\n",
       "      <td>-1974</td>\n",
       "      <td>94422</td>\n",
       "      <td>0</td>\n",
       "      <td>234821</td>\n",
       "    </tr>\n",
       "    <tr>\n",
       "      <th>9</th>\n",
       "      <td>2025-04-20 03:00:00-07:00</td>\n",
       "      <td>DAY_AHEAD_HOURLY</td>\n",
       "      <td>TH_NP15_GEN-APND</td>\n",
       "      <td>Trading Hub</td>\n",
       "      <td>27.41910</td>\n",
       "      <td>30.26596</td>\n",
       "      <td>-1.75123</td>\n",
       "      <td>-1.09563</td>\n",
       "      <td>84</td>\n",
       "      <td>40338</td>\n",
       "      <td>...</td>\n",
       "      <td>1344</td>\n",
       "      <td>3112</td>\n",
       "      <td>0</td>\n",
       "      <td>13615</td>\n",
       "      <td>34842</td>\n",
       "      <td>40586</td>\n",
       "      <td>-3546</td>\n",
       "      <td>93502</td>\n",
       "      <td>0</td>\n",
       "      <td>230905</td>\n",
       "    </tr>\n",
       "    <tr>\n",
       "      <th>12</th>\n",
       "      <td>2025-04-20 04:00:00-07:00</td>\n",
       "      <td>DAY_AHEAD_HOURLY</td>\n",
       "      <td>TH_NP15_GEN-APND</td>\n",
       "      <td>Trading Hub</td>\n",
       "      <td>27.75521</td>\n",
       "      <td>30.89886</td>\n",
       "      <td>-2.03747</td>\n",
       "      <td>-1.10618</td>\n",
       "      <td>72</td>\n",
       "      <td>36695</td>\n",
       "      <td>...</td>\n",
       "      <td>1337</td>\n",
       "      <td>3111</td>\n",
       "      <td>0</td>\n",
       "      <td>13611</td>\n",
       "      <td>35635</td>\n",
       "      <td>37552</td>\n",
       "      <td>3950</td>\n",
       "      <td>89650</td>\n",
       "      <td>0</td>\n",
       "      <td>229339</td>\n",
       "    </tr>\n",
       "  </tbody>\n",
       "</table>\n",
       "<p>5 rows × 22 columns</p>\n",
       "</div>"
      ],
      "text/plain": [
       "                        Time            Market          Location  \\\n",
       "0  2025-04-20 00:00:00-07:00  DAY_AHEAD_HOURLY  TH_NP15_GEN-APND   \n",
       "3  2025-04-20 01:00:00-07:00  DAY_AHEAD_HOURLY  TH_NP15_GEN-APND   \n",
       "6  2025-04-20 02:00:00-07:00  DAY_AHEAD_HOURLY  TH_NP15_GEN-APND   \n",
       "9  2025-04-20 03:00:00-07:00  DAY_AHEAD_HOURLY  TH_NP15_GEN-APND   \n",
       "12 2025-04-20 04:00:00-07:00  DAY_AHEAD_HOURLY  TH_NP15_GEN-APND   \n",
       "\n",
       "   Location Type       LMP    Energy  Congestion     Loss  Solar   Wind  ...  \\\n",
       "0    Trading Hub  28.77610  33.30717    -3.16547 -1.36559     82  37124  ...   \n",
       "3    Trading Hub  27.51442  32.05128    -3.20993 -1.32692     90  39033  ...   \n",
       "6    Trading Hub  27.88758  30.77237    -1.76774 -1.11704     75  40901  ...   \n",
       "9    Trading Hub  27.41910  30.26596    -1.75123 -1.09563     84  40338  ...   \n",
       "12   Trading Hub  27.75521  30.89886    -2.03747 -1.10618     72  36695  ...   \n",
       "\n",
       "    Biogas  Small Hydro  Coal  Nuclear  Natural Gas  Large Hydro  Batteries  \\\n",
       "0     1337         3108     0    13608        36934        42041      22489   \n",
       "3     1338         3101     0    13607        37760        41828       9940   \n",
       "6     1344         3090     0    13617        34683        41499      -1974   \n",
       "9     1344         3112     0    13615        34842        40586      -3546   \n",
       "12    1337         3111     0    13611        35635        37552       3950   \n",
       "\n",
       "    Imports  Other    Load  \n",
       "0     79391      0  250765  \n",
       "3     88761      0  245563  \n",
       "6     94422      0  234821  \n",
       "9     93502      0  230905  \n",
       "12    89650      0  229339  \n",
       "\n",
       "[5 rows x 22 columns]"
      ]
     },
     "execution_count": 125,
     "metadata": {},
     "output_type": "execute_result"
    }
   ],
   "source": [
    "df_NP15 = merged_df[merged_df['Location'] == 'TH_NP15_GEN-APND']\n",
    "df_NP15.head()"
   ]
  },
  {
   "cell_type": "code",
   "execution_count": 126,
   "id": "5de59c4b",
   "metadata": {},
   "outputs": [
    {
     "data": {
      "text/plain": [
       "Index(['Time', 'Market', 'Location', 'Location Type', 'LMP', 'Energy',\n",
       "       'Congestion', 'Loss', 'Solar', 'Wind', 'Geothermal', 'Biomass',\n",
       "       'Biogas', 'Small Hydro', 'Coal', 'Nuclear', 'Natural Gas',\n",
       "       'Large Hydro', 'Batteries', 'Imports', 'Other', 'Load'],\n",
       "      dtype='object')"
      ]
     },
     "execution_count": 126,
     "metadata": {},
     "output_type": "execute_result"
    }
   ],
   "source": [
    "df_NP15.columns"
   ]
  },
  {
   "cell_type": "code",
   "execution_count": 127,
   "id": "56cef731",
   "metadata": {},
   "outputs": [
    {
     "data": {
      "image/png": "[encoded data removed]",
      "text/plain": [
       "<Figure size 1000x1000 with 2 Axes>"
      ]
     },
     "metadata": {},
     "output_type": "display_data"
    }
   ],
   "source": [
    "num_df_NP15 = df_NP15.select_dtypes(include=['number']).drop(columns=['Coal', 'Other'])\n",
    "\n",
    "plt.figure(figsize=(10,10))\n",
    "sns.heatmap(num_df_NP15.corr().round(2), cmap = 'coolwarm', annot=True)\n",
    "plt.show()\n"
   ]
  },
  {
   "cell_type": "code",
   "execution_count": null,
   "id": "4afbfa70",
   "metadata": {},
   "outputs": [],
   "source": [
    "# sns.jointplot(x='LMP', y='Energy', data=df_NP15, kind='scatter')"
   ]
  },
  {
   "cell_type": "code",
   "execution_count": null,
   "id": "95b92c22",
   "metadata": {},
   "outputs": [
    {
     "data": {
      "image/png": "[encoded data removed]",
      "text/plain": [
       "<Figure size 640x480 with 1 Axes>"
      ]
     },
     "metadata": {},
     "output_type": "display_data"
    }
   ],
   "source": [
    "# ### seasonal decomposition\n",
    "# result = seasonal_decompose(df_NP15['LMP'], model='additive', period=24)\n",
    "# result.plot()\n",
    "# plt.show()\n",
    "\n",
    "### acf and pacf\n",
    "from statsmodels.graphics.tsaplots import plot_acf, plot_pacf\n",
    "# plot_acf(df_NP15[\"LMP\"],lags=24,title=\"ACF for Power Market Price\")\n",
    "# plt.show()\n",
    "\n",
    "# plot_pacf(df_NP15[\"LMP\"],lags=24,title=\"PACF for Power Market Price\")\n",
    "# plt.show()\n",
    "\n",
    "### rolling mean and std\n",
    "# df_NP15['LMP'].plot(figsize=(14, 7), title = 'Power Market Price')\n",
    "# plt.show()\n",
    "\n",
    "# df_NP15['LMP'].rolling(window = 7).mean().plot(label = '7-day rolling mean', figsize=(14, 7), title = 'Power Market Price')\n",
    "# df_NP15['LMP'].rolling(window = 7).std().plot(label = '7-day rolling std', figsize=(14, 7), title = 'Power Market Price')\n",
    "# plt.legend()\n",
    "# plt.show()"
   ]
  },
  {
   "cell_type": "markdown",
   "id": "45db68ba",
   "metadata": {},
   "source": [
    "## Time Series"
   ]
  },
  {
   "cell_type": "code",
   "execution_count": 160,
   "id": "4a759b35",
   "metadata": {},
   "outputs": [
    {
     "name": "stdout",
     "output_type": "stream",
     "text": [
      "p-value of LMP: 1.1173150402402897e-12\n"
     ]
    }
   ],
   "source": [
    "import pandas as pd\n",
    "import numpy as np\n",
    "import matplotlib.pyplot as plt\n",
    "from statsmodels.tsa.stattools import adfuller\n",
    "from statsmodels.tsa.ar_model import AutoReg\n",
    "from statsmodels.tsa.arima.model import ARIMA\n",
    "from statsmodels.tsa.arima_process import ArmaProcess\n",
    "from statsmodels.tsa.statespace.sarimax import SARIMAX\n",
    "from arch import arch_model\n",
    "from pmdarima import auto_arima\n",
    "\n",
    "# not a random walk\n",
    "adf = adfuller(df_NP15[\"LMP\"])\n",
    "print(\"p-value of LMP: {}\".format(float(adf[1])))"
   ]
  },
  {
   "cell_type": "markdown",
   "id": "6eca028b",
   "metadata": {},
   "source": [
    "### ARIMA"
   ]
  },
  {
   "cell_type": "code",
   "execution_count": 152,
   "id": "820ac23b",
   "metadata": {},
   "outputs": [
    {
     "name": "stderr",
     "output_type": "stream",
     "text": [
      "/opt/anaconda3/envs/SI/lib/python3.12/site-packages/sklearn/utils/deprecation.py:151: FutureWarning:\n",
      "\n",
      "'force_all_finite' was renamed to 'ensure_all_finite' in 1.6 and will be removed in 1.8.\n",
      "\n",
      "/opt/anaconda3/envs/SI/lib/python3.12/site-packages/sklearn/utils/deprecation.py:151: FutureWarning:\n",
      "\n",
      "'force_all_finite' was renamed to 'ensure_all_finite' in 1.6 and will be removed in 1.8.\n",
      "\n",
      "/opt/anaconda3/envs/SI/lib/python3.12/site-packages/sklearn/utils/deprecation.py:151: FutureWarning:\n",
      "\n",
      "'force_all_finite' was renamed to 'ensure_all_finite' in 1.6 and will be removed in 1.8.\n",
      "\n",
      "/opt/anaconda3/envs/SI/lib/python3.12/site-packages/sklearn/utils/deprecation.py:151: FutureWarning:\n",
      "\n",
      "'force_all_finite' was renamed to 'ensure_all_finite' in 1.6 and will be removed in 1.8.\n",
      "\n",
      "/opt/anaconda3/envs/SI/lib/python3.12/site-packages/sklearn/utils/deprecation.py:151: FutureWarning:\n",
      "\n",
      "'force_all_finite' was renamed to 'ensure_all_finite' in 1.6 and will be removed in 1.8.\n",
      "\n",
      "/opt/anaconda3/envs/SI/lib/python3.12/site-packages/sklearn/utils/deprecation.py:151: FutureWarning:\n",
      "\n",
      "'force_all_finite' was renamed to 'ensure_all_finite' in 1.6 and will be removed in 1.8.\n",
      "\n",
      "/opt/anaconda3/envs/SI/lib/python3.12/site-packages/sklearn/utils/deprecation.py:151: FutureWarning:\n",
      "\n",
      "'force_all_finite' was renamed to 'ensure_all_finite' in 1.6 and will be removed in 1.8.\n",
      "\n",
      "/opt/anaconda3/envs/SI/lib/python3.12/site-packages/sklearn/utils/deprecation.py:151: FutureWarning:\n",
      "\n",
      "'force_all_finite' was renamed to 'ensure_all_finite' in 1.6 and will be removed in 1.8.\n",
      "\n",
      "/opt/anaconda3/envs/SI/lib/python3.12/site-packages/sklearn/utils/deprecation.py:151: FutureWarning:\n",
      "\n",
      "'force_all_finite' was renamed to 'ensure_all_finite' in 1.6 and will be removed in 1.8.\n",
      "\n",
      "/opt/anaconda3/envs/SI/lib/python3.12/site-packages/sklearn/utils/deprecation.py:151: FutureWarning:\n",
      "\n",
      "'force_all_finite' was renamed to 'ensure_all_finite' in 1.6 and will be removed in 1.8.\n",
      "\n",
      "/opt/anaconda3/envs/SI/lib/python3.12/site-packages/sklearn/utils/deprecation.py:151: FutureWarning:\n",
      "\n",
      "'force_all_finite' was renamed to 'ensure_all_finite' in 1.6 and will be removed in 1.8.\n",
      "\n",
      "/opt/anaconda3/envs/SI/lib/python3.12/site-packages/sklearn/utils/deprecation.py:151: FutureWarning:\n",
      "\n",
      "'force_all_finite' was renamed to 'ensure_all_finite' in 1.6 and will be removed in 1.8.\n",
      "\n",
      "/opt/anaconda3/envs/SI/lib/python3.12/site-packages/sklearn/utils/deprecation.py:151: FutureWarning:\n",
      "\n",
      "'force_all_finite' was renamed to 'ensure_all_finite' in 1.6 and will be removed in 1.8.\n",
      "\n",
      "/opt/anaconda3/envs/SI/lib/python3.12/site-packages/sklearn/utils/deprecation.py:151: FutureWarning:\n",
      "\n",
      "'force_all_finite' was renamed to 'ensure_all_finite' in 1.6 and will be removed in 1.8.\n",
      "\n",
      "/opt/anaconda3/envs/SI/lib/python3.12/site-packages/sklearn/utils/deprecation.py:151: FutureWarning:\n",
      "\n",
      "'force_all_finite' was renamed to 'ensure_all_finite' in 1.6 and will be removed in 1.8.\n",
      "\n",
      "/opt/anaconda3/envs/SI/lib/python3.12/site-packages/sklearn/utils/deprecation.py:151: FutureWarning:\n",
      "\n",
      "'force_all_finite' was renamed to 'ensure_all_finite' in 1.6 and will be removed in 1.8.\n",
      "\n"
     ]
    },
    {
     "name": "stdout",
     "output_type": "stream",
     "text": [
      "Performing stepwise search to minimize aic\n",
      " ARIMA(2,0,2)(0,0,0)[0]             : AIC=1995.678, Time=0.04 sec\n",
      " ARIMA(0,0,0)(0,0,0)[0]             : AIC=2990.652, Time=0.00 sec\n",
      " ARIMA(1,0,0)(0,0,0)[0]             : AIC=2112.109, Time=0.01 sec\n",
      " ARIMA(0,0,1)(0,0,0)[0]             : AIC=2621.119, Time=0.03 sec\n",
      " ARIMA(1,0,2)(0,0,0)[0]             : AIC=1999.167, Time=0.01 sec\n",
      " ARIMA(2,0,1)(0,0,0)[0]             : AIC=1993.709, Time=0.01 sec\n",
      " ARIMA(1,0,1)(0,0,0)[0]             : AIC=2010.029, Time=0.02 sec\n",
      " ARIMA(2,0,0)(0,0,0)[0]             : AIC=1994.987, Time=0.02 sec\n",
      " ARIMA(3,0,1)(0,0,0)[0]             : AIC=1995.528, Time=0.03 sec\n",
      " ARIMA(3,0,0)(0,0,0)[0]             : AIC=1993.814, Time=0.02 sec\n",
      " ARIMA(3,0,2)(0,0,0)[0]             : AIC=1997.453, Time=0.10 sec\n",
      " ARIMA(2,0,1)(0,0,0)[0] intercept   : AIC=1961.133, Time=0.04 sec\n",
      " ARIMA(1,0,1)(0,0,0)[0] intercept   : AIC=1995.083, Time=0.03 sec\n",
      " ARIMA(2,0,0)(0,0,0)[0] intercept   : AIC=1959.171, Time=0.02 sec\n",
      " ARIMA(1,0,0)(0,0,0)[0] intercept   : AIC=2102.794, Time=0.01 sec\n",
      " ARIMA(3,0,0)(0,0,0)[0] intercept   : AIC=1961.148, Time=0.04 sec\n"
     ]
    },
    {
     "name": "stderr",
     "output_type": "stream",
     "text": [
      "/opt/anaconda3/envs/SI/lib/python3.12/site-packages/sklearn/utils/deprecation.py:151: FutureWarning:\n",
      "\n",
      "'force_all_finite' was renamed to 'ensure_all_finite' in 1.6 and will be removed in 1.8.\n",
      "\n",
      "/opt/anaconda3/envs/SI/lib/python3.12/site-packages/sklearn/utils/deprecation.py:151: FutureWarning:\n",
      "\n",
      "'force_all_finite' was renamed to 'ensure_all_finite' in 1.6 and will be removed in 1.8.\n",
      "\n",
      "/opt/anaconda3/envs/SI/lib/python3.12/site-packages/sklearn/utils/deprecation.py:151: FutureWarning:\n",
      "\n",
      "'force_all_finite' was renamed to 'ensure_all_finite' in 1.6 and will be removed in 1.8.\n",
      "\n",
      "/opt/anaconda3/envs/SI/lib/python3.12/site-packages/sklearn/utils/deprecation.py:151: FutureWarning:\n",
      "\n",
      "'force_all_finite' was renamed to 'ensure_all_finite' in 1.6 and will be removed in 1.8.\n",
      "\n",
      "/opt/anaconda3/envs/SI/lib/python3.12/site-packages/sklearn/utils/deprecation.py:151: FutureWarning:\n",
      "\n",
      "'force_all_finite' was renamed to 'ensure_all_finite' in 1.6 and will be removed in 1.8.\n",
      "\n",
      "/opt/anaconda3/envs/SI/lib/python3.12/site-packages/sklearn/utils/deprecation.py:151: FutureWarning:\n",
      "\n",
      "'force_all_finite' was renamed to 'ensure_all_finite' in 1.6 and will be removed in 1.8.\n",
      "\n"
     ]
    },
    {
     "name": "stdout",
     "output_type": "stream",
     "text": [
      " ARIMA(3,0,1)(0,0,0)[0] intercept   : AIC=1962.445, Time=0.09 sec\n",
      "\n",
      "Best model:  ARIMA(2,0,0)(0,0,0)[0] intercept\n",
      "Total fit time: 0.520 seconds\n",
      "Optimal order: (2, 0, 0)\n"
     ]
    }
   ],
   "source": [
    "model = auto_arima(\n",
    "    df_NP15[\"LMP\"],\n",
    "    seasonal=False,\n",
    "    stepwise=True,\n",
    "    suppress_warnings=True,\n",
    "    trace=True  # optional: shows testing of various models\n",
    ")\n",
    "\n",
    "print(\"Optimal order:\", model.order)"
   ]
  },
  {
   "cell_type": "markdown",
   "id": "2567a003",
   "metadata": {},
   "source": [
    "### GARCH"
   ]
  },
  {
   "cell_type": "code",
   "execution_count": 153,
   "id": "e6c374c0",
   "metadata": {},
   "outputs": [
    {
     "name": "stdout",
     "output_type": "stream",
     "text": [
      "Best GARCH Order: (1, 1), AIC: 2431.8088024699555\n"
     ]
    }
   ],
   "source": [
    "best_aic = float('inf')\n",
    "best_model = None\n",
    "best_order = None\n",
    "\n",
    "for p in range(1, 4):        # You can extend to (5,5) but keep it small for speed\n",
    "    for q in range(1, 4):\n",
    "        try:\n",
    "            model = arch_model(df_NP15['LMP'], vol='GARCH', p=p, q=q, dist='normal')\n",
    "            res = model.fit(disp='off')\n",
    "            if res.aic < best_aic:\n",
    "                best_aic = res.aic\n",
    "                best_model = res\n",
    "                best_order = (p, q)\n",
    "        except:\n",
    "            continue\n",
    "\n",
    "print(f'Best GARCH Order: {best_order}, AIC: {best_aic}')"
   ]
  },
  {
   "cell_type": "code",
   "execution_count": 159,
   "id": "d94f896a",
   "metadata": {},
   "outputs": [
    {
     "name": "stdout",
     "output_type": "stream",
     "text": [
      " VAR Order Selection (* highlights the minimums)  \n",
      "==================================================\n",
      "       AIC         BIC         FPE         HQIC   \n",
      "--------------------------------------------------\n",
      "0       -16.73      -16.68   5.405e-08      -16.71\n",
      "1       -20.37      -20.12   1.426e-09      -20.27\n",
      "2       -20.93     -20.48*   8.158e-10     -20.75*\n",
      "3       -20.90      -20.26   8.365e-10      -20.64\n",
      "4       -20.85      -20.00   8.855e-10      -20.51\n",
      "5       -20.88      -19.83   8.581e-10      -20.46\n",
      "6       -20.94      -19.70   8.038e-10      -20.45\n",
      "7       -20.93      -19.49   8.160e-10      -20.35\n",
      "8       -21.05      -19.41   7.263e-10      -20.39\n",
      "9       -21.19      -19.35   6.313e-10      -20.45\n",
      "10      -21.28      -19.24   5.768e-10      -20.46\n",
      "11      -21.26      -19.02   5.882e-10      -20.37\n",
      "12      -21.23      -18.79   6.108e-10      -20.25\n",
      "13      -21.35      -18.71   5.432e-10      -20.29\n",
      "14      -21.62      -18.79   4.155e-10      -20.49\n",
      "15     -21.63*      -18.59  4.148e-10*      -20.41\n",
      "--------------------------------------------------\n"
     ]
    },
    {
     "name": "stderr",
     "output_type": "stream",
     "text": [
      "/opt/anaconda3/envs/SI/lib/python3.12/site-packages/statsmodels/tsa/base/tsa_model.py:473: ValueWarning:\n",
      "\n",
      "An unsupported index was provided. As a result, forecasts cannot be generated. To use the model for forecasting, use one of the supported classes of index.\n",
      "\n"
     ]
    }
   ],
   "source": [
    "from statsmodels.tsa.api import VAR\n",
    "\n",
    "df_var = df_NP15[['LMP', 'Energy', 'Congestion', 'Loss']].dropna()\n",
    "\n",
    "model = VAR(df_var)  # use df_var if already stationary\n",
    "\n",
    "# Find optimal lag with AIC/BIC\n",
    "lag_selection = model.select_order(15)\n",
    "print(lag_selection.summary())\n",
    "\n",
    "optimal_lag = lag_selection.aic  # or bic\n",
    "results = model.fit(optimal_lag)\n"
   ]
  },
  {
   "cell_type": "markdown",
   "id": "b94a7867",
   "metadata": {},
   "source": [
    "### SARIMAX"
   ]
  },
  {
   "cell_type": "code",
   "execution_count": null,
   "id": "bb2ddb39",
   "metadata": {},
   "outputs": [
    {
     "name": "stderr",
     "output_type": "stream",
     "text": [
      "/opt/anaconda3/envs/SI/lib/python3.12/site-packages/sklearn/utils/deprecation.py:151: FutureWarning:\n",
      "\n",
      "'force_all_finite' was renamed to 'ensure_all_finite' in 1.6 and will be removed in 1.8.\n",
      "\n",
      "/opt/anaconda3/envs/SI/lib/python3.12/site-packages/sklearn/utils/deprecation.py:151: FutureWarning:\n",
      "\n",
      "'force_all_finite' was renamed to 'ensure_all_finite' in 1.6 and will be removed in 1.8.\n",
      "\n",
      "/opt/anaconda3/envs/SI/lib/python3.12/site-packages/sklearn/utils/deprecation.py:151: FutureWarning:\n",
      "\n",
      "'force_all_finite' was renamed to 'ensure_all_finite' in 1.6 and will be removed in 1.8.\n",
      "\n",
      "/opt/anaconda3/envs/SI/lib/python3.12/site-packages/sklearn/utils/deprecation.py:151: FutureWarning:\n",
      "\n",
      "'force_all_finite' was renamed to 'ensure_all_finite' in 1.6 and will be removed in 1.8.\n",
      "\n",
      "/opt/anaconda3/envs/SI/lib/python3.12/site-packages/sklearn/utils/deprecation.py:151: FutureWarning:\n",
      "\n",
      "'force_all_finite' was renamed to 'ensure_all_finite' in 1.6 and will be removed in 1.8.\n",
      "\n",
      "/opt/anaconda3/envs/SI/lib/python3.12/site-packages/sklearn/utils/deprecation.py:151: FutureWarning:\n",
      "\n",
      "'force_all_finite' was renamed to 'ensure_all_finite' in 1.6 and will be removed in 1.8.\n",
      "\n",
      "/opt/anaconda3/envs/SI/lib/python3.12/site-packages/sklearn/utils/deprecation.py:151: FutureWarning:\n",
      "\n",
      "'force_all_finite' was renamed to 'ensure_all_finite' in 1.6 and will be removed in 1.8.\n",
      "\n",
      "/opt/anaconda3/envs/SI/lib/python3.12/site-packages/sklearn/utils/deprecation.py:151: FutureWarning:\n",
      "\n",
      "'force_all_finite' was renamed to 'ensure_all_finite' in 1.6 and will be removed in 1.8.\n",
      "\n",
      "/opt/anaconda3/envs/SI/lib/python3.12/site-packages/sklearn/utils/deprecation.py:151: FutureWarning:\n",
      "\n",
      "'force_all_finite' was renamed to 'ensure_all_finite' in 1.6 and will be removed in 1.8.\n",
      "\n",
      "/opt/anaconda3/envs/SI/lib/python3.12/site-packages/sklearn/utils/deprecation.py:151: FutureWarning:\n",
      "\n",
      "'force_all_finite' was renamed to 'ensure_all_finite' in 1.6 and will be removed in 1.8.\n",
      "\n",
      "/opt/anaconda3/envs/SI/lib/python3.12/site-packages/sklearn/utils/deprecation.py:151: FutureWarning:\n",
      "\n",
      "'force_all_finite' was renamed to 'ensure_all_finite' in 1.6 and will be removed in 1.8.\n",
      "\n",
      "/opt/anaconda3/envs/SI/lib/python3.12/site-packages/sklearn/utils/deprecation.py:151: FutureWarning:\n",
      "\n",
      "'force_all_finite' was renamed to 'ensure_all_finite' in 1.6 and will be removed in 1.8.\n",
      "\n"
     ]
    },
    {
     "name": "stdout",
     "output_type": "stream",
     "text": [
      "Performing stepwise search to minimize aic\n",
      " ARIMA(2,0,2)(0,0,0)[0] intercept   : AIC=1946.705, Time=0.08 sec\n",
      " ARIMA(0,0,0)(0,0,0)[0] intercept   : AIC=2655.487, Time=0.01 sec\n",
      " ARIMA(1,0,0)(0,0,0)[0] intercept   : AIC=2102.794, Time=0.01 sec\n",
      " ARIMA(0,0,1)(0,0,0)[0] intercept   : AIC=2323.717, Time=0.02 sec\n",
      " ARIMA(0,0,0)(0,0,0)[0]             : AIC=2990.652, Time=0.00 sec\n",
      " ARIMA(1,0,2)(0,0,0)[0] intercept   : AIC=1979.869, Time=0.04 sec\n",
      " ARIMA(2,0,1)(0,0,0)[0] intercept   : AIC=1961.133, Time=0.06 sec\n"
     ]
    },
    {
     "name": "stderr",
     "output_type": "stream",
     "text": [
      "/opt/anaconda3/envs/SI/lib/python3.12/site-packages/sklearn/utils/deprecation.py:151: FutureWarning:\n",
      "\n",
      "'force_all_finite' was renamed to 'ensure_all_finite' in 1.6 and will be removed in 1.8.\n",
      "\n"
     ]
    },
    {
     "name": "stdout",
     "output_type": "stream",
     "text": [
      " ARIMA(3,0,2)(0,0,0)[0] intercept   : AIC=1947.453, Time=0.21 sec\n",
      " ARIMA(2,0,3)(0,0,0)[0] intercept   : AIC=1947.528, Time=0.13 sec\n",
      " ARIMA(1,0,1)(0,0,0)[0] intercept   : AIC=1995.083, Time=0.03 sec\n",
      " ARIMA(1,0,3)(0,0,0)[0] intercept   : AIC=1970.125, Time=0.06 sec\n"
     ]
    },
    {
     "name": "stderr",
     "output_type": "stream",
     "text": [
      "/opt/anaconda3/envs/SI/lib/python3.12/site-packages/sklearn/utils/deprecation.py:151: FutureWarning:\n",
      "\n",
      "'force_all_finite' was renamed to 'ensure_all_finite' in 1.6 and will be removed in 1.8.\n",
      "\n",
      "/opt/anaconda3/envs/SI/lib/python3.12/site-packages/sklearn/utils/deprecation.py:151: FutureWarning:\n",
      "\n",
      "'force_all_finite' was renamed to 'ensure_all_finite' in 1.6 and will be removed in 1.8.\n",
      "\n",
      "/opt/anaconda3/envs/SI/lib/python3.12/site-packages/sklearn/utils/deprecation.py:151: FutureWarning:\n",
      "\n",
      "'force_all_finite' was renamed to 'ensure_all_finite' in 1.6 and will be removed in 1.8.\n",
      "\n",
      "/opt/anaconda3/envs/SI/lib/python3.12/site-packages/sklearn/utils/deprecation.py:151: FutureWarning:\n",
      "\n",
      "'force_all_finite' was renamed to 'ensure_all_finite' in 1.6 and will be removed in 1.8.\n",
      "\n"
     ]
    },
    {
     "name": "stdout",
     "output_type": "stream",
     "text": [
      " ARIMA(3,0,1)(0,0,0)[0] intercept   : AIC=1962.445, Time=0.13 sec\n"
     ]
    },
    {
     "name": "stderr",
     "output_type": "stream",
     "text": [
      "/opt/anaconda3/envs/SI/lib/python3.12/site-packages/sklearn/utils/deprecation.py:151: FutureWarning:\n",
      "\n",
      "'force_all_finite' was renamed to 'ensure_all_finite' in 1.6 and will be removed in 1.8.\n",
      "\n"
     ]
    },
    {
     "name": "stdout",
     "output_type": "stream",
     "text": [
      " ARIMA(3,0,3)(0,0,0)[0] intercept   : AIC=1942.383, Time=0.24 sec\n",
      " ARIMA(4,0,3)(0,0,0)[0] intercept   : AIC=1938.938, Time=0.29 sec\n"
     ]
    },
    {
     "name": "stderr",
     "output_type": "stream",
     "text": [
      "/opt/anaconda3/envs/SI/lib/python3.12/site-packages/sklearn/utils/deprecation.py:151: FutureWarning:\n",
      "\n",
      "'force_all_finite' was renamed to 'ensure_all_finite' in 1.6 and will be removed in 1.8.\n",
      "\n",
      "/opt/anaconda3/envs/SI/lib/python3.12/site-packages/sklearn/utils/deprecation.py:151: FutureWarning:\n",
      "\n",
      "'force_all_finite' was renamed to 'ensure_all_finite' in 1.6 and will be removed in 1.8.\n",
      "\n"
     ]
    },
    {
     "name": "stdout",
     "output_type": "stream",
     "text": [
      " ARIMA(4,0,2)(0,0,0)[0] intercept   : AIC=1945.737, Time=0.23 sec\n"
     ]
    },
    {
     "name": "stderr",
     "output_type": "stream",
     "text": [
      "/opt/anaconda3/envs/SI/lib/python3.12/site-packages/sklearn/utils/deprecation.py:151: FutureWarning:\n",
      "\n",
      "'force_all_finite' was renamed to 'ensure_all_finite' in 1.6 and will be removed in 1.8.\n",
      "\n"
     ]
    },
    {
     "name": "stdout",
     "output_type": "stream",
     "text": [
      " ARIMA(5,0,3)(0,0,0)[0] intercept   : AIC=1940.141, Time=0.30 sec\n",
      " ARIMA(4,0,4)(0,0,0)[0] intercept   : AIC=1939.761, Time=0.32 sec\n"
     ]
    },
    {
     "name": "stderr",
     "output_type": "stream",
     "text": [
      "/opt/anaconda3/envs/SI/lib/python3.12/site-packages/sklearn/utils/deprecation.py:151: FutureWarning:\n",
      "\n",
      "'force_all_finite' was renamed to 'ensure_all_finite' in 1.6 and will be removed in 1.8.\n",
      "\n",
      "/opt/anaconda3/envs/SI/lib/python3.12/site-packages/sklearn/utils/deprecation.py:151: FutureWarning:\n",
      "\n",
      "'force_all_finite' was renamed to 'ensure_all_finite' in 1.6 and will be removed in 1.8.\n",
      "\n"
     ]
    },
    {
     "name": "stdout",
     "output_type": "stream",
     "text": [
      " ARIMA(3,0,4)(0,0,0)[0] intercept   : AIC=1943.256, Time=0.40 sec\n"
     ]
    },
    {
     "name": "stderr",
     "output_type": "stream",
     "text": [
      "/opt/anaconda3/envs/SI/lib/python3.12/site-packages/sklearn/utils/deprecation.py:151: FutureWarning:\n",
      "\n",
      "'force_all_finite' was renamed to 'ensure_all_finite' in 1.6 and will be removed in 1.8.\n",
      "\n"
     ]
    },
    {
     "name": "stdout",
     "output_type": "stream",
     "text": [
      " ARIMA(5,0,2)(0,0,0)[0] intercept   : AIC=1937.285, Time=0.31 sec\n"
     ]
    },
    {
     "name": "stderr",
     "output_type": "stream",
     "text": [
      "/opt/anaconda3/envs/SI/lib/python3.12/site-packages/sklearn/utils/deprecation.py:151: FutureWarning:\n",
      "\n",
      "'force_all_finite' was renamed to 'ensure_all_finite' in 1.6 and will be removed in 1.8.\n",
      "\n"
     ]
    },
    {
     "name": "stdout",
     "output_type": "stream",
     "text": [
      " ARIMA(5,0,1)(0,0,0)[0] intercept   : AIC=1948.801, Time=0.26 sec\n",
      " ARIMA(4,0,1)(0,0,0)[0] intercept   : AIC=1947.042, Time=0.20 sec\n"
     ]
    },
    {
     "name": "stderr",
     "output_type": "stream",
     "text": [
      "/opt/anaconda3/envs/SI/lib/python3.12/site-packages/sklearn/utils/deprecation.py:151: FutureWarning:\n",
      "\n",
      "'force_all_finite' was renamed to 'ensure_all_finite' in 1.6 and will be removed in 1.8.\n",
      "\n",
      "/opt/anaconda3/envs/SI/lib/python3.12/site-packages/sklearn/utils/deprecation.py:151: FutureWarning:\n",
      "\n",
      "'force_all_finite' was renamed to 'ensure_all_finite' in 1.6 and will be removed in 1.8.\n",
      "\n"
     ]
    },
    {
     "name": "stdout",
     "output_type": "stream",
     "text": [
      " ARIMA(5,0,2)(0,0,0)[0]             : AIC=1968.132, Time=0.28 sec\n",
      "\n",
      "Best model:  ARIMA(5,0,2)(0,0,0)[0] intercept\n",
      "Total fit time: 3.607 seconds\n",
      "                               SARIMAX Results                                \n",
      "==============================================================================\n",
      "Dep. Variable:                      y   No. Observations:                  312\n",
      "Model:               SARIMAX(5, 0, 2)   Log Likelihood                -959.642\n",
      "Date:                Sat, 03 May 2025   AIC                           1937.285\n",
      "Time:                        22:20:37   BIC                           1970.972\n",
      "Sample:                             0   HQIC                          1950.749\n",
      "                                - 312                                         \n",
      "Covariance Type:                  opg                                         \n",
      "==============================================================================\n",
      "                 coef    std err          z      P>|z|      [0.025      0.975]\n",
      "------------------------------------------------------------------------------\n",
      "intercept      9.0989      1.874      4.855      0.000       5.425      12.772\n",
      "ar.L1          0.6043      0.063      9.516      0.000       0.480       0.729\n",
      "ar.L2         -0.2253      0.067     -3.362      0.001      -0.357      -0.094\n",
      "ar.L3          0.8704      0.028     31.325      0.000       0.816       0.925\n",
      "ar.L4         -0.6967      0.050    -13.906      0.000      -0.795      -0.599\n",
      "ar.L5          0.0668      0.077      0.866      0.387      -0.084       0.218\n",
      "ma.L1          0.9133      0.027     33.529      0.000       0.860       0.967\n",
      "ma.L2          0.9599      0.027     34.930      0.000       0.906       1.014\n",
      "sigma2        26.7796      1.885     14.210      0.000      23.086      30.473\n",
      "===================================================================================\n",
      "Ljung-Box (L1) (Q):                   0.01   Jarque-Bera (JB):               138.96\n",
      "Prob(Q):                              0.93   Prob(JB):                         0.00\n",
      "Heteroskedasticity (H):               0.68   Skew:                             0.36\n",
      "Prob(H) (two-sided):                  0.05   Kurtosis:                         6.19\n",
      "===================================================================================\n",
      "\n",
      "Warnings:\n",
      "[1] Covariance matrix calculated using the outer product of gradients (complex-step).\n"
     ]
    }
   ],
   "source": [
    "stepwise_fit = auto_arima(\n",
    "    df_NP15['LMP'],\n",
    "    seasonal=True,\n",
    "    m=1,  # hourly data\n",
    "    trace=True,\n",
    "    error_action='ignore',\n",
    "    suppress_warnings=True,\n",
    "    stepwise=True\n",
    ")\n",
    "\n",
    "print(stepwise_fit.summary())"
   ]
  },
  {
   "cell_type": "code",
   "execution_count": 169,
   "id": "e7ebae56",
   "metadata": {},
   "outputs": [
    {
     "data": {
      "text/plain": [
       "<Axes: >"
      ]
     },
     "execution_count": 169,
     "metadata": {},
     "output_type": "execute_result"
    },
    {
     "data": {
      "image/png": "[encoded data removed]",
      "text/plain": [
       "<Figure size 640x480 with 1 Axes>"
      ]
     },
     "metadata": {},
     "output_type": "display_data"
    }
   ],
   "source": [
    "df_NP15['LMP'].plot()"
   ]
  },
  {
   "cell_type": "markdown",
   "id": "46135e04",
   "metadata": {},
   "source": [
    "### LSTM"
   ]
  },
  {
   "cell_type": "code",
   "execution_count": 172,
   "id": "728cd495",
   "metadata": {},
   "outputs": [],
   "source": [
    "import torch\n",
    "import torch.nn as nn\n",
    "from torch.utils.data import DataLoader, TensorDataset\n",
    "import pandas as pd\n",
    "import numpy as np\n",
    "from sklearn.preprocessing import MinMaxScaler\n",
    "import matplotlib.pyplot as plt\n"
   ]
  },
  {
   "cell_type": "code",
   "execution_count": 174,
   "id": "8aa88c42",
   "metadata": {},
   "outputs": [],
   "source": [
    "# Normalize LMP\n",
    "scaler = MinMaxScaler()\n",
    "lmp_scaled = scaler.fit_transform(df_NP15['LMP'].values.reshape(-1, 1))\n",
    "\n",
    "def create_sequences(data, n_steps):\n",
    "    X, y = [], []\n",
    "    for i in range(n_steps, len(data)):\n",
    "        X.append(data[i-n_steps:i])\n",
    "        y.append(data[i])\n",
    "    return np.array(X), np.array(y)\n",
    "\n",
    "n_steps = 24  # e.g., last 24 hours\n",
    "X, y = create_sequences(lmp_scaled, n_steps)\n",
    "\n",
    "X = torch.tensor(X, dtype=torch.float32)\n",
    "y = torch.tensor(y, dtype=torch.float32)\n",
    "\n",
    "# Train/test split\n",
    "train_size = int(0.8 * len(X))\n",
    "X_train, X_test = X[:train_size], X[train_size:]\n",
    "y_train, y_test = y[:train_size], y[train_size:]\n",
    "\n",
    "train_ds = TensorDataset(X_train, y_train)\n",
    "test_ds = TensorDataset(X_test, y_test)\n",
    "\n",
    "train_loader = DataLoader(train_ds, batch_size=32, shuffle=True)"
   ]
  },
  {
   "cell_type": "code",
   "execution_count": 175,
   "id": "770e0c29",
   "metadata": {},
   "outputs": [],
   "source": [
    "class LMP_LSTM(nn.Module):\n",
    "    def __init__(self, input_size=1, hidden_size=50, num_layers=1):\n",
    "        super(LMP_LSTM, self).__init__()\n",
    "        self.lstm = nn.LSTM(input_size, hidden_size, num_layers, batch_first=True)\n",
    "        self.fc = nn.Linear(hidden_size, 1)\n",
    "\n",
    "    def forward(self, x):\n",
    "        lstm_out, _ = self.lstm(x)\n",
    "        out = self.fc(lstm_out[:, -1, :])  # take last output\n",
    "        return out\n"
   ]
  },
  {
   "cell_type": "code",
   "execution_count": 182,
   "id": "383ecb6b",
   "metadata": {},
   "outputs": [
    {
     "name": "stdout",
     "output_type": "stream",
     "text": [
      "Epoch 5/20, Loss: 0.0700\n",
      "Epoch 10/20, Loss: 0.0396\n",
      "Epoch 15/20, Loss: 0.0164\n",
      "Epoch 20/20, Loss: 0.0299\n"
     ]
    }
   ],
   "source": [
    "model = LMP_LSTM()\n",
    "loss_fn = nn.MSELoss()\n",
    "optimizer = torch.optim.Adam(model.parameters(), lr=0.001)\n",
    "\n",
    "n_epochs = 20\n",
    "for epoch in range(n_epochs):\n",
    "    model.train()\n",
    "    for xb, yb in train_loader:\n",
    "        out = model(xb)\n",
    "        loss = loss_fn(out, yb)\n",
    "        optimizer.zero_grad()\n",
    "        loss.backward()\n",
    "        optimizer.step()\n",
    "    \n",
    "    if (epoch+1) % 5 == 0:\n",
    "        print(f\"Epoch {epoch+1}/{n_epochs}, Loss: {loss.item():.4f}\")"
   ]
  },
  {
   "cell_type": "code",
   "execution_count": 183,
   "id": "a92b04f8",
   "metadata": {},
   "outputs": [
    {
     "data": {
      "application/vnd.plotly.v1+json": {
       "config": {
        "plotlyServerURL": "https://plot.ly"
       },
       "data": [
        {
         "hovertemplate": "Type=Actual<br>Index=%{x}<br>LMP=%{y}<extra></extra>",
         "legendgroup": "Actual",
         "line": {
          "color": "#636efa",
          "dash": "solid"
         },
         "marker": {
          "symbol": "circle"
         },
         "mode": "lines",
         "name": "Actual",
         "orientation": "v",
         "showlegend": true,
         "type": "scatter",
         "x": {
          "bdata": "AAECAwQFBgcICQoLDA0ODxAREhMUFRYXGBkaGxwdHh8gISIjJCUmJygpKissLS4vMDEyMzQ1Njc4OQ==",
          "dtype": "i1"
         },
         "xaxis": "x",
         "y": {
          "bdata": "koPgQFs7I0G2gndBzczmQR3VJUJJxjhCzJozQi4dJkJQ4hxCEFQQQpuJCkKrivVBI47xQboB9EEmI/VBLtkQQsSuGEJPV+tBtqt0QTRcLkG30QFBGFbjQMjq1EDFZOFAoU/yQNWyB0ETEkdB7hS9QSKGHkKzByxCRUcsQgWOH0LgghJC+3wLQuEcCEKtSQNCHzjxQXrT7UFb2OlBMfYLQp6qFUL+CMpB/Js8QWWgzkCMhk4/6Ey+vRg0+L8/kSPASkO3vz/gXD7HnnY/vQwiQYTqCUItihVCmbMaQmBNEUIl8QZCvdb/QQ==",
          "dtype": "f4"
         },
         "yaxis": "y"
        },
        {
         "hovertemplate": "Type=Predicted<br>Index=%{x}<br>LMP=%{y}<extra></extra>",
         "legendgroup": "Predicted",
         "line": {
          "color": "#EF553B",
          "dash": "solid"
         },
         "marker": {
          "symbol": "circle"
         },
         "mode": "lines",
         "name": "Predicted",
         "orientation": "v",
         "showlegend": true,
         "type": "scatter",
         "x": {
          "bdata": "AAECAwQFBgcICQoLDA0ODxAREhMUFRYXGBkaGxwdHh8gISIjJCUmJygpKissLS4vMDEyMzQ1Njc4OQ==",
          "dtype": "i1"
         },
         "xaxis": "x",
         "y": {
          "bdata": "5/kiQUChPkEe3GlBun2RQWGoukEsXOtBtwIMQvGnG0JcAyNC4tIiQu6RG0I2xw9C0Hz/QaLN3kECwcFBCRSqQZzRnkFURZtBmIeSQSH4fEEafFhB0Ig/QTBCNkGIrTxBQgtRQcsjb0EhwYlBKHygQexdwUFeK+9BeysMQo09G0KXVyJCt5UhQincGkLYDRBCJ6MCQomK5kHOoclBsu2wQX9bpEHh959Bo3ySQegmdkEtn0pBMXkmQR1UFkEb2xZBhyonQQh0RkE/iHBB5gePQRuVrkF0S+VBor8LQpr0H0IoYixCLaIwQg==",
          "dtype": "f4"
         },
         "yaxis": "y"
        }
       ],
       "layout": {
        "legend": {
         "title": {
          "text": "Type"
         },
         "tracegroupgap": 0
        },
        "template": {
         "data": {
          "bar": [
           {
            "error_x": {
             "color": "#2a3f5f"
            },
            "error_y": {
             "color": "#2a3f5f"
            },
            "marker": {
             "line": {
              "color": "#E5ECF6",
              "width": 0.5
             },
             "pattern": {
              "fillmode": "overlay",
              "size": 10,
              "solidity": 0.2
             }
            },
            "type": "bar"
           }
          ],
          "barpolar": [
           {
            "marker": {
             "line": {
              "color": "#E5ECF6",
              "width": 0.5
             },
             "pattern": {
              "fillmode": "overlay",
              "size": 10,
              "solidity": 0.2
             }
            },
            "type": "barpolar"
           }
          ],
          "carpet": [
           {
            "aaxis": {
             "endlinecolor": "#2a3f5f",
             "gridcolor": "white",
             "linecolor": "white",
             "minorgridcolor": "white",
             "startlinecolor": "#2a3f5f"
            },
            "baxis": {
             "endlinecolor": "#2a3f5f",
             "gridcolor": "white",
             "linecolor": "white",
             "minorgridcolor": "white",
             "startlinecolor": "#2a3f5f"
            },
            "type": "carpet"
           }
          ],
          "choropleth": [
           {
            "colorbar": {
             "outlinewidth": 0,
             "ticks": ""
            },
            "type": "choropleth"
           }
          ],
          "contour": [
           {
            "colorbar": {
             "outlinewidth": 0,
             "ticks": ""
            },
            "colorscale": [
             [
              0,
              "#0d0887"
             ],
             [
              0.1111111111111111,
              "#46039f"
             ],
             [
              0.2222222222222222,
              "#7201a8"
             ],
             [
              0.3333333333333333,
              "#9c179e"
             ],
             [
              0.4444444444444444,
              "#bd3786"
             ],
             [
              0.5555555555555556,
              "#d8576b"
             ],
             [
              0.6666666666666666,
              "#ed7953"
             ],
             [
              0.7777777777777778,
              "#fb9f3a"
             ],
             [
              0.8888888888888888,
              "#fdca26"
             ],
             [
              1,
              "#f0f921"
             ]
            ],
            "type": "contour"
           }
          ],
          "contourcarpet": [
           {
            "colorbar": {
             "outlinewidth": 0,
             "ticks": ""
            },
            "type": "contourcarpet"
           }
          ],
          "heatmap": [
           {
            "colorbar": {
             "outlinewidth": 0,
             "ticks": ""
            },
            "colorscale": [
             [
              0,
              "#0d0887"
             ],
             [
              0.1111111111111111,
              "#46039f"
             ],
             [
              0.2222222222222222,
              "#7201a8"
             ],
             [
              0.3333333333333333,
              "#9c179e"
             ],
             [
              0.4444444444444444,
              "#bd3786"
             ],
             [
              0.5555555555555556,
              "#d8576b"
             ],
             [
              0.6666666666666666,
              "#ed7953"
             ],
             [
              0.7777777777777778,
              "#fb9f3a"
             ],
             [
              0.8888888888888888,
              "#fdca26"
             ],
             [
              1,
              "#f0f921"
             ]
            ],
            "type": "heatmap"
           }
          ],
          "histogram": [
           {
            "marker": {
             "pattern": {
              "fillmode": "overlay",
              "size": 10,
              "solidity": 0.2
             }
            },
            "type": "histogram"
           }
          ],
          "histogram2d": [
           {
            "colorbar": {
             "outlinewidth": 0,
             "ticks": ""
            },
            "colorscale": [
             [
              0,
              "#0d0887"
             ],
             [
              0.1111111111111111,
              "#46039f"
             ],
             [
              0.2222222222222222,
              "#7201a8"
             ],
             [
              0.3333333333333333,
              "#9c179e"
             ],
             [
              0.4444444444444444,
              "#bd3786"
             ],
             [
              0.5555555555555556,
              "#d8576b"
             ],
             [
              0.6666666666666666,
              "#ed7953"
             ],
             [
              0.7777777777777778,
              "#fb9f3a"
             ],
             [
              0.8888888888888888,
              "#fdca26"
             ],
             [
              1,
              "#f0f921"
             ]
            ],
            "type": "histogram2d"
           }
          ],
          "histogram2dcontour": [
           {
            "colorbar": {
             "outlinewidth": 0,
             "ticks": ""
            },
            "colorscale": [
             [
              0,
              "#0d0887"
             ],
             [
              0.1111111111111111,
              "#46039f"
             ],
             [
              0.2222222222222222,
              "#7201a8"
             ],
             [
              0.3333333333333333,
              "#9c179e"
             ],
             [
              0.4444444444444444,
              "#bd3786"
             ],
             [
              0.5555555555555556,
              "#d8576b"
             ],
             [
              0.6666666666666666,
              "#ed7953"
             ],
             [
              0.7777777777777778,
              "#fb9f3a"
             ],
             [
              0.8888888888888888,
              "#fdca26"
             ],
             [
              1,
              "#f0f921"
             ]
            ],
            "type": "histogram2dcontour"
           }
          ],
          "mesh3d": [
           {
            "colorbar": {
             "outlinewidth": 0,
             "ticks": ""
            },
            "type": "mesh3d"
           }
          ],
          "parcoords": [
           {
            "line": {
             "colorbar": {
              "outlinewidth": 0,
              "ticks": ""
             }
            },
            "type": "parcoords"
           }
          ],
          "pie": [
           {
            "automargin": true,
            "type": "pie"
           }
          ],
          "scatter": [
           {
            "fillpattern": {
             "fillmode": "overlay",
             "size": 10,
             "solidity": 0.2
            },
            "type": "scatter"
           }
          ],
          "scatter3d": [
           {
            "line": {
             "colorbar": {
              "outlinewidth": 0,
              "ticks": ""
             }
            },
            "marker": {
             "colorbar": {
              "outlinewidth": 0,
              "ticks": ""
             }
            },
            "type": "scatter3d"
           }
          ],
          "scattercarpet": [
           {
            "marker": {
             "colorbar": {
              "outlinewidth": 0,
              "ticks": ""
             }
            },
            "type": "scattercarpet"
           }
          ],
          "scattergeo": [
           {
            "marker": {
             "colorbar": {
              "outlinewidth": 0,
              "ticks": ""
             }
            },
            "type": "scattergeo"
           }
          ],
          "scattergl": [
           {
            "marker": {
             "colorbar": {
              "outlinewidth": 0,
              "ticks": ""
             }
            },
            "type": "scattergl"
           }
          ],
          "scattermap": [
           {
            "marker": {
             "colorbar": {
              "outlinewidth": 0,
              "ticks": ""
             }
            },
            "type": "scattermap"
           }
          ],
          "scattermapbox": [
           {
            "marker": {
             "colorbar": {
              "outlinewidth": 0,
              "ticks": ""
             }
            },
            "type": "scattermapbox"
           }
          ],
          "scatterpolar": [
           {
            "marker": {
             "colorbar": {
              "outlinewidth": 0,
              "ticks": ""
             }
            },
            "type": "scatterpolar"
           }
          ],
          "scatterpolargl": [
           {
            "marker": {
             "colorbar": {
              "outlinewidth": 0,
              "ticks": ""
             }
            },
            "type": "scatterpolargl"
           }
          ],
          "scatterternary": [
           {
            "marker": {
             "colorbar": {
              "outlinewidth": 0,
              "ticks": ""
             }
            },
            "type": "scatterternary"
           }
          ],
          "surface": [
           {
            "colorbar": {
             "outlinewidth": 0,
             "ticks": ""
            },
            "colorscale": [
             [
              0,
              "#0d0887"
             ],
             [
              0.1111111111111111,
              "#46039f"
             ],
             [
              0.2222222222222222,
              "#7201a8"
             ],
             [
              0.3333333333333333,
              "#9c179e"
             ],
             [
              0.4444444444444444,
              "#bd3786"
             ],
             [
              0.5555555555555556,
              "#d8576b"
             ],
             [
              0.6666666666666666,
              "#ed7953"
             ],
             [
              0.7777777777777778,
              "#fb9f3a"
             ],
             [
              0.8888888888888888,
              "#fdca26"
             ],
             [
              1,
              "#f0f921"
             ]
            ],
            "type": "surface"
           }
          ],
          "table": [
           {
            "cells": {
             "fill": {
              "color": "#EBF0F8"
             },
             "line": {
              "color": "white"
             }
            },
            "header": {
             "fill": {
              "color": "#C8D4E3"
             },
             "line": {
              "color": "white"
             }
            },
            "type": "table"
           }
          ]
         },
         "layout": {
          "annotationdefaults": {
           "arrowcolor": "#2a3f5f",
           "arrowhead": 0,
           "arrowwidth": 1
          },
          "autotypenumbers": "strict",
          "coloraxis": {
           "colorbar": {
            "outlinewidth": 0,
            "ticks": ""
           }
          },
          "colorscale": {
           "diverging": [
            [
             0,
             "#8e0152"
            ],
            [
             0.1,
             "#c51b7d"
            ],
            [
             0.2,
             "#de77ae"
            ],
            [
             0.3,
             "#f1b6da"
            ],
            [
             0.4,
             "#fde0ef"
            ],
            [
             0.5,
             "#f7f7f7"
            ],
            [
             0.6,
             "#e6f5d0"
            ],
            [
             0.7,
             "#b8e186"
            ],
            [
             0.8,
             "#7fbc41"
            ],
            [
             0.9,
             "#4d9221"
            ],
            [
             1,
             "#276419"
            ]
           ],
           "sequential": [
            [
             0,
             "#0d0887"
            ],
            [
             0.1111111111111111,
             "#46039f"
            ],
            [
             0.2222222222222222,
             "#7201a8"
            ],
            [
             0.3333333333333333,
             "#9c179e"
            ],
            [
             0.4444444444444444,
             "#bd3786"
            ],
            [
             0.5555555555555556,
             "#d8576b"
            ],
            [
             0.6666666666666666,
             "#ed7953"
            ],
            [
             0.7777777777777778,
             "#fb9f3a"
            ],
            [
             0.8888888888888888,
             "#fdca26"
            ],
            [
             1,
             "#f0f921"
            ]
           ],
           "sequentialminus": [
            [
             0,
             "#0d0887"
            ],
            [
             0.1111111111111111,
             "#46039f"
            ],
            [
             0.2222222222222222,
             "#7201a8"
            ],
            [
             0.3333333333333333,
             "#9c179e"
            ],
            [
             0.4444444444444444,
             "#bd3786"
            ],
            [
             0.5555555555555556,
             "#d8576b"
            ],
            [
             0.6666666666666666,
             "#ed7953"
            ],
            [
             0.7777777777777778,
             "#fb9f3a"
            ],
            [
             0.8888888888888888,
             "#fdca26"
            ],
            [
             1,
             "#f0f921"
            ]
           ]
          },
          "colorway": [
           "#636efa",
           "#EF553B",
           "#00cc96",
           "#ab63fa",
           "#FFA15A",
           "#19d3f3",
           "#FF6692",
           "#B6E880",
           "#FF97FF",
           "#FECB52"
          ],
          "font": {
           "color": "#2a3f5f"
          },
          "geo": {
           "bgcolor": "white",
           "lakecolor": "white",
           "landcolor": "#E5ECF6",
           "showlakes": true,
           "showland": true,
           "subunitcolor": "white"
          },
          "hoverlabel": {
           "align": "left"
          },
          "hovermode": "closest",
          "mapbox": {
           "style": "light"
          },
          "paper_bgcolor": "white",
          "plot_bgcolor": "#E5ECF6",
          "polar": {
           "angularaxis": {
            "gridcolor": "white",
            "linecolor": "white",
            "ticks": ""
           },
           "bgcolor": "#E5ECF6",
           "radialaxis": {
            "gridcolor": "white",
            "linecolor": "white",
            "ticks": ""
           }
          },
          "scene": {
           "xaxis": {
            "backgroundcolor": "#E5ECF6",
            "gridcolor": "white",
            "gridwidth": 2,
            "linecolor": "white",
            "showbackground": true,
            "ticks": "",
            "zerolinecolor": "white"
           },
           "yaxis": {
            "backgroundcolor": "#E5ECF6",
            "gridcolor": "white",
            "gridwidth": 2,
            "linecolor": "white",
            "showbackground": true,
            "ticks": "",
            "zerolinecolor": "white"
           },
           "zaxis": {
            "backgroundcolor": "#E5ECF6",
            "gridcolor": "white",
            "gridwidth": 2,
            "linecolor": "white",
            "showbackground": true,
            "ticks": "",
            "zerolinecolor": "white"
           }
          },
          "shapedefaults": {
           "line": {
            "color": "#2a3f5f"
           }
          },
          "ternary": {
           "aaxis": {
            "gridcolor": "white",
            "linecolor": "white",
            "ticks": ""
           },
           "baxis": {
            "gridcolor": "white",
            "linecolor": "white",
            "ticks": ""
           },
           "bgcolor": "#E5ECF6",
           "caxis": {
            "gridcolor": "white",
            "linecolor": "white",
            "ticks": ""
           }
          },
          "title": {
           "x": 0.05
          },
          "xaxis": {
           "automargin": true,
           "gridcolor": "white",
           "linecolor": "white",
           "ticks": "",
           "title": {
            "standoff": 15
           },
           "zerolinecolor": "white",
           "zerolinewidth": 2
          },
          "yaxis": {
           "automargin": true,
           "gridcolor": "white",
           "linecolor": "white",
           "ticks": "",
           "title": {
            "standoff": 15
           },
           "zerolinecolor": "white",
           "zerolinewidth": 2
          }
         }
        },
        "title": {
         "text": "LMP Forecast with PyTorch LSTM"
        },
        "xaxis": {
         "anchor": "y",
         "domain": [
          0,
          1
         ],
         "title": {
          "text": "Index"
         }
        },
        "yaxis": {
         "anchor": "x",
         "domain": [
          0,
          1
         ],
         "title": {
          "text": "LMP"
         }
        }
       }
      }
     },
     "metadata": {},
     "output_type": "display_data"
    }
   ],
   "source": [
    "model.eval()\n",
    "with torch.no_grad():\n",
    "    pred = model(X_test).numpy()\n",
    "    actual = y_test.numpy()\n",
    "\n",
    "    pred_inv = scaler.inverse_transform(pred)\n",
    "    actual_inv = scaler.inverse_transform(actual.reshape(-1, 1))\n",
    "\n",
    "\n",
    "# Build DataFrame\n",
    "df_plot = pd.DataFrame({\n",
    "    'Actual': actual_inv.flatten(),\n",
    "    'Predicted': pred_inv.flatten(),\n",
    "    'Index': range(len(actual_inv))\n",
    "})\n",
    "\n",
    "# Melt for plotting multiple lines\n",
    "df_melt = df_plot.melt(id_vars='Index', value_vars=['Actual', 'Predicted'], \n",
    "                       var_name='Type', value_name='LMP')\n",
    "\n",
    "# Plot\n",
    "fig = px.line(df_melt, x='Index', y='LMP', color='Type', \n",
    "              title=\"LMP Forecast with PyTorch LSTM\")\n",
    "\n",
    "fig.show()"
   ]
  },
  {
   "cell_type": "markdown",
   "id": "e4f32838",
   "metadata": {},
   "source": [
    "## Regression"
   ]
  },
  {
   "cell_type": "code",
   "execution_count": 165,
   "id": "0d87bebd",
   "metadata": {},
   "outputs": [],
   "source": [
    "from sklearn.pipeline import Pipeline\n",
    "from sklearn.model_selection import train_test_split, GridSearchCV\n",
    "from sklearn.impute import SimpleImputer\n",
    "from sklearn.compose import ColumnTransformer\n",
    "from sklearn.preprocessing import OneHotEncoder, StandardScaler\n",
    "from sklearn.decomposition import PCA\n",
    "from sklearn.cluster import KMeans\n",
    "from sklearn.metrics import mean_squared_error\n",
    "from sklearn.metrics.pairwise import cosine_similarity\n",
    "from sklearn.linear_model import LogisticRegression\n",
    "from sklearn.neural_network import MLPRegressor\n",
    "from sklearn.neighbors import KNeighborsRegressor\n",
    "from sklearn.tree import DecisionTreeRegressor\n",
    "from sklearn.ensemble import RandomForestRegressor, AdaBoostRegressor, VotingRegressor\n",
    "from sklearn.naive_bayes import GaussianNB\n",
    "from sklearn.svm import SVR\n",
    "from sklearn.gaussian_process import GaussianProcessRegressor\n",
    "from lightgbm import LGBMRegressor"
   ]
  },
  {
   "cell_type": "code",
   "execution_count": 167,
   "id": "209b3ade",
   "metadata": {},
   "outputs": [
    {
     "name": "stderr",
     "output_type": "stream",
     "text": [
      "/opt/anaconda3/envs/SI/lib/python3.12/site-packages/sklearn/neural_network/_multilayer_perceptron.py:691: ConvergenceWarning:\n",
      "\n",
      "Stochastic Optimizer: Maximum iterations (1000) reached and the optimization hasn't converged yet.\n",
      "\n"
     ]
    },
    {
     "name": "stdout",
     "output_type": "stream",
     "text": [
      "MLP regressor: 95.34% accuracy\n",
      "KNN regressor: 93.51% accuracy\n",
      "SVR(linear): 91.78% accuracy\n",
      "Decision Tree: 91.19% accuracy\n",
      "Random Forest: 94.81% accuracy\n",
      "AdaBoost: 92.90% accuracy\n",
      "[LightGBM] [Info] Auto-choosing col-wise multi-threading, the overhead of testing was 0.000028 seconds.\n",
      "You can set `force_col_wise=true` to remove the overhead.\n",
      "[LightGBM] [Info] Total Bins 421\n",
      "[LightGBM] [Info] Number of data points in the train set: 249, number of used features: 5\n",
      "[LightGBM] [Info] Start training from score 23.496650\n",
      "[LightGBM] [Warning] No further splits with positive gain, best gain: -inf\n",
      "[LightGBM] [Warning] No further splits with positive gain, best gain: -inf\n",
      "[LightGBM] [Warning] No further splits with positive gain, best gain: -inf\n",
      "[LightGBM] [Warning] No further splits with positive gain, best gain: -inf\n",
      "[LightGBM] [Warning] No further splits with positive gain, best gain: -inf\n",
      "[LightGBM] [Warning] No further splits with positive gain, best gain: -inf\n",
      "[LightGBM] [Warning] No further splits with positive gain, best gain: -inf\n",
      "[LightGBM] [Warning] No further splits with positive gain, best gain: -inf\n",
      "[LightGBM] [Warning] No further splits with positive gain, best gain: -inf\n",
      "[LightGBM] [Warning] No further splits with positive gain, best gain: -inf\n",
      "[LightGBM] [Warning] No further splits with positive gain, best gain: -inf\n",
      "[LightGBM] [Warning] No further splits with positive gain, best gain: -inf\n",
      "[LightGBM] [Warning] No further splits with positive gain, best gain: -inf\n",
      "[LightGBM] [Warning] No further splits with positive gain, best gain: -inf\n",
      "[LightGBM] [Warning] No further splits with positive gain, best gain: -inf\n",
      "[LightGBM] [Warning] No further splits with positive gain, best gain: -inf\n",
      "[LightGBM] [Warning] No further splits with positive gain, best gain: -inf\n",
      "[LightGBM] [Warning] No further splits with positive gain, best gain: -inf\n",
      "[LightGBM] [Warning] No further splits with positive gain, best gain: -inf\n",
      "[LightGBM] [Warning] No further splits with positive gain, best gain: -inf\n",
      "[LightGBM] [Warning] No further splits with positive gain, best gain: -inf\n",
      "[LightGBM] [Warning] No further splits with positive gain, best gain: -inf\n",
      "[LightGBM] [Warning] No further splits with positive gain, best gain: -inf\n",
      "[LightGBM] [Warning] No further splits with positive gain, best gain: -inf\n",
      "[LightGBM] [Warning] No further splits with positive gain, best gain: -inf\n",
      "[LightGBM] [Warning] No further splits with positive gain, best gain: -inf\n",
      "[LightGBM] [Warning] No further splits with positive gain, best gain: -inf\n",
      "[LightGBM] [Warning] No further splits with positive gain, best gain: -inf\n",
      "[LightGBM] [Warning] No further splits with positive gain, best gain: -inf\n",
      "[LightGBM] [Warning] No further splits with positive gain, best gain: -inf\n",
      "[LightGBM] [Warning] No further splits with positive gain, best gain: -inf\n",
      "[LightGBM] [Warning] No further splits with positive gain, best gain: -inf\n",
      "[LightGBM] [Warning] No further splits with positive gain, best gain: -inf\n",
      "[LightGBM] [Warning] No further splits with positive gain, best gain: -inf\n",
      "[LightGBM] [Warning] No further splits with positive gain, best gain: -inf\n",
      "[LightGBM] [Warning] No further splits with positive gain, best gain: -inf\n",
      "[LightGBM] [Warning] No further splits with positive gain, best gain: -inf\n",
      "[LightGBM] [Warning] No further splits with positive gain, best gain: -inf\n",
      "[LightGBM] [Warning] No further splits with positive gain, best gain: -inf\n",
      "[LightGBM] [Warning] No further splits with positive gain, best gain: -inf\n",
      "[LightGBM] [Warning] No further splits with positive gain, best gain: -inf\n",
      "[LightGBM] [Warning] No further splits with positive gain, best gain: -inf\n",
      "[LightGBM] [Warning] No further splits with positive gain, best gain: -inf\n",
      "[LightGBM] [Warning] No further splits with positive gain, best gain: -inf\n",
      "[LightGBM] [Warning] No further splits with positive gain, best gain: -inf\n",
      "[LightGBM] [Warning] No further splits with positive gain, best gain: -inf\n",
      "[LightGBM] [Warning] No further splits with positive gain, best gain: -inf\n",
      "[LightGBM] [Warning] No further splits with positive gain, best gain: -inf\n",
      "[LightGBM] [Warning] No further splits with positive gain, best gain: -inf\n",
      "[LightGBM] [Warning] No further splits with positive gain, best gain: -inf\n",
      "[LightGBM] [Warning] No further splits with positive gain, best gain: -inf\n",
      "[LightGBM] [Warning] No further splits with positive gain, best gain: -inf\n",
      "[LightGBM] [Warning] No further splits with positive gain, best gain: -inf\n",
      "[LightGBM] [Warning] No further splits with positive gain, best gain: -inf\n",
      "[LightGBM] [Warning] No further splits with positive gain, best gain: -inf\n",
      "[LightGBM] [Warning] No further splits with positive gain, best gain: -inf\n",
      "[LightGBM] [Warning] No further splits with positive gain, best gain: -inf\n",
      "[LightGBM] [Warning] No further splits with positive gain, best gain: -inf\n",
      "[LightGBM] [Warning] No further splits with positive gain, best gain: -inf\n",
      "[LightGBM] [Warning] No further splits with positive gain, best gain: -inf\n",
      "[LightGBM] [Warning] No further splits with positive gain, best gain: -inf\n",
      "[LightGBM] [Warning] No further splits with positive gain, best gain: -inf\n",
      "[LightGBM] [Warning] No further splits with positive gain, best gain: -inf\n",
      "[LightGBM] [Warning] No further splits with positive gain, best gain: -inf\n",
      "[LightGBM] [Warning] No further splits with positive gain, best gain: -inf\n",
      "[LightGBM] [Warning] No further splits with positive gain, best gain: -inf\n",
      "[LightGBM] [Warning] No further splits with positive gain, best gain: -inf\n",
      "[LightGBM] [Warning] No further splits with positive gain, best gain: -inf\n",
      "[LightGBM] [Warning] No further splits with positive gain, best gain: -inf\n",
      "[LightGBM] [Warning] No further splits with positive gain, best gain: -inf\n",
      "[LightGBM] [Warning] No further splits with positive gain, best gain: -inf\n",
      "[LightGBM] [Warning] No further splits with positive gain, best gain: -inf\n",
      "[LightGBM] [Warning] No further splits with positive gain, best gain: -inf\n",
      "[LightGBM] [Warning] No further splits with positive gain, best gain: -inf\n",
      "[LightGBM] [Warning] No further splits with positive gain, best gain: -inf\n",
      "[LightGBM] [Warning] No further splits with positive gain, best gain: -inf\n",
      "[LightGBM] [Warning] No further splits with positive gain, best gain: -inf\n",
      "[LightGBM] [Warning] No further splits with positive gain, best gain: -inf\n",
      "[LightGBM] [Warning] No further splits with positive gain, best gain: -inf\n",
      "[LightGBM] [Warning] No further splits with positive gain, best gain: -inf\n",
      "[LightGBM] [Warning] No further splits with positive gain, best gain: -inf\n",
      "[LightGBM] [Warning] No further splits with positive gain, best gain: -inf\n",
      "[LightGBM] [Warning] No further splits with positive gain, best gain: -inf\n",
      "[LightGBM] [Warning] No further splits with positive gain, best gain: -inf\n",
      "[LightGBM] [Warning] No further splits with positive gain, best gain: -inf\n",
      "[LightGBM] [Warning] No further splits with positive gain, best gain: -inf\n",
      "[LightGBM] [Warning] No further splits with positive gain, best gain: -inf\n",
      "[LightGBM] [Warning] No further splits with positive gain, best gain: -inf\n",
      "[LightGBM] [Warning] No further splits with positive gain, best gain: -inf\n",
      "[LightGBM] [Warning] No further splits with positive gain, best gain: -inf\n",
      "[LightGBM] [Warning] No further splits with positive gain, best gain: -inf\n",
      "[LightGBM] [Warning] No further splits with positive gain, best gain: -inf\n",
      "[LightGBM] [Warning] No further splits with positive gain, best gain: -inf\n",
      "[LightGBM] [Warning] No further splits with positive gain, best gain: -inf\n",
      "[LightGBM] [Warning] No further splits with positive gain, best gain: -inf\n",
      "[LightGBM] [Warning] No further splits with positive gain, best gain: -inf\n",
      "[LightGBM] [Warning] No further splits with positive gain, best gain: -inf\n",
      "[LightGBM] [Warning] No further splits with positive gain, best gain: -inf\n",
      "[LightGBM] [Warning] No further splits with positive gain, best gain: -inf\n",
      "[LightGBM] [Warning] No further splits with positive gain, best gain: -inf\n",
      "LightGBM: 95.76% accuracy\n"
     ]
    },
    {
     "name": "stderr",
     "output_type": "stream",
     "text": [
      "/opt/anaconda3/envs/SI/lib/python3.12/site-packages/sklearn/utils/validation.py:2739: UserWarning:\n",
      "\n",
      "X does not have valid feature names, but LGBMRegressor was fitted with feature names\n",
      "\n"
     ]
    }
   ],
   "source": [
    "# split the train and test set and preprocess, apply the classifier\n",
    "X_train, X_test, y_train, y_test = train_test_split(\n",
    "    df_NP15.drop(['Time', 'Market', 'Location', 'LMP', 'Coal', 'Other'], axis=1), \n",
    "    df_NP15['LMP'], \n",
    "    test_size=0.2, \n",
    "    random_state=42)  \n",
    "\n",
    "num_pipeline = Pipeline([\n",
    "    ('impute',SimpleImputer(strategy='median')), # median\n",
    "    ('scale',StandardScaler()),\n",
    "    ('pca', PCA(n_components=5))\n",
    "    ])\n",
    "\n",
    "\n",
    "preprocessing_pipeline = ColumnTransformer([\n",
    "    ('num', num_pipeline, ['Solar', 'Wind', 'Geothermal', 'Biomass',\n",
    "       'Biogas', 'Small Hydro', 'Nuclear', 'Natural Gas',\n",
    "       'Large Hydro', 'Batteries', 'Imports', 'Load'])\n",
    "    ])\n",
    "\n",
    "X_train_prepared = preprocessing_pipeline.fit_transform(X_train)\n",
    "X_test_prepared = preprocessing_pipeline.transform(X_test)\n",
    "\n",
    "regressors = {                         \n",
    "    \"MLP regressor\": MLPRegressor(hidden_layer_sizes=(100, 50), max_iter=1000, random_state=42), \n",
    "    \"KNN regressor\": KNeighborsRegressor(n_neighbors=5),                                         \n",
    "    \"SVR(linear)\": SVR(kernel='linear', C=0.025),                                                          \n",
    "    \"Decision Tree\": DecisionTreeRegressor(random_state=42),                                           \n",
    "    \"Random Forest\": RandomForestRegressor(n_estimators=200, random_state=42),         \n",
    "    \"AdaBoost\": AdaBoostRegressor(n_estimators=100, random_state=42), \n",
    "    \"LightGBM\": LGBMRegressor(n_estimators=100, learning_rate=0.05, random_state=42),                                                                                            \n",
    "}\n",
    "\n",
    "# Train and evaluate each classifier\n",
    "for name, clf in regressors.items():\n",
    "    clf.fit(X_train_prepared, y_train)\n",
    "    score = clf.score(X_test_prepared, y_test)\n",
    "    print(f\"{name}: {score:.2%} accuracy\")"
   ]
  }
 ],
 "metadata": {
  "kernelspec": {
   "display_name": "SI",
   "language": "python",
   "name": "python3"
  },
  "language_info": {
   "codemirror_mode": {
    "name": "ipython",
    "version": 3
   },
   "file_extension": ".py",
   "mimetype": "text/x-python",
   "name": "python",
   "nbconvert_exporter": "python",
   "pygments_lexer": "ipython3",
   "version": "3.12.2"
  }
 },
 "nbformat": 4,
 "nbformat_minor": 5
}
